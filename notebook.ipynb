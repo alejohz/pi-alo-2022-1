{
 "cells": [
  {
   "cell_type": "markdown",
   "metadata": {
    "cell_id": "0dc5b3328b7d46e48370766c757fe4d9",
    "deepnote_cell_height": 108.390625,
    "deepnote_cell_type": "markdown",
    "owner_user_id": "1f347a2d-3669-4723-9546-22476867869b",
    "tags": []
   },
   "source": [
    "## Integrator\n",
    "Alejandro Barrientos - Luis Miguel Caicedo - Alejandro Henao"
   ]
  },
  {
   "cell_type": "markdown",
   "metadata": {
    "cell_id": "f38c4ed3b6f943c793e0b84cd75b2543",
    "deepnote_cell_height": 175.59375,
    "deepnote_cell_type": "markdown",
    "tags": []
   },
   "source": [
    "## Business Problem\n",
    "It is vital that credit card companies are able to\n",
    "identify fraudulent credit card transactions so that customers\n",
    "are not charged for items that they did not purchase. Such\n",
    "problems can be tackled with Data Science and its importance,\n",
    "along with Machine Learning, cannot be overstated. This\n",
    "project intends to illustrate the modelling of a data set using\n",
    "machine learning with Credit Card Fraud Detection."
   ]
  },
  {
   "cell_type": "markdown",
   "metadata": {
    "cell_id": "b4a04736a73946ffa5171361fe017e73",
    "deepnote_cell_height": 70,
    "deepnote_cell_type": "markdown",
    "tags": []
   },
   "source": [
    "## Importing modules"
   ]
  },
  {
   "cell_type": "code",
   "execution_count": null,
   "metadata": {
    "cell_id": "e75df1f3b3734f269aeeda79b9f9f91f",
    "deepnote_cell_height": 675,
    "deepnote_cell_type": "code",
    "deepnote_to_be_reexecuted": false,
    "execution_millis": 2439,
    "execution_start": 1655337094424,
    "is_code_hidden": false,
    "source_hash": "56707ed",
    "tags": []
   },
   "outputs": [],
   "source": [
    "# Useful\n",
    "import numpy as np\n",
    "import pandas as pd\n",
    "import matplotlib.pyplot as plt\n",
    "import seaborn as sns\n",
    "from matplotlib import gridspec\n",
    "\n",
    "#sklearn\n",
    "\n",
    "# Create the cross validation framework \n",
    "from sklearn.model_selection import StratifiedKFold\n",
    "from sklearn.model_selection import GridSearchCV, cross_val_score, RandomizedSearchCV\n",
    "from sklearn.preprocessing import RobustScaler\n",
    "from sklearn.metrics import recall_score\n",
    "from sklearn.metrics import accuracy_score\n",
    "from sklearn.metrics import precision_score\n",
    "from sklearn.metrics import f1_score\n",
    "\n",
    "# Classifier\n",
    "from sklearn.tree import DecisionTreeClassifier\n",
    "from sklearn.ensemble import RandomForestClassifier\n",
    "from sklearn.ensemble import AdaBoostClassifier\n",
    "\n",
    "#imblearn\n",
    "from imblearn.pipeline import Pipeline, make_pipeline\n",
    "from imblearn.under_sampling import TomekLinks\n",
    "from imblearn.over_sampling import SMOTE\n",
    "\n",
    "#xgboost\n",
    "import xgboost as xgb\n",
    "\n",
    "# Warnings\n",
    "import warnings\n",
    "warnings.simplefilter(action='ignore', category=FutureWarning)"
   ]
  },
  {
   "cell_type": "markdown",
   "metadata": {
    "cell_id": "f97ca962bcf6456a89972e01aa3a63b3",
    "deepnote_cell_height": 70,
    "deepnote_cell_type": "markdown",
    "tags": []
   },
   "source": [
    "## Reading file"
   ]
  },
  {
   "cell_type": "code",
   "execution_count": null,
   "metadata": {
    "cell_id": "8770dd44547645dea8ffb79ee833ce7a",
    "deepnote_cell_height": 670.796875,
    "deepnote_cell_type": "code",
    "deepnote_to_be_reexecuted": false,
    "execution_millis": 2058,
    "execution_start": 1655337096868,
    "owner_user_id": "9a1acff9-6a58-4260-b308-48b6a2e23402",
    "source_hash": "93c05f13",
    "tags": []
   },
   "outputs": [
    {
     "data": {
      "application/vnd.deepnote.dataframe.v3+json": {
       "column_count": 31,
       "columns": [
        {
         "dtype": "float64",
         "name": "Time",
         "stats": {
          "histogram": [
           {
            "bin_end": 17279.2,
            "bin_start": 0,
            "count": 5
           },
           {
            "bin_end": 34558.4,
            "bin_start": 17279.2,
            "count": 0
           },
           {
            "bin_end": 51837.600000000006,
            "bin_start": 34558.4,
            "count": 0
           },
           {
            "bin_end": 69116.8,
            "bin_start": 51837.600000000006,
            "count": 0
           },
           {
            "bin_end": 86396,
            "bin_start": 69116.8,
            "count": 0
           },
           {
            "bin_end": 103675.20000000001,
            "bin_start": 86396,
            "count": 0
           },
           {
            "bin_end": 120954.40000000001,
            "bin_start": 103675.20000000001,
            "count": 0
           },
           {
            "bin_end": 138233.6,
            "bin_start": 120954.40000000001,
            "count": 0
           },
           {
            "bin_end": 155512.80000000002,
            "bin_start": 138233.6,
            "count": 0
           },
           {
            "bin_end": 172792,
            "bin_start": 155512.80000000002,
            "count": 5
           }
          ],
          "max": "172792.0",
          "min": "0.0",
          "nan_count": 0,
          "unique_count": 7
         }
        },
        {
         "dtype": "float64",
         "name": "V1",
         "stats": {
          "histogram": [
           {
            "bin_end": -10.501049595909022,
            "bin_start": -11.8811178854323,
            "count": 1
           },
           {
            "bin_end": -9.120981306385744,
            "bin_start": -10.501049595909022,
            "count": 0
           },
           {
            "bin_end": -7.740913016862466,
            "bin_start": -9.120981306385744,
            "count": 0
           },
           {
            "bin_end": -6.360844727339188,
            "bin_start": -7.740913016862466,
            "count": 0
           },
           {
            "bin_end": -4.98077643781591,
            "bin_start": -6.360844727339188,
            "count": 0
           },
           {
            "bin_end": -3.6007081482926324,
            "bin_start": -4.98077643781591,
            "count": 0
           },
           {
            "bin_end": -2.2206398587693545,
            "bin_start": -3.6007081482926324,
            "count": 0
           },
           {
            "bin_end": -0.8405715692460767,
            "bin_start": -2.2206398587693545,
            "count": 4
           },
           {
            "bin_end": 0.5394967202772012,
            "bin_start": -0.8405715692460767,
            "count": 3
           },
           {
            "bin_end": 1.91956500980048,
            "bin_start": 0.5394967202772012,
            "count": 2
           }
          ],
          "max": "1.91956500980048",
          "min": "-11.8811178854323",
          "nan_count": 0,
          "unique_count": 10
         }
        },
        {
         "dtype": "float64",
         "name": "V2",
         "stats": {
          "histogram": [
           {
            "bin_end": -0.1989682701624511,
            "bin_start": -1.34016307473609,
            "count": 2
           },
           {
            "bin_end": 0.9422265344111878,
            "bin_start": -0.1989682701624511,
            "count": 7
           },
           {
            "bin_end": 2.0834213389848264,
            "bin_start": 0.9422265344111878,
            "count": 0
           },
           {
            "bin_end": 3.2246161435584657,
            "bin_start": 2.0834213389848264,
            "count": 0
           },
           {
            "bin_end": 4.365810948132104,
            "bin_start": 3.2246161435584657,
            "count": 0
           },
           {
            "bin_end": 5.507005752705743,
            "bin_start": 4.365810948132104,
            "count": 0
           },
           {
            "bin_end": 6.648200557279383,
            "bin_start": 5.507005752705743,
            "count": 0
           },
           {
            "bin_end": 7.789395361853021,
            "bin_start": 6.648200557279383,
            "count": 0
           },
           {
            "bin_end": 8.93059016642666,
            "bin_start": 7.789395361853021,
            "count": 0
           },
           {
            "bin_end": 10.0717849710003,
            "bin_start": 8.93059016642666,
            "count": 1
           }
          ],
          "max": "10.0717849710003",
          "min": "-1.34016307473609",
          "nan_count": 0,
          "unique_count": 10
         }
        },
        {
         "dtype": "float64",
         "name": "V3",
         "stats": {
          "histogram": [
           {
            "bin_end": -8.597670437854383,
            "bin_start": -9.83478345739033,
            "count": 1
           },
           {
            "bin_end": -7.360557418318436,
            "bin_start": -8.597670437854383,
            "count": 0
           },
           {
            "bin_end": -6.123444398782489,
            "bin_start": -7.360557418318436,
            "count": 0
           },
           {
            "bin_end": -4.886331379246542,
            "bin_start": -6.123444398782489,
            "count": 0
           },
           {
            "bin_end": -3.649218359710595,
            "bin_start": -4.886331379246542,
            "count": 0
           },
           {
            "bin_end": -2.412105340174648,
            "bin_start": -3.649218359710595,
            "count": 1
           },
           {
            "bin_end": -1.174992320638701,
            "bin_start": -2.412105340174648,
            "count": 0
           },
           {
            "bin_end": 0.06212069889724603,
            "bin_start": -1.174992320638701,
            "count": 0
           },
           {
            "bin_end": 1.299233718433193,
            "bin_start": 0.06212069889724603,
            "count": 3
           },
           {
            "bin_end": 2.53634673796914,
            "bin_start": 1.299233718433193,
            "count": 5
           }
          ],
          "max": "2.53634673796914",
          "min": "-9.83478345739033",
          "nan_count": 0,
          "unique_count": 10
         }
        },
        {
         "dtype": "float64",
         "name": "V4",
         "stats": {
          "histogram": [
           {
            "bin_end": -1.722174593707274,
            "bin_start": -2.06665568459413,
            "count": 1
           },
           {
            "bin_end": -1.377693502820418,
            "bin_start": -1.722174593707274,
            "count": 0
           },
           {
            "bin_end": -1.0332124119335622,
            "bin_start": -1.377693502820418,
            "count": 0
           },
           {
            "bin_end": -0.6887313210467061,
            "bin_start": -1.0332124119335622,
            "count": 2
           },
           {
            "bin_end": -0.34425023015985,
            "bin_start": -0.6887313210467061,
            "count": 2
           },
           {
            "bin_end": 0.0002308607270058438,
            "bin_start": -0.34425023015985,
            "count": 0
           },
           {
            "bin_end": 0.34471195161386214,
            "bin_start": 0.0002308607270058438,
            "count": 0
           },
           {
            "bin_end": 0.689193042500718,
            "bin_start": 0.34471195161386214,
            "count": 3
           },
           {
            "bin_end": 1.0336741333875739,
            "bin_start": 0.689193042500718,
            "count": 1
           },
           {
            "bin_end": 1.37815522427443,
            "bin_start": 1.0336741333875739,
            "count": 1
           }
          ],
          "max": "1.37815522427443",
          "min": "-2.06665568459413",
          "nan_count": 0,
          "unique_count": 10
         }
        },
        {
         "dtype": "float64",
         "name": "V5",
         "stats": {
          "histogram": [
           {
            "bin_end": -4.564973990866719,
            "bin_start": -5.36447278097585,
            "count": 1
           },
           {
            "bin_end": -3.765475200757586,
            "bin_start": -4.564973990866719,
            "count": 0
           },
           {
            "bin_end": -2.9659764106484543,
            "bin_start": -3.765475200757586,
            "count": 0
           },
           {
            "bin_end": -2.166477620539322,
            "bin_start": -2.9659764106484543,
            "count": 0
           },
           {
            "bin_end": -1.36697883043019,
            "bin_start": -2.166477620539322,
            "count": 0
           },
           {
            "bin_end": -0.5674800403210583,
            "bin_start": -1.36697883043019,
            "count": 0
           },
           {
            "bin_end": 0.23201874978807435,
            "bin_start": -0.5674800403210583,
            "count": 7
           },
           {
            "bin_end": 1.031517539897206,
            "bin_start": 0.23201874978807435,
            "count": 1
           },
           {
            "bin_end": 1.8310163300063378,
            "bin_start": 1.031517539897206,
            "count": 0
           },
           {
            "bin_end": 2.63051512011547,
            "bin_start": 1.8310163300063378,
            "count": 1
           }
          ],
          "max": "2.63051512011547",
          "min": "-5.36447278097585",
          "nan_count": 0,
          "unique_count": 10
         }
        },
        {
         "dtype": "float64",
         "name": "V6",
         "stats": {
          "histogram": [
           {
            "bin_end": -2.043027588069612,
            "bin_start": -2.6068373309456,
            "count": 1
           },
           {
            "bin_end": -1.479217845193624,
            "bin_start": -2.043027588069612,
            "count": 0
           },
           {
            "bin_end": -0.9154081023176359,
            "bin_start": -1.479217845193624,
            "count": 0
           },
           {
            "bin_end": -0.3515983594416481,
            "bin_start": -0.9154081023176359,
            "count": 1
           },
           {
            "bin_end": 0.21221138343433976,
            "bin_start": -0.3515983594416481,
            "count": 2
           },
           {
            "bin_end": 0.776021126310328,
            "bin_start": 0.21221138343433976,
            "count": 2
           },
           {
            "bin_end": 1.3398308691863159,
            "bin_start": 0.776021126310328,
            "count": 2
           },
           {
            "bin_end": 1.9036406120623037,
            "bin_start": 1.3398308691863159,
            "count": 1
           },
           {
            "bin_end": 2.467450354938292,
            "bin_start": 1.9036406120623037,
            "count": 0
           },
           {
            "bin_end": 3.03126009781428,
            "bin_start": 2.467450354938292,
            "count": 1
           }
          ],
          "max": "3.03126009781428",
          "min": "-2.6068373309456",
          "nan_count": 0,
          "unique_count": 10
         }
        },
        {
         "dtype": "float64",
         "name": "V7",
         "stats": {
          "histogram": [
           {
            "bin_end": -4.268693262599639,
            "bin_start": -4.91821543115252,
            "count": 1
           },
           {
            "bin_end": -3.619171094046758,
            "bin_start": -4.268693262599639,
            "count": 0
           },
           {
            "bin_end": -2.9696489254938774,
            "bin_start": -3.619171094046758,
            "count": 0
           },
           {
            "bin_end": -2.3201267569409962,
            "bin_start": -2.9696489254938774,
            "count": 0
           },
           {
            "bin_end": -1.670604588388115,
            "bin_start": -2.3201267569409962,
            "count": 0
           },
           {
            "bin_end": -1.0210824198352344,
            "bin_start": -1.670604588388115,
            "count": 0
           },
           {
            "bin_end": -0.3715602512823537,
            "bin_start": -1.0210824198352344,
            "count": 1
           },
           {
            "bin_end": 0.27796191727052744,
            "bin_start": -0.3715602512823537,
            "count": 5
           },
           {
            "bin_end": 0.9274840858234086,
            "bin_start": 0.27796191727052744,
            "count": 2
           },
           {
            "bin_end": 1.57700625437629,
            "bin_start": 0.9274840858234086,
            "count": 1
           }
          ],
          "max": "1.57700625437629",
          "min": "-4.91821543115252",
          "nan_count": 0,
          "unique_count": 10
         }
        },
        {
         "dtype": "float64",
         "name": "V8",
         "stats": {
          "histogram": [
           {
            "bin_end": 0.3573480352824041,
            "bin_start": -0.414650407552662,
            "count": 6
           },
           {
            "bin_end": 1.1293464781174702,
            "bin_start": 0.3573480352824041,
            "count": 3
           },
           {
            "bin_end": 1.9013449209525362,
            "bin_start": 1.1293464781174702,
            "count": 0
           },
           {
            "bin_end": 2.6733433637876027,
            "bin_start": 1.9013449209525362,
            "count": 0
           },
           {
            "bin_end": 3.445341806622669,
            "bin_start": 2.6733433637876027,
            "count": 0
           },
           {
            "bin_end": 4.217340249457735,
            "bin_start": 3.445341806622669,
            "count": 0
           },
           {
            "bin_end": 4.989338692292801,
            "bin_start": 4.217340249457735,
            "count": 0
           },
           {
            "bin_end": 5.761337135127867,
            "bin_start": 4.989338692292801,
            "count": 0
           },
           {
            "bin_end": 6.533335577962934,
            "bin_start": 5.761337135127867,
            "count": 0
           },
           {
            "bin_end": 7.305334020798,
            "bin_start": 6.533335577962934,
            "count": 1
           }
          ],
          "max": "7.305334020798",
          "min": "-0.414650407552662",
          "nan_count": 0,
          "unique_count": 10
         }
        },
        {
         "dtype": "float64",
         "name": "V9",
         "stats": {
          "histogram": [
           {
            "bin_end": -1.171746063000667,
            "bin_start": -1.51465432260583,
            "count": 2
           },
           {
            "bin_end": -0.828837803395504,
            "bin_start": -1.171746063000667,
            "count": 0
           },
           {
            "bin_end": -0.48592954379034103,
            "bin_start": -0.828837803395504,
            "count": 0
           },
           {
            "bin_end": -0.1430212841851779,
            "bin_start": -0.48592954379034103,
            "count": 1
           },
           {
            "bin_end": 0.19988697541998524,
            "bin_start": -0.1430212841851779,
            "count": 0
           },
           {
            "bin_end": 0.5427952350251479,
            "bin_start": 0.19988697541998524,
            "count": 4
           },
           {
            "bin_end": 0.8857034946303111,
            "bin_start": 0.5427952350251479,
            "count": 2
           },
           {
            "bin_end": 1.2286117542354742,
            "bin_start": 0.8857034946303111,
            "count": 0
           },
           {
            "bin_end": 1.5715200138406373,
            "bin_start": 1.2286117542354742,
            "count": 0
           },
           {
            "bin_end": 1.9144282734458,
            "bin_start": 1.5715200138406373,
            "count": 1
           }
          ],
          "max": "1.9144282734458",
          "min": "-1.51465432260583",
          "nan_count": 0,
          "unique_count": 10
         }
        },
        {
         "dtype": "float64",
         "name": "V10",
         "stats": {
          "histogram": [
           {
            "bin_end": -0.4427164156695661,
            "bin_start": -0.975926063322508,
            "count": 3
           },
           {
            "bin_end": 0.09049323198337578,
            "bin_start": -0.4427164156695661,
            "count": 3
           },
           {
            "bin_end": 0.6237028796363178,
            "bin_start": 0.09049323198337578,
            "count": 2
           },
           {
            "bin_end": 1.1569125272892595,
            "bin_start": 0.6237028796363178,
            "count": 1
           },
           {
            "bin_end": 1.6901221749422013,
            "bin_start": 1.1569125272892595,
            "count": 0
           },
           {
            "bin_end": 2.2233318225951435,
            "bin_start": 1.6901221749422013,
            "count": 0
           },
           {
            "bin_end": 2.7565414702480853,
            "bin_start": 2.2233318225951435,
            "count": 0
           },
           {
            "bin_end": 3.289751117901027,
            "bin_start": 2.7565414702480853,
            "count": 0
           },
           {
            "bin_end": 3.8229607655539692,
            "bin_start": 3.289751117901027,
            "count": 0
           },
           {
            "bin_end": 4.35617041320691,
            "bin_start": 3.8229607655539692,
            "count": 1
           }
          ],
          "max": "4.35617041320691",
          "min": "-0.975926063322508",
          "nan_count": 0,
          "unique_count": 10
         }
        },
        {
         "dtype": "float64",
         "name": "V11",
         "stats": {
          "histogram": [
           {
            "bin_end": -1.579191267445938,
            "bin_start": -1.93384881505713,
            "count": 2
           },
           {
            "bin_end": -1.2245337198347461,
            "bin_start": -1.579191267445938,
            "count": 0
           },
           {
            "bin_end": -0.869876172223554,
            "bin_start": -1.2245337198347461,
            "count": 1
           },
           {
            "bin_end": -0.515218624612362,
            "bin_start": -0.869876172223554,
            "count": 2
           },
           {
            "bin_end": -0.16056107700117006,
            "bin_start": -0.515218624612362,
            "count": 1
           },
           {
            "bin_end": 0.1940964706100221,
            "bin_start": -0.16056107700117006,
            "count": 1
           },
           {
            "bin_end": 0.5487540182212141,
            "bin_start": 0.1940964706100221,
            "count": 1
           },
           {
            "bin_end": 0.903411565832406,
            "bin_start": 0.5487540182212141,
            "count": 1
           },
           {
            "bin_end": 1.258069113443598,
            "bin_start": 0.903411565832406,
            "count": 0
           },
           {
            "bin_end": 1.61272666105479,
            "bin_start": 1.258069113443598,
            "count": 1
           }
          ],
          "max": "1.61272666105479",
          "min": "-1.93384881505713",
          "nan_count": 0,
          "unique_count": 10
         }
        },
        {
         "dtype": "float64",
         "name": "V12",
         "stats": {
          "histogram": [
           {
            "bin_end": -0.5954034494955269,
            "bin_start": -0.962886142890271,
            "count": 2
           },
           {
            "bin_end": -0.22792075610078288,
            "bin_start": -0.5954034494955269,
            "count": 0
           },
           {
            "bin_end": 0.13956193729396105,
            "bin_start": -0.22792075610078288,
            "count": 3
           },
           {
            "bin_end": 0.5070446306887052,
            "bin_start": 0.13956193729396105,
            "count": 1
           },
           {
            "bin_end": 0.8745273240834494,
            "bin_start": 0.5070446306887052,
            "count": 1
           },
           {
            "bin_end": 1.2420100174781932,
            "bin_start": 0.8745273240834494,
            "count": 2
           },
           {
            "bin_end": 1.6094927108729373,
            "bin_start": 1.2420100174781932,
            "count": 0
           },
           {
            "bin_end": 1.9769754042676815,
            "bin_start": 1.6094927108729373,
            "count": 0
           },
           {
            "bin_end": 2.3444580976624256,
            "bin_start": 1.9769754042676815,
            "count": 0
           },
           {
            "bin_end": 2.71194079105717,
            "bin_start": 2.3444580976624256,
            "count": 1
           }
          ],
          "max": "2.71194079105717",
          "min": "-0.962886142890271",
          "nan_count": 0,
          "unique_count": 10
         }
        },
        {
         "dtype": "float64",
         "name": "V13",
         "stats": {
          "histogram": [
           {
            "bin_end": -0.803288330999179,
            "bin_start": -1.04208165591191,
            "count": 2
           },
           {
            "bin_end": -0.5644950060864479,
            "bin_start": -0.803288330999179,
            "count": 1
           },
           {
            "bin_end": -0.3257016811737168,
            "bin_start": -0.5644950060864479,
            "count": 0
           },
           {
            "bin_end": -0.08690835626098581,
            "bin_start": -0.3257016811737168,
            "count": 2
           },
           {
            "bin_end": 0.15188496865174517,
            "bin_start": -0.08690835626098581,
            "count": 0
           },
           {
            "bin_end": 0.39067829356447636,
            "bin_start": 0.15188496865174517,
            "count": 0
           },
           {
            "bin_end": 0.6294716184772073,
            "bin_start": 0.39067829356447636,
            "count": 2
           },
           {
            "bin_end": 0.8682649433899383,
            "bin_start": 0.6294716184772073,
            "count": 1
           },
           {
            "bin_end": 1.1070582683026695,
            "bin_start": 0.8682649433899383,
            "count": 0
           },
           {
            "bin_end": 1.3458515932154,
            "bin_start": 1.1070582683026695,
            "count": 2
           }
          ],
          "max": "1.3458515932154",
          "min": "-1.04208165591191",
          "nan_count": 0,
          "unique_count": 10
         }
        },
        {
         "dtype": "float64",
         "name": "V14",
         "stats": {
          "histogram": [
           {
            "bin_end": -0.545008648720563,
            "bin_start": -1.11966983471731,
            "count": 2
           },
           {
            "bin_end": 0.029652537276184,
            "bin_start": -0.545008648720563,
            "count": 6
           },
           {
            "bin_end": 0.604313723272931,
            "bin_start": 0.029652537276184,
            "count": 1
           },
           {
            "bin_end": 1.178974909269678,
            "bin_start": 0.604313723272931,
            "count": 0
           },
           {
            "bin_end": 1.7536360952664247,
            "bin_start": 1.178974909269678,
            "count": 0
           },
           {
            "bin_end": 2.328297281263172,
            "bin_start": 1.7536360952664247,
            "count": 0
           },
           {
            "bin_end": 2.902958467259919,
            "bin_start": 2.328297281263172,
            "count": 0
           },
           {
            "bin_end": 3.477619653256666,
            "bin_start": 2.902958467259919,
            "count": 0
           },
           {
            "bin_end": 4.052280839253413,
            "bin_start": 3.477619653256666,
            "count": 0
           },
           {
            "bin_end": 4.62694202525016,
            "bin_start": 4.052280839253413,
            "count": 1
           }
          ],
          "max": "4.62694202525016",
          "min": "-1.11966983471731",
          "nan_count": 0,
          "unique_count": 10
         }
        },
        {
         "dtype": "float64",
         "name": "V15",
         "stats": {
          "histogram": [
           {
            "bin_end": -0.597426348441171,
            "bin_start": -0.92445871482528,
            "count": 2
           },
           {
            "bin_end": -0.270393982057062,
            "bin_start": -0.597426348441171,
            "count": 0
           },
           {
            "bin_end": 0.05663838432704693,
            "bin_start": -0.270393982057062,
            "count": 1
           },
           {
            "bin_end": 0.383670750711156,
            "bin_start": 0.05663838432704693,
            "count": 1
           },
           {
            "bin_end": 0.710703117095265,
            "bin_start": 0.383670750711156,
            "count": 1
           },
           {
            "bin_end": 1.037735483479374,
            "bin_start": 0.710703117095265,
            "count": 0
           },
           {
            "bin_end": 1.3647678498634832,
            "bin_start": 1.037735483479374,
            "count": 2
           },
           {
            "bin_end": 1.691800216247592,
            "bin_start": 1.3647678498634832,
            "count": 1
           },
           {
            "bin_end": 2.018832582631701,
            "bin_start": 1.691800216247592,
            "count": 1
           },
           {
            "bin_end": 2.34586494901581,
            "bin_start": 2.018832582631701,
            "count": 1
           }
          ],
          "max": "2.34586494901581",
          "min": "-0.92445871482528",
          "nan_count": 0,
          "unique_count": 10
         }
        },
        {
         "dtype": "float64",
         "name": "V16",
         "stats": {
          "histogram": [
           {
            "bin_end": -2.490310814902685,
            "bin_start": -2.89008319444231,
            "count": 1
           },
           {
            "bin_end": -2.09053843536306,
            "bin_start": -2.490310814902685,
            "count": 0
           },
           {
            "bin_end": -1.6907660558234352,
            "bin_start": -2.09053843536306,
            "count": 0
           },
           {
            "bin_end": -1.2909936762838101,
            "bin_start": -1.6907660558234352,
            "count": 0
           },
           {
            "bin_end": -0.891221296744185,
            "bin_start": -1.2909936762838101,
            "count": 1
           },
           {
            "bin_end": -0.4914489172045604,
            "bin_start": -0.891221296744185,
            "count": 2
           },
           {
            "bin_end": -0.09167653766493533,
            "bin_start": -0.4914489172045604,
            "count": 3
           },
           {
            "bin_end": 0.30809584187468975,
            "bin_start": -0.09167653766493533,
            "count": 1
           },
           {
            "bin_end": 0.7078682214143148,
            "bin_start": 0.30809584187468975,
            "count": 1
           },
           {
            "bin_end": 1.10764060095394,
            "bin_start": 0.7078682214143148,
            "count": 1
           }
          ],
          "max": "1.10764060095394",
          "min": "-2.89008319444231",
          "nan_count": 0,
          "unique_count": 10
         }
        },
        {
         "dtype": "float64",
         "name": "V17",
         "stats": {
          "histogram": [
           {
            "bin_end": -0.41651439700468806,
            "bin_start": -0.684092786345479,
            "count": 2
           },
           {
            "bin_end": -0.14893600766389714,
            "bin_start": -0.41651439700468806,
            "count": 1
           },
           {
            "bin_end": 0.11864238167689378,
            "bin_start": -0.14893600766389714,
            "count": 2
           },
           {
            "bin_end": 0.3862207710176847,
            "bin_start": 0.11864238167689378,
            "count": 2
           },
           {
            "bin_end": 0.6537991603584757,
            "bin_start": 0.3862207710176847,
            "count": 1
           },
           {
            "bin_end": 0.9213775496992666,
            "bin_start": 0.6537991603584757,
            "count": 0
           },
           {
            "bin_end": 1.1889559390400573,
            "bin_start": 0.9213775496992666,
            "count": 1
           },
           {
            "bin_end": 1.4565343283808483,
            "bin_start": 1.1889559390400573,
            "count": 0
           },
           {
            "bin_end": 1.7241127177216393,
            "bin_start": 1.4565343283808483,
            "count": 0
           },
           {
            "bin_end": 1.99169110706243,
            "bin_start": 1.7241127177216393,
            "count": 1
           }
          ],
          "max": "1.99169110706243",
          "min": "-0.684092786345479",
          "nan_count": 0,
          "unique_count": 10
         }
        },
        {
         "dtype": "float64",
         "name": "V18",
         "stats": {
          "histogram": [
           {
            "bin_end": -0.9024834722160779,
            "bin_start": -1.22117885840624,
            "count": 1
           },
           {
            "bin_end": -0.5837880860259159,
            "bin_start": -0.9024834722160779,
            "count": 0
           },
           {
            "bin_end": -0.2650926998357539,
            "bin_start": -0.5837880860259159,
            "count": 0
           },
           {
            "bin_end": 0.053602686354408124,
            "bin_start": -0.2650926998357539,
            "count": 4
           },
           {
            "bin_end": 0.37229807254457015,
            "bin_start": 0.053602686354408124,
            "count": 1
           },
           {
            "bin_end": 0.6909934587347322,
            "bin_start": 0.37229807254457015,
            "count": 2
           },
           {
            "bin_end": 1.0096888449248942,
            "bin_start": 0.6909934587347322,
            "count": 0
           },
           {
            "bin_end": 1.3283842311150562,
            "bin_start": 1.0096888449248942,
            "count": 1
           },
           {
            "bin_end": 1.6470796173052182,
            "bin_start": 1.3283842311150562,
            "count": 0
           },
           {
            "bin_end": 1.96577500349538,
            "bin_start": 1.6470796173052182,
            "count": 1
           }
          ],
          "max": "1.96577500349538",
          "min": "-1.22117885840624",
          "nan_count": 0,
          "unique_count": 10
         }
        },
        {
         "dtype": "float64",
         "name": "V19",
         "stats": {
          "histogram": [
           {
            "bin_end": -1.745886508439413,
            "bin_start": -2.26185709530414,
            "count": 1
           },
           {
            "bin_end": -1.229915921574686,
            "bin_start": -1.745886508439413,
            "count": 2
           },
           {
            "bin_end": -0.7139453347099589,
            "bin_start": -1.229915921574686,
            "count": 0
           },
           {
            "bin_end": -0.19797474784523184,
            "bin_start": -0.7139453347099589,
            "count": 3
           },
           {
            "bin_end": 0.317995839019495,
            "bin_start": -0.19797474784523184,
            "count": 1
           },
           {
            "bin_end": 0.8339664258842223,
            "bin_start": 0.317995839019495,
            "count": 2
           },
           {
            "bin_end": 1.3499370127489496,
            "bin_start": 0.8339664258842223,
            "count": 0
           },
           {
            "bin_end": 1.8659075996136765,
            "bin_start": 1.3499370127489496,
            "count": 0
           },
           {
            "bin_end": 2.3818781864784033,
            "bin_start": 1.8659075996136765,
            "count": 0
           },
           {
            "bin_end": 2.89784877334313,
            "bin_start": 2.3818781864784033,
            "count": 1
           }
          ],
          "max": "2.89784877334313",
          "min": "-2.26185709530414",
          "nan_count": 0,
          "unique_count": 10
         }
        },
        {
         "dtype": "float64",
         "name": "V20",
         "stats": {
          "histogram": [
           {
            "bin_end": -0.039651089578779414,
            "bin_start": -0.208037781160366,
            "count": 2
           },
           {
            "bin_end": 0.12873560200280718,
            "bin_start": -0.039651089578779414,
            "count": 3
           },
           {
            "bin_end": 0.2971222935843938,
            "bin_start": 0.12873560200280718,
            "count": 1
           },
           {
            "bin_end": 0.4655089851659804,
            "bin_start": 0.2971222935843938,
            "count": 2
           },
           {
            "bin_end": 0.633895676747567,
            "bin_start": 0.4655089851659804,
            "count": 1
           },
           {
            "bin_end": 0.8022823683291536,
            "bin_start": 0.633895676747567,
            "count": 0
           },
           {
            "bin_end": 0.9706690599107402,
            "bin_start": 0.8022823683291536,
            "count": 0
           },
           {
            "bin_end": 1.1390557514923267,
            "bin_start": 0.9706690599107402,
            "count": 0
           },
           {
            "bin_end": 1.3074424430739133,
            "bin_start": 1.1390557514923267,
            "count": 0
           },
           {
            "bin_end": 1.4758291346555,
            "bin_start": 1.3074424430739133,
            "count": 1
           }
          ],
          "max": "1.4758291346555",
          "min": "-0.208037781160366",
          "nan_count": 0,
          "unique_count": 10
         }
        },
        {
         "dtype": "float64",
         "name": "V21",
         "stats": {
          "histogram": [
           {
            "bin_end": -0.1766732315911377,
            "bin_start": -0.225775248033138,
            "count": 1
           },
           {
            "bin_end": -0.1275712151491374,
            "bin_start": -0.1766732315911377,
            "count": 0
           },
           {
            "bin_end": -0.07846919870713712,
            "bin_start": -0.1275712151491374,
            "count": 1
           },
           {
            "bin_end": -0.02936718226513682,
            "bin_start": -0.07846919870713712,
            "count": 0
           },
           {
            "bin_end": 0.019734834176863475,
            "bin_start": -0.02936718226513682,
            "count": 2
           },
           {
            "bin_end": 0.06883685061886377,
            "bin_start": 0.019734834176863475,
            "count": 0
           },
           {
            "bin_end": 0.11793886706086407,
            "bin_start": 0.06883685061886377,
            "count": 0
           },
           {
            "bin_end": 0.16704088350286436,
            "bin_start": 0.11793886706086407,
            "count": 0
           },
           {
            "bin_end": 0.21614289994486466,
            "bin_start": 0.16704088350286436,
            "count": 2
           },
           {
            "bin_end": 0.265244916386865,
            "bin_start": 0.21614289994486466,
            "count": 4
           }
          ],
          "max": "0.265244916386865",
          "min": "-0.225775248033138",
          "nan_count": 0,
          "unique_count": 10
         }
        },
        {
         "dtype": "float64",
         "name": "V22",
         "stats": {
          "histogram": [
           {
            "bin_end": -0.48236639900432776,
            "bin_start": -0.638671952771851,
            "count": 1
           },
           {
            "bin_end": -0.32606084523680456,
            "bin_start": -0.48236639900432776,
            "count": 0
           },
           {
            "bin_end": -0.16975529146928137,
            "bin_start": -0.32606084523680456,
            "count": 0
           },
           {
            "bin_end": -0.013449737701758169,
            "bin_start": -0.16975529146928137,
            "count": 0
           },
           {
            "bin_end": 0.14285581606576503,
            "bin_start": -0.013449737701758169,
            "count": 2
           },
           {
            "bin_end": 0.2991613698332882,
            "bin_start": 0.14285581606576503,
            "count": 1
           },
           {
            "bin_end": 0.45546692360081154,
            "bin_start": 0.2991613698332882,
            "count": 0
           },
           {
            "bin_end": 0.6117724773683346,
            "bin_start": 0.45546692360081154,
            "count": 1
           },
           {
            "bin_end": 0.7680780311358577,
            "bin_start": 0.6117724773683346,
            "count": 1
           },
           {
            "bin_end": 0.924383584903381,
            "bin_start": 0.7680780311358577,
            "count": 4
           }
          ],
          "max": "0.924383584903381",
          "min": "-0.638671952771851",
          "nan_count": 0,
          "unique_count": 10
         }
        },
        {
         "dtype": "float64",
         "name": "V23",
         "stats": {
          "histogram": [
           {
            "bin_end": -0.06984047714916591,
            "bin_start": -0.190320518742841,
            "count": 4
           },
           {
            "bin_end": 0.05063956444450918,
            "bin_start": -0.06984047714916591,
            "count": 2
           },
           {
            "bin_end": 0.17111960603818427,
            "bin_start": 0.05063956444450918,
            "count": 1
           },
           {
            "bin_end": 0.29159964763185936,
            "bin_start": 0.17111960603818427,
            "count": 0
           },
           {
            "bin_end": 0.41207968922553445,
            "bin_start": 0.29159964763185936,
            "count": 1
           },
           {
            "bin_end": 0.5325597308192096,
            "bin_start": 0.41207968922553445,
            "count": 0
           },
           {
            "bin_end": 0.6530397724128847,
            "bin_start": 0.5325597308192096,
            "count": 0
           },
           {
            "bin_end": 0.7735198140065598,
            "bin_start": 0.6530397724128847,
            "count": 0
           },
           {
            "bin_end": 0.8939998556002349,
            "bin_start": 0.7735198140065598,
            "count": 0
           },
           {
            "bin_end": 1.01447989719391,
            "bin_start": 0.8939998556002349,
            "count": 2
           }
          ],
          "max": "1.01447989719391",
          "min": "-0.190320518742841",
          "nan_count": 0,
          "unique_count": 10
         }
        },
        {
         "dtype": "float64",
         "name": "V24",
         "stats": {
          "histogram": [
           {
            "bin_end": -0.994004410542247,
            "bin_start": -1.17557533186321,
            "count": 2
           },
           {
            "bin_end": -0.8124334892212839,
            "bin_start": -0.994004410542247,
            "count": 0
           },
           {
            "bin_end": -0.6308625679003207,
            "bin_start": -0.8124334892212839,
            "count": 1
           },
           {
            "bin_end": -0.4492916465793576,
            "bin_start": -0.6308625679003207,
            "count": 1
           },
           {
            "bin_end": -0.2677207252583945,
            "bin_start": -0.4492916465793576,
            "count": 1
           },
           {
            "bin_end": -0.08614980393743132,
            "bin_start": -0.2677207252583945,
            "count": 0
           },
           {
            "bin_end": 0.09542111738353176,
            "bin_start": -0.08614980393743132,
            "count": 2
           },
           {
            "bin_end": 0.27699203870449485,
            "bin_start": 0.09542111738353176,
            "count": 2
           },
           {
            "bin_end": 0.45856296002545793,
            "bin_start": 0.27699203870449485,
            "count": 0
           },
           {
            "bin_end": 0.640133881346421,
            "bin_start": 0.45856296002545793,
            "count": 1
           }
          ],
          "max": "0.640133881346421",
          "min": "-1.17557533186321",
          "nan_count": 0,
          "unique_count": 10
         }
        },
        {
         "dtype": "float64",
         "name": "V25",
         "stats": {
          "histogram": [
           {
            "bin_end": -0.4022808965671152,
            "bin_start": -0.606623985854728,
            "count": 3
           },
           {
            "bin_end": -0.1979378072795024,
            "bin_start": -0.4022808965671152,
            "count": 2
           },
           {
            "bin_end": 0.006405282008110413,
            "bin_start": -0.1979378072795024,
            "count": 0
           },
           {
            "bin_end": 0.2107483712957232,
            "bin_start": 0.006405282008110413,
            "count": 2
           },
           {
            "bin_end": 0.415091460583336,
            "bin_start": 0.2107483712957232,
            "count": 1
           },
           {
            "bin_end": 0.6194345498709488,
            "bin_start": 0.415091460583336,
            "count": 0
           },
           {
            "bin_end": 0.8237776391585616,
            "bin_start": 0.6194345498709488,
            "count": 1
           },
           {
            "bin_end": 1.0281207284461744,
            "bin_start": 0.8237776391585616,
            "count": 0
           },
           {
            "bin_end": 1.2324638177337872,
            "bin_start": 1.0281207284461744,
            "count": 0
           },
           {
            "bin_end": 1.4368069070214,
            "bin_start": 1.2324638177337872,
            "count": 1
           }
          ],
          "max": "1.4368069070214",
          "min": "-0.606623985854728",
          "nan_count": 0,
          "unique_count": 10
         }
        },
        {
         "dtype": "float64",
         "name": "V26",
         "stats": {
          "histogram": [
           {
            "bin_end": -0.6817735627182262,
            "bin_start": -0.818267121041176,
            "count": 1
           },
           {
            "bin_end": -0.5452800043952762,
            "bin_start": -0.6817735627182262,
            "count": 0
           },
           {
            "bin_end": -0.40878644607232634,
            "bin_start": -0.5452800043952762,
            "count": 0
           },
           {
            "bin_end": -0.27229288774937643,
            "bin_start": -0.40878644607232634,
            "count": 1
           },
           {
            "bin_end": -0.13579932942642658,
            "bin_start": -0.27229288774937643,
            "count": 3
           },
           {
            "bin_end": 0.0006942288965233745,
            "bin_start": -0.13579932942642658,
            "count": 1
           },
           {
            "bin_end": 0.13718778721947333,
            "bin_start": 0.0006942288965233745,
            "count": 1
           },
           {
            "bin_end": 0.2736813455424232,
            "bin_start": 0.13718778721947333,
            "count": 1
           },
           {
            "bin_end": 0.41017490386537303,
            "bin_start": 0.2736813455424232,
            "count": 0
           },
           {
            "bin_end": 0.546668462188323,
            "bin_start": 0.41017490386537303,
            "count": 2
           }
          ],
          "max": "0.546668462188323",
          "min": "-0.818267121041176",
          "nan_count": 0,
          "unique_count": 10
         }
        },
        {
         "dtype": "float64",
         "name": "V27",
         "stats": {
          "histogram": [
           {
            "bin_end": 0.0445476025161697,
            "bin_start": -0.0553527940384261,
            "count": 4
           },
           {
            "bin_end": 0.1444479990707655,
            "bin_start": 0.0445476025161697,
            "count": 4
           },
           {
            "bin_end": 0.2443483956253613,
            "bin_start": 0.1444479990707655,
            "count": 1
           },
           {
            "bin_end": 0.34424879217995713,
            "bin_start": 0.2443483956253613,
            "count": 0
           },
           {
            "bin_end": 0.44414918873455295,
            "bin_start": 0.34424879217995713,
            "count": 0
           },
           {
            "bin_end": 0.5440495852891487,
            "bin_start": 0.44414918873455295,
            "count": 0
           },
           {
            "bin_end": 0.6439499818437445,
            "bin_start": 0.5440495852891487,
            "count": 0
           },
           {
            "bin_end": 0.7438503783983403,
            "bin_start": 0.6439499818437445,
            "count": 0
           },
           {
            "bin_end": 0.8437507749529362,
            "bin_start": 0.7438503783983403,
            "count": 0
           },
           {
            "bin_end": 0.943651171507532,
            "bin_start": 0.8437507749529362,
            "count": 1
           }
          ],
          "max": "0.943651171507532",
          "min": "-0.0553527940384261",
          "nan_count": 0,
          "unique_count": 10
         }
        },
        {
         "dtype": "float64",
         "name": "V28",
         "stats": {
          "histogram": [
           {
            "bin_end": 0.028596439615021847,
            "bin_start": -0.0597518405929204,
            "count": 6
           },
           {
            "bin_end": 0.11694471982296409,
            "bin_start": 0.028596439615021847,
            "count": 2
           },
           {
            "bin_end": 0.2052930000309063,
            "bin_start": 0.11694471982296409,
            "count": 0
           },
           {
            "bin_end": 0.2936412802388486,
            "bin_start": 0.2052930000309063,
            "count": 1
           },
           {
            "bin_end": 0.3819895604467909,
            "bin_start": 0.2936412802388486,
            "count": 0
           },
           {
            "bin_end": 0.47033784065473305,
            "bin_start": 0.3819895604467909,
            "count": 0
           },
           {
            "bin_end": 0.5586861208626753,
            "bin_start": 0.47033784065473305,
            "count": 0
           },
           {
            "bin_end": 0.6470344010706176,
            "bin_start": 0.5586861208626753,
            "count": 0
           },
           {
            "bin_end": 0.7353826812785599,
            "bin_start": 0.6470344010706176,
            "count": 0
           },
           {
            "bin_end": 0.823730961486502,
            "bin_start": 0.7353826812785599,
            "count": 1
           }
          ],
          "max": "0.823730961486502",
          "min": "-0.0597518405929204",
          "nan_count": 0,
          "unique_count": 10
         }
        },
        {
         "dtype": "float64",
         "name": "Amount",
         "stats": {
          "histogram": [
           {
            "bin_end": 38.559000000000005,
            "bin_start": 0.77,
            "count": 4
           },
           {
            "bin_end": 76.348,
            "bin_start": 38.559000000000005,
            "count": 2
           },
           {
            "bin_end": 114.137,
            "bin_start": 76.348,
            "count": 0
           },
           {
            "bin_end": 151.92600000000002,
            "bin_start": 114.137,
            "count": 2
           },
           {
            "bin_end": 189.715,
            "bin_start": 151.92600000000002,
            "count": 0
           },
           {
            "bin_end": 227.50400000000002,
            "bin_start": 189.715,
            "count": 1
           },
           {
            "bin_end": 265.293,
            "bin_start": 227.50400000000002,
            "count": 0
           },
           {
            "bin_end": 303.082,
            "bin_start": 265.293,
            "count": 0
           },
           {
            "bin_end": 340.871,
            "bin_start": 303.082,
            "count": 0
           },
           {
            "bin_end": 378.66,
            "bin_start": 340.871,
            "count": 1
           }
          ],
          "max": "378.66",
          "min": "0.77",
          "nan_count": 0,
          "unique_count": 10
         }
        },
        {
         "dtype": "int64",
         "name": "Class",
         "stats": {
          "histogram": [
           {
            "bin_end": -0.4,
            "bin_start": -0.5,
            "count": 0
           },
           {
            "bin_end": -0.3,
            "bin_start": -0.4,
            "count": 0
           },
           {
            "bin_end": -0.19999999999999996,
            "bin_start": -0.3,
            "count": 0
           },
           {
            "bin_end": -0.09999999999999998,
            "bin_start": -0.19999999999999996,
            "count": 0
           },
           {
            "bin_end": 0,
            "bin_start": -0.09999999999999998,
            "count": 0
           },
           {
            "bin_end": 0.10000000000000009,
            "bin_start": 0,
            "count": 10
           },
           {
            "bin_end": 0.20000000000000007,
            "bin_start": 0.10000000000000009,
            "count": 0
           },
           {
            "bin_end": 0.30000000000000004,
            "bin_start": 0.20000000000000007,
            "count": 0
           },
           {
            "bin_end": 0.4,
            "bin_start": 0.30000000000000004,
            "count": 0
           },
           {
            "bin_end": 0.5,
            "bin_start": 0.4,
            "count": 0
           }
          ],
          "max": "0",
          "min": "0",
          "nan_count": 0,
          "unique_count": 1
         }
        },
        {
         "dtype": "int64",
         "name": "_deepnote_index_column"
        }
       ],
       "row_count": 10,
       "rows": [
        {
         "Amount": 149.62,
         "Class": 0,
         "Time": 0,
         "V1": -1.3598071336738,
         "V10": 0.0907941719789316,
         "V11": -0.551599533260813,
         "V12": -0.617800855762348,
         "V13": -0.991389847235408,
         "V14": -0.311169353699879,
         "V15": 1.46817697209427,
         "V16": -0.470400525259478,
         "V17": 0.207971241929242,
         "V18": 0.0257905801985591,
         "V19": 0.403992960255733,
         "V2": -0.0727811733098497,
         "V20": 0.251412098239705,
         "V21": -0.018306777944153,
         "V22": 0.277837575558899,
         "V23": -0.110473910188767,
         "V24": 0.0669280749146731,
         "V25": 0.128539358273528,
         "V26": -0.189114843888824,
         "V27": 0.133558376740387,
         "V28": -0.0210530534538215,
         "V3": 2.53634673796914,
         "V4": 1.37815522427443,
         "V5": -0.338320769942518,
         "V6": 0.462387777762292,
         "V7": 0.239598554061257,
         "V8": 0.0986979012610507,
         "V9": 0.363786969611213,
         "_deepnote_index_column": 0
        },
        {
         "Amount": 2.69,
         "Class": 0,
         "Time": 0,
         "V1": 1.19185711131486,
         "V10": -0.166974414004614,
         "V11": 1.61272666105479,
         "V12": 1.06523531137287,
         "V13": 0.48909501589608,
         "V14": -0.143772296441519,
         "V15": 0.635558093258208,
         "V16": 0.463917041022171,
         "V17": -0.114804663102346,
         "V18": -0.183361270123994,
         "V19": -0.145783041325259,
         "V2": 0.26615071205963,
         "V20": -0.0690831352230203,
         "V21": -0.225775248033138,
         "V22": -0.638671952771851,
         "V23": 0.101288021253234,
         "V24": -0.339846475529127,
         "V25": 0.167170404418143,
         "V26": 0.125894532368176,
         "V27": -0.0089830991432281,
         "V28": 0.0147241691924927,
         "V3": 0.16648011335321,
         "V4": 0.448154078460911,
         "V5": 0.0600176492822243,
         "V6": -0.0823608088155687,
         "V7": -0.0788029833323113,
         "V8": 0.0851016549148104,
         "V9": -0.255425128109186,
         "_deepnote_index_column": 1
        },
        {
         "Amount": 378.66,
         "Class": 0,
         "Time": 1,
         "V1": -1.35835406159823,
         "V10": 0.207642865216696,
         "V11": 0.624501459424895,
         "V12": 0.066083685268831,
         "V13": 0.717292731410831,
         "V14": -0.165945922763554,
         "V15": 2.34586494901581,
         "V16": -2.89008319444231,
         "V17": 1.10996937869599,
         "V18": -0.121359313195888,
         "V19": -2.26185709530414,
         "V2": -1.34016307473609,
         "V20": 0.524979725224404,
         "V21": 0.247998153469754,
         "V22": 0.771679401917229,
         "V23": 0.909412262347719,
         "V24": -0.689280956490685,
         "V25": -0.327641833735251,
         "V26": -0.139096571514147,
         "V27": -0.0553527940384261,
         "V28": -0.0597518405929204,
         "V3": 1.77320934263119,
         "V4": 0.379779593034328,
         "V5": -0.503198133318193,
         "V6": 1.80049938079263,
         "V7": 0.791460956450422,
         "V8": 0.247675786588991,
         "V9": -1.51465432260583,
         "_deepnote_index_column": 2
        },
        {
         "Amount": 123.5,
         "Class": 0,
         "Time": 1,
         "V1": -0.966271711572087,
         "V10": -0.0549519224713749,
         "V11": -0.226487263835401,
         "V12": 0.178228225877303,
         "V13": 0.507756869957169,
         "V14": -0.28792374549456,
         "V15": -0.631418117709045,
         "V16": -1.0596472454325,
         "V17": -0.684092786345479,
         "V18": 1.96577500349538,
         "V19": -1.2326219700892,
         "V2": -0.185226008082898,
         "V20": -0.208037781160366,
         "V21": -0.108300452035545,
         "V22": 0.0052735967825345,
         "V23": -0.190320518742841,
         "V24": -1.17557533186321,
         "V25": 0.647376034602038,
         "V26": -0.221928844458407,
         "V27": 0.0627228487293033,
         "V28": 0.0614576285006353,
         "V3": 1.79299333957872,
         "V4": -0.863291275036453,
         "V5": -0.0103088796030823,
         "V6": 1.24720316752486,
         "V7": 0.23760893977178,
         "V8": 0.377435874652262,
         "V9": -1.38702406270197,
         "_deepnote_index_column": 3
        },
        {
         "Amount": 69.99,
         "Class": 0,
         "Time": 2,
         "V1": -1.15823309349523,
         "V10": 0.753074431976354,
         "V11": -0.822842877946363,
         "V12": 0.53819555014995,
         "V13": 1.3458515932154,
         "V14": -1.11966983471731,
         "V15": 0.175121130008994,
         "V16": -0.451449182813529,
         "V17": -0.237033239362776,
         "V18": -0.0381947870352842,
         "V19": 0.803486924960175,
         "V2": 0.877736754848451,
         "V20": 0.408542360392758,
         "V21": -0.0094306971323291,
         "V22": 0.79827849458971,
         "V23": -0.137458079619063,
         "V24": 0.141266983824769,
         "V25": -0.206009587619756,
         "V26": 0.502292224181569,
         "V27": 0.219422229513348,
         "V28": 0.215153147499206,
         "V3": 1.548717846511,
         "V4": 0.403033933955121,
         "V5": -0.407193377311653,
         "V6": 0.0959214624684256,
         "V7": 0.592940745385545,
         "V8": -0.270532677192282,
         "V9": 0.817739308235294,
         "_deepnote_index_column": 4
        },
        {
         "Amount": 0.77,
         "Class": 0,
         "Time": 172786,
         "V1": -11.8811178854323,
         "V10": 4.35617041320691,
         "V11": -1.59310526246153,
         "V12": 2.71194079105717,
         "V13": -0.68925560917964,
         "V14": 4.62694202525016,
         "V15": -0.92445871482528,
         "V16": 1.10764060095394,
         "V17": 1.99169110706243,
         "V18": 0.510632329130648,
         "V19": -0.682919680356916,
         "V2": 10.0717849710003,
         "V20": 1.4758291346555,
         "V21": 0.213454108437359,
         "V22": 0.111863735978609,
         "V23": 1.01447989719391,
         "V24": -0.509348453168509,
         "V25": 1.4368069070214,
         "V26": 0.250034279569581,
         "V27": 0.943651171507532,
         "V28": 0.823730961486502,
         "V3": -9.83478345739033,
         "V4": -2.06665568459413,
         "V5": -5.36447278097585,
         "V6": -2.6068373309456,
         "V7": -4.91821543115252,
         "V8": 7.305334020798,
         "V9": 1.9144282734458,
         "_deepnote_index_column": 284802
        },
        {
         "Amount": 24.79,
         "Class": 0,
         "Time": 172787,
         "V1": -0.732788670658956,
         "V10": -0.975926063322508,
         "V11": -0.150188847103276,
         "V12": 0.915801914403555,
         "V13": 1.21475584849424,
         "V14": -0.675142955809576,
         "V15": 1.16493090944588,
         "V16": -0.711757349978881,
         "V17": -0.025692855268572,
         "V18": -1.22117885840624,
         "V19": -1.54555608554509,
         "V2": -0.0550804899173326,
         "V20": 0.0596158998872689,
         "V21": 0.214205341747019,
         "V22": 0.924383584903381,
         "V23": 0.0124630383316793,
         "V24": -1.01622566867336,
         "V25": -0.606623985854728,
         "V26": -0.395255065710324,
         "V27": 0.0684724700405593,
         "V28": -0.0535273892010011,
         "V3": 2.03502974528243,
         "V4": -0.73858858438744,
         "V5": 0.868229398914682,
         "V6": 1.05841527222565,
         "V7": 0.0243296959175797,
         "V8": 0.294868698501783,
         "V9": 0.584800017281683,
         "_deepnote_index_column": 284803
        },
        {
         "Amount": 67.88,
         "Class": 0,
         "Time": 172788,
         "V1": 1.91956500980048,
         "V10": -0.484781755751029,
         "V11": 0.411613736794327,
         "V12": 0.0631188625621446,
         "V13": -0.183698687930443,
         "V14": -0.510601843577723,
         "V15": 1.32928351250595,
         "V16": 0.140715981685477,
         "V17": 0.313501786950651,
         "V18": 0.395652479334165,
         "V19": -0.577251842501113,
         "V2": -0.301253845990644,
         "V20": 0.0013959702899516,
         "V21": 0.232045035925397,
         "V22": 0.57822900992263,
         "V23": -0.0375008550221367,
         "V24": 0.640133881346421,
         "V25": 0.265745453243744,
         "V26": -0.0873705959041059,
         "V27": 0.0044547721382922,
         "V28": -0.0265608285615222,
         "V3": -3.24963981406834,
         "V4": -0.55782812475002,
         "V5": 2.63051512011547,
         "V6": 3.03126009781428,
         "V7": -0.296826527116156,
         "V8": 0.708417184967134,
         "V9": 0.432454047632915,
         "_deepnote_index_column": 284804
        },
        {
         "Amount": 10,
         "Class": 0,
         "Time": 172788,
         "V1": -0.240440049680947,
         "V10": -0.399125651432835,
         "V11": -1.93384881505713,
         "V12": -0.962886142890271,
         "V13": -1.04208165591191,
         "V14": 0.449624443166001,
         "V15": 1.96256312066577,
         "V16": -0.60857712704613,
         "V17": 0.509928460110321,
         "V18": 1.11398059049908,
         "V19": 2.89784877334313,
         "V2": 0.530482513118839,
         "V20": 0.127433515805355,
         "V21": 0.265244916386865,
         "V22": 0.800048741498139,
         "V23": -0.163297944406659,
         "V24": 0.123205243742508,
         "V25": -0.569158864158597,
         "V26": 0.546668462188323,
         "V27": 0.108820734744839,
         "V28": 0.104532821478796,
         "V3": 0.702510230095103,
         "V4": 0.689799168040973,
         "V5": -0.377961134444982,
         "V6": 0.62370772214768,
         "V7": -0.68617998628885,
         "V8": 0.679145459790659,
         "V9": 0.392086712465972,
         "_deepnote_index_column": 284805
        },
        {
         "Amount": 217,
         "Class": 0,
         "Time": 172792,
         "V1": -0.53341252200504,
         "V10": -0.915426648905893,
         "V11": -1.04045833522361,
         "V12": -0.0315130540252157,
         "V13": -0.188092900791737,
         "V14": -0.0843164698151014,
         "V15": 0.0413334553360658,
         "V16": -0.302620086427415,
         "V17": -0.660376645182784,
         "V18": 0.16742993371973,
         "V19": -0.256116871098099,
         "V2": -0.189733337002305,
         "V20": 0.382948104875066,
         "V21": 0.261057330790975,
         "V22": 0.643078437820093,
         "V23": 0.376777014169917,
         "V24": 0.008797379400242,
         "V25": -0.473648703898825,
         "V26": -0.818267121041176,
         "V27": -0.0024153088000101,
         "V28": 0.0136489143320671,
         "V3": 0.703337366963779,
         "V4": -0.506271240328258,
         "V5": -0.0125456787599659,
         "V6": -0.649616685713792,
         "V7": 1.57700625437629,
         "V8": -0.414650407552662,
         "V9": 0.486179505267237,
         "_deepnote_index_column": 284806
        }
       ]
      },
      "text/html": [
       "<div>\n",
       "<style scoped>\n",
       "    .dataframe tbody tr th:only-of-type {\n",
       "        vertical-align: middle;\n",
       "    }\n",
       "\n",
       "    .dataframe tbody tr th {\n",
       "        vertical-align: top;\n",
       "    }\n",
       "\n",
       "    .dataframe thead th {\n",
       "        text-align: right;\n",
       "    }\n",
       "</style>\n",
       "<table border=\"1\" class=\"dataframe\">\n",
       "  <thead>\n",
       "    <tr style=\"text-align: right;\">\n",
       "      <th></th>\n",
       "      <th>Time</th>\n",
       "      <th>V1</th>\n",
       "      <th>V2</th>\n",
       "      <th>V3</th>\n",
       "      <th>V4</th>\n",
       "      <th>V5</th>\n",
       "      <th>V6</th>\n",
       "      <th>V7</th>\n",
       "      <th>V8</th>\n",
       "      <th>V9</th>\n",
       "      <th>...</th>\n",
       "      <th>V21</th>\n",
       "      <th>V22</th>\n",
       "      <th>V23</th>\n",
       "      <th>V24</th>\n",
       "      <th>V25</th>\n",
       "      <th>V26</th>\n",
       "      <th>V27</th>\n",
       "      <th>V28</th>\n",
       "      <th>Amount</th>\n",
       "      <th>Class</th>\n",
       "    </tr>\n",
       "  </thead>\n",
       "  <tbody>\n",
       "    <tr>\n",
       "      <th>0</th>\n",
       "      <td>0.0</td>\n",
       "      <td>-1.359807</td>\n",
       "      <td>-0.072781</td>\n",
       "      <td>2.536347</td>\n",
       "      <td>1.378155</td>\n",
       "      <td>-0.338321</td>\n",
       "      <td>0.462388</td>\n",
       "      <td>0.239599</td>\n",
       "      <td>0.098698</td>\n",
       "      <td>0.363787</td>\n",
       "      <td>...</td>\n",
       "      <td>-0.018307</td>\n",
       "      <td>0.277838</td>\n",
       "      <td>-0.110474</td>\n",
       "      <td>0.066928</td>\n",
       "      <td>0.128539</td>\n",
       "      <td>-0.189115</td>\n",
       "      <td>0.133558</td>\n",
       "      <td>-0.021053</td>\n",
       "      <td>149.62</td>\n",
       "      <td>0</td>\n",
       "    </tr>\n",
       "    <tr>\n",
       "      <th>1</th>\n",
       "      <td>0.0</td>\n",
       "      <td>1.191857</td>\n",
       "      <td>0.266151</td>\n",
       "      <td>0.166480</td>\n",
       "      <td>0.448154</td>\n",
       "      <td>0.060018</td>\n",
       "      <td>-0.082361</td>\n",
       "      <td>-0.078803</td>\n",
       "      <td>0.085102</td>\n",
       "      <td>-0.255425</td>\n",
       "      <td>...</td>\n",
       "      <td>-0.225775</td>\n",
       "      <td>-0.638672</td>\n",
       "      <td>0.101288</td>\n",
       "      <td>-0.339846</td>\n",
       "      <td>0.167170</td>\n",
       "      <td>0.125895</td>\n",
       "      <td>-0.008983</td>\n",
       "      <td>0.014724</td>\n",
       "      <td>2.69</td>\n",
       "      <td>0</td>\n",
       "    </tr>\n",
       "    <tr>\n",
       "      <th>2</th>\n",
       "      <td>1.0</td>\n",
       "      <td>-1.358354</td>\n",
       "      <td>-1.340163</td>\n",
       "      <td>1.773209</td>\n",
       "      <td>0.379780</td>\n",
       "      <td>-0.503198</td>\n",
       "      <td>1.800499</td>\n",
       "      <td>0.791461</td>\n",
       "      <td>0.247676</td>\n",
       "      <td>-1.514654</td>\n",
       "      <td>...</td>\n",
       "      <td>0.247998</td>\n",
       "      <td>0.771679</td>\n",
       "      <td>0.909412</td>\n",
       "      <td>-0.689281</td>\n",
       "      <td>-0.327642</td>\n",
       "      <td>-0.139097</td>\n",
       "      <td>-0.055353</td>\n",
       "      <td>-0.059752</td>\n",
       "      <td>378.66</td>\n",
       "      <td>0</td>\n",
       "    </tr>\n",
       "    <tr>\n",
       "      <th>3</th>\n",
       "      <td>1.0</td>\n",
       "      <td>-0.966272</td>\n",
       "      <td>-0.185226</td>\n",
       "      <td>1.792993</td>\n",
       "      <td>-0.863291</td>\n",
       "      <td>-0.010309</td>\n",
       "      <td>1.247203</td>\n",
       "      <td>0.237609</td>\n",
       "      <td>0.377436</td>\n",
       "      <td>-1.387024</td>\n",
       "      <td>...</td>\n",
       "      <td>-0.108300</td>\n",
       "      <td>0.005274</td>\n",
       "      <td>-0.190321</td>\n",
       "      <td>-1.175575</td>\n",
       "      <td>0.647376</td>\n",
       "      <td>-0.221929</td>\n",
       "      <td>0.062723</td>\n",
       "      <td>0.061458</td>\n",
       "      <td>123.50</td>\n",
       "      <td>0</td>\n",
       "    </tr>\n",
       "    <tr>\n",
       "      <th>4</th>\n",
       "      <td>2.0</td>\n",
       "      <td>-1.158233</td>\n",
       "      <td>0.877737</td>\n",
       "      <td>1.548718</td>\n",
       "      <td>0.403034</td>\n",
       "      <td>-0.407193</td>\n",
       "      <td>0.095921</td>\n",
       "      <td>0.592941</td>\n",
       "      <td>-0.270533</td>\n",
       "      <td>0.817739</td>\n",
       "      <td>...</td>\n",
       "      <td>-0.009431</td>\n",
       "      <td>0.798278</td>\n",
       "      <td>-0.137458</td>\n",
       "      <td>0.141267</td>\n",
       "      <td>-0.206010</td>\n",
       "      <td>0.502292</td>\n",
       "      <td>0.219422</td>\n",
       "      <td>0.215153</td>\n",
       "      <td>69.99</td>\n",
       "      <td>0</td>\n",
       "    </tr>\n",
       "    <tr>\n",
       "      <th>284802</th>\n",
       "      <td>172786.0</td>\n",
       "      <td>-11.881118</td>\n",
       "      <td>10.071785</td>\n",
       "      <td>-9.834783</td>\n",
       "      <td>-2.066656</td>\n",
       "      <td>-5.364473</td>\n",
       "      <td>-2.606837</td>\n",
       "      <td>-4.918215</td>\n",
       "      <td>7.305334</td>\n",
       "      <td>1.914428</td>\n",
       "      <td>...</td>\n",
       "      <td>0.213454</td>\n",
       "      <td>0.111864</td>\n",
       "      <td>1.014480</td>\n",
       "      <td>-0.509348</td>\n",
       "      <td>1.436807</td>\n",
       "      <td>0.250034</td>\n",
       "      <td>0.943651</td>\n",
       "      <td>0.823731</td>\n",
       "      <td>0.77</td>\n",
       "      <td>0</td>\n",
       "    </tr>\n",
       "    <tr>\n",
       "      <th>284803</th>\n",
       "      <td>172787.0</td>\n",
       "      <td>-0.732789</td>\n",
       "      <td>-0.055080</td>\n",
       "      <td>2.035030</td>\n",
       "      <td>-0.738589</td>\n",
       "      <td>0.868229</td>\n",
       "      <td>1.058415</td>\n",
       "      <td>0.024330</td>\n",
       "      <td>0.294869</td>\n",
       "      <td>0.584800</td>\n",
       "      <td>...</td>\n",
       "      <td>0.214205</td>\n",
       "      <td>0.924384</td>\n",
       "      <td>0.012463</td>\n",
       "      <td>-1.016226</td>\n",
       "      <td>-0.606624</td>\n",
       "      <td>-0.395255</td>\n",
       "      <td>0.068472</td>\n",
       "      <td>-0.053527</td>\n",
       "      <td>24.79</td>\n",
       "      <td>0</td>\n",
       "    </tr>\n",
       "    <tr>\n",
       "      <th>284804</th>\n",
       "      <td>172788.0</td>\n",
       "      <td>1.919565</td>\n",
       "      <td>-0.301254</td>\n",
       "      <td>-3.249640</td>\n",
       "      <td>-0.557828</td>\n",
       "      <td>2.630515</td>\n",
       "      <td>3.031260</td>\n",
       "      <td>-0.296827</td>\n",
       "      <td>0.708417</td>\n",
       "      <td>0.432454</td>\n",
       "      <td>...</td>\n",
       "      <td>0.232045</td>\n",
       "      <td>0.578229</td>\n",
       "      <td>-0.037501</td>\n",
       "      <td>0.640134</td>\n",
       "      <td>0.265745</td>\n",
       "      <td>-0.087371</td>\n",
       "      <td>0.004455</td>\n",
       "      <td>-0.026561</td>\n",
       "      <td>67.88</td>\n",
       "      <td>0</td>\n",
       "    </tr>\n",
       "    <tr>\n",
       "      <th>284805</th>\n",
       "      <td>172788.0</td>\n",
       "      <td>-0.240440</td>\n",
       "      <td>0.530483</td>\n",
       "      <td>0.702510</td>\n",
       "      <td>0.689799</td>\n",
       "      <td>-0.377961</td>\n",
       "      <td>0.623708</td>\n",
       "      <td>-0.686180</td>\n",
       "      <td>0.679145</td>\n",
       "      <td>0.392087</td>\n",
       "      <td>...</td>\n",
       "      <td>0.265245</td>\n",
       "      <td>0.800049</td>\n",
       "      <td>-0.163298</td>\n",
       "      <td>0.123205</td>\n",
       "      <td>-0.569159</td>\n",
       "      <td>0.546668</td>\n",
       "      <td>0.108821</td>\n",
       "      <td>0.104533</td>\n",
       "      <td>10.00</td>\n",
       "      <td>0</td>\n",
       "    </tr>\n",
       "    <tr>\n",
       "      <th>284806</th>\n",
       "      <td>172792.0</td>\n",
       "      <td>-0.533413</td>\n",
       "      <td>-0.189733</td>\n",
       "      <td>0.703337</td>\n",
       "      <td>-0.506271</td>\n",
       "      <td>-0.012546</td>\n",
       "      <td>-0.649617</td>\n",
       "      <td>1.577006</td>\n",
       "      <td>-0.414650</td>\n",
       "      <td>0.486180</td>\n",
       "      <td>...</td>\n",
       "      <td>0.261057</td>\n",
       "      <td>0.643078</td>\n",
       "      <td>0.376777</td>\n",
       "      <td>0.008797</td>\n",
       "      <td>-0.473649</td>\n",
       "      <td>-0.818267</td>\n",
       "      <td>-0.002415</td>\n",
       "      <td>0.013649</td>\n",
       "      <td>217.00</td>\n",
       "      <td>0</td>\n",
       "    </tr>\n",
       "  </tbody>\n",
       "</table>\n",
       "<p>10 rows × 31 columns</p>\n",
       "</div>"
      ],
      "text/plain": [
       "            Time         V1         V2        V3        V4        V5  \\\n",
       "0            0.0  -1.359807  -0.072781  2.536347  1.378155 -0.338321   \n",
       "1            0.0   1.191857   0.266151  0.166480  0.448154  0.060018   \n",
       "2            1.0  -1.358354  -1.340163  1.773209  0.379780 -0.503198   \n",
       "3            1.0  -0.966272  -0.185226  1.792993 -0.863291 -0.010309   \n",
       "4            2.0  -1.158233   0.877737  1.548718  0.403034 -0.407193   \n",
       "284802  172786.0 -11.881118  10.071785 -9.834783 -2.066656 -5.364473   \n",
       "284803  172787.0  -0.732789  -0.055080  2.035030 -0.738589  0.868229   \n",
       "284804  172788.0   1.919565  -0.301254 -3.249640 -0.557828  2.630515   \n",
       "284805  172788.0  -0.240440   0.530483  0.702510  0.689799 -0.377961   \n",
       "284806  172792.0  -0.533413  -0.189733  0.703337 -0.506271 -0.012546   \n",
       "\n",
       "              V6        V7        V8        V9  ...       V21       V22  \\\n",
       "0       0.462388  0.239599  0.098698  0.363787  ... -0.018307  0.277838   \n",
       "1      -0.082361 -0.078803  0.085102 -0.255425  ... -0.225775 -0.638672   \n",
       "2       1.800499  0.791461  0.247676 -1.514654  ...  0.247998  0.771679   \n",
       "3       1.247203  0.237609  0.377436 -1.387024  ... -0.108300  0.005274   \n",
       "4       0.095921  0.592941 -0.270533  0.817739  ... -0.009431  0.798278   \n",
       "284802 -2.606837 -4.918215  7.305334  1.914428  ...  0.213454  0.111864   \n",
       "284803  1.058415  0.024330  0.294869  0.584800  ...  0.214205  0.924384   \n",
       "284804  3.031260 -0.296827  0.708417  0.432454  ...  0.232045  0.578229   \n",
       "284805  0.623708 -0.686180  0.679145  0.392087  ...  0.265245  0.800049   \n",
       "284806 -0.649617  1.577006 -0.414650  0.486180  ...  0.261057  0.643078   \n",
       "\n",
       "             V23       V24       V25       V26       V27       V28  Amount  \\\n",
       "0      -0.110474  0.066928  0.128539 -0.189115  0.133558 -0.021053  149.62   \n",
       "1       0.101288 -0.339846  0.167170  0.125895 -0.008983  0.014724    2.69   \n",
       "2       0.909412 -0.689281 -0.327642 -0.139097 -0.055353 -0.059752  378.66   \n",
       "3      -0.190321 -1.175575  0.647376 -0.221929  0.062723  0.061458  123.50   \n",
       "4      -0.137458  0.141267 -0.206010  0.502292  0.219422  0.215153   69.99   \n",
       "284802  1.014480 -0.509348  1.436807  0.250034  0.943651  0.823731    0.77   \n",
       "284803  0.012463 -1.016226 -0.606624 -0.395255  0.068472 -0.053527   24.79   \n",
       "284804 -0.037501  0.640134  0.265745 -0.087371  0.004455 -0.026561   67.88   \n",
       "284805 -0.163298  0.123205 -0.569159  0.546668  0.108821  0.104533   10.00   \n",
       "284806  0.376777  0.008797 -0.473649 -0.818267 -0.002415  0.013649  217.00   \n",
       "\n",
       "        Class  \n",
       "0           0  \n",
       "1           0  \n",
       "2           0  \n",
       "3           0  \n",
       "4           0  \n",
       "284802      0  \n",
       "284803      0  \n",
       "284804      0  \n",
       "284805      0  \n",
       "284806      0  \n",
       "\n",
       "[10 rows x 31 columns]"
      ]
     },
     "execution_count": 2,
     "metadata": {},
     "output_type": "execute_result"
    }
   ],
   "source": [
    "#read the dataset\n",
    "data = pd.read_csv(\"Data3_creditcard.csv\")\n",
    "# read the first 5 and last 5 rows of the data\n",
    "data.head().append(data.tail())"
   ]
  },
  {
   "cell_type": "markdown",
   "metadata": {
    "cell_id": "f127e3e730fe411f902fa55c98a24940",
    "deepnote_cell_height": 70,
    "deepnote_cell_type": "markdown",
    "tags": []
   },
   "source": [
    "## Data description"
   ]
  },
  {
   "cell_type": "code",
   "execution_count": null,
   "metadata": {
    "cell_id": "115b527e968b48b580906835c036dc83",
    "deepnote_cell_height": 666.1875,
    "deepnote_cell_type": "code",
    "deepnote_output_heights": [
     null,
     21.1875,
     233
    ],
    "deepnote_to_be_reexecuted": false,
    "execution_millis": 327,
    "execution_start": 1655337098926,
    "source_hash": "53131a8a",
    "tags": []
   },
   "outputs": [
    {
     "name": "stdout",
     "output_type": "stream",
     "text": [
      "Fraudulent Cases: 492\n",
      "Valid Transactions: 284315\n",
      "Proportion of Fraudulent Cases: 0.001727485630620034\n"
     ]
    },
    {
     "data": {
      "text/plain": [
       "<AxesSubplot:ylabel=' '>"
      ]
     },
     "execution_count": 3,
     "metadata": {},
     "output_type": "execute_result"
    },
    {
     "data": {
      "image/png": "[encoded data removed]",
      "text/plain": [
       "<Figure size 432x288 with 1 Axes>"
      ]
     },
     "metadata": {
      "image/png": {
       "height": 231,
       "width": 275
      }
     },
     "output_type": "display_data"
    }
   ],
   "source": [
    "# check for relative proportion \n",
    "print(\"Fraudulent Cases: \" + str(len(data[data[\"Class\"] == 1])))\n",
    "print(\"Valid Transactions: \" + str(len(data[data[\"Class\"] == 0])))\n",
    "print(\"Proportion of Fraudulent Cases: \" + str(len(data[data[\"Class\"] == 1])/ data.shape[0]))\n",
    "\n",
    "# To see how small are the number of Fraud transactions\n",
    "data_pi = data.copy()\n",
    "data_pi[\" \"] = np.where(data_pi[\"Class\"] == 1 ,  \"Fraud\", \"Genuine\")\n",
    "\n",
    "# plot a pie chart\n",
    "%matplotlib inline\n",
    "data_pi[\" \"].value_counts().plot(kind=\"pie\")"
   ]
  },
  {
   "cell_type": "code",
   "execution_count": null,
   "metadata": {
    "cell_id": "7b21121d567d4ecdaec30968c8d6e62b",
    "deepnote_cell_height": 552.796875,
    "deepnote_cell_type": "code",
    "deepnote_to_be_reexecuted": false,
    "execution_millis": 482,
    "execution_start": 1655337099294,
    "source_hash": "f1bf86f7",
    "tags": []
   },
   "outputs": [
    {
     "data": {
      "application/vnd.deepnote.dataframe.v3+json": {
       "column_count": 31,
       "columns": [
        {
         "dtype": "float64",
         "name": "Time",
         "stats": {
          "histogram": [
           {
            "bin_end": 28480.7,
            "bin_start": 0,
            "count": 1
           },
           {
            "bin_end": 56961.4,
            "bin_start": 28480.7,
            "count": 2
           },
           {
            "bin_end": 85442.1,
            "bin_start": 56961.4,
            "count": 1
           },
           {
            "bin_end": 113922.8,
            "bin_start": 85442.1,
            "count": 1
           },
           {
            "bin_end": 142403.5,
            "bin_start": 113922.8,
            "count": 1
           },
           {
            "bin_end": 170884.2,
            "bin_start": 142403.5,
            "count": 0
           },
           {
            "bin_end": 199364.9,
            "bin_start": 170884.2,
            "count": 1
           },
           {
            "bin_end": 227845.6,
            "bin_start": 199364.9,
            "count": 0
           },
           {
            "bin_end": 256326.30000000002,
            "bin_start": 227845.6,
            "count": 0
           },
           {
            "bin_end": 284807,
            "bin_start": 256326.30000000002,
            "count": 1
           }
          ],
          "max": "284807.0",
          "min": "0.0",
          "nan_count": 0,
          "unique_count": 8
         }
        },
        {
         "dtype": "float64",
         "name": "V1",
         "stats": {
          "histogram": [
           {
            "bin_end": 28429.9332413318,
            "bin_start": -56.407509631329,
            "count": 7
           },
           {
            "bin_end": 56916.273992294926,
            "bin_start": 28429.9332413318,
            "count": 0
           },
           {
            "bin_end": 85402.61474325805,
            "bin_start": 56916.273992294926,
            "count": 0
           },
           {
            "bin_end": 113888.95549422118,
            "bin_start": 85402.61474325805,
            "count": 0
           },
           {
            "bin_end": 142375.29624518432,
            "bin_start": 113888.95549422118,
            "count": 0
           },
           {
            "bin_end": 170861.63699614743,
            "bin_start": 142375.29624518432,
            "count": 0
           },
           {
            "bin_end": 199347.97774711056,
            "bin_start": 170861.63699614743,
            "count": 0
           },
           {
            "bin_end": 227834.3184980737,
            "bin_start": 199347.97774711056,
            "count": 0
           },
           {
            "bin_end": 256320.65924903683,
            "bin_start": 227834.3184980737,
            "count": 0
           },
           {
            "bin_end": 284807,
            "bin_start": 256320.65924903683,
            "count": 1
           }
          ],
          "max": "284807.0",
          "min": "-56.407509631329",
          "nan_count": 0,
          "unique_count": 8
         }
        },
        {
         "dtype": "float64",
         "name": "V2",
         "stats": {
          "histogram": [
           {
            "bin_end": 28415.255845193366,
            "bin_start": -72.7157275629303,
            "count": 7
           },
           {
            "bin_end": 56903.22741794966,
            "bin_start": 28415.255845193366,
            "count": 0
           },
           {
            "bin_end": 85391.19899070595,
            "bin_start": 56903.22741794966,
            "count": 0
           },
           {
            "bin_end": 113879.17056346225,
            "bin_start": 85391.19899070595,
            "count": 0
           },
           {
            "bin_end": 142367.14213621855,
            "bin_start": 113879.17056346225,
            "count": 0
           },
           {
            "bin_end": 170855.11370897482,
            "bin_start": 142367.14213621855,
            "count": 0
           },
           {
            "bin_end": 199343.08528173112,
            "bin_start": 170855.11370897482,
            "count": 0
           },
           {
            "bin_end": 227831.05685448743,
            "bin_start": 199343.08528173112,
            "count": 0
           },
           {
            "bin_end": 256319.02842724373,
            "bin_start": 227831.05685448743,
            "count": 0
           },
           {
            "bin_end": 284807,
            "bin_start": 256319.02842724373,
            "count": 1
           }
          ],
          "max": "284807.0",
          "min": "-72.7157275629303",
          "nan_count": 0,
          "unique_count": 8
         }
        },
        {
         "dtype": "float64",
         "name": "V3",
         "stats": {
          "histogram": [
           {
            "bin_end": 28437.206969573846,
            "bin_start": -48.3255893623954,
            "count": 7
           },
           {
            "bin_end": 56922.73952851009,
            "bin_start": 28437.206969573846,
            "count": 0
           },
           {
            "bin_end": 85408.27208744631,
            "bin_start": 56922.73952851009,
            "count": 0
           },
           {
            "bin_end": 113893.80464638256,
            "bin_start": 85408.27208744631,
            "count": 0
           },
           {
            "bin_end": 142379.33720531882,
            "bin_start": 113893.80464638256,
            "count": 0
           },
           {
            "bin_end": 170864.86976425504,
            "bin_start": 142379.33720531882,
            "count": 0
           },
           {
            "bin_end": 199350.4023231913,
            "bin_start": 170864.86976425504,
            "count": 0
           },
           {
            "bin_end": 227835.93488212753,
            "bin_start": 199350.4023231913,
            "count": 0
           },
           {
            "bin_end": 256321.46744106378,
            "bin_start": 227835.93488212753,
            "count": 0
           },
           {
            "bin_end": 284807,
            "bin_start": 256321.46744106378,
            "count": 1
           }
          ],
          "max": "284807.0",
          "min": "-48.3255893623954",
          "nan_count": 0,
          "unique_count": 8
         }
        },
        {
         "dtype": "float64",
         "name": "V4",
         "stats": {
          "histogram": [
           {
            "bin_end": 28475.58514592165,
            "bin_start": -5.68317119816995,
            "count": 7
           },
           {
            "bin_end": 56956.853463041465,
            "bin_start": 28475.58514592165,
            "count": 0
           },
           {
            "bin_end": 85438.1217801613,
            "bin_start": 56956.853463041465,
            "count": 0
           },
           {
            "bin_end": 113919.39009728111,
            "bin_start": 85438.1217801613,
            "count": 0
           },
           {
            "bin_end": 142400.6584144009,
            "bin_start": 113919.39009728111,
            "count": 0
           },
           {
            "bin_end": 170881.92673152074,
            "bin_start": 142400.6584144009,
            "count": 0
           },
           {
            "bin_end": 199363.19504864054,
            "bin_start": 170881.92673152074,
            "count": 0
           },
           {
            "bin_end": 227844.46336576037,
            "bin_start": 199363.19504864054,
            "count": 0
           },
           {
            "bin_end": 256325.7316828802,
            "bin_start": 227844.46336576037,
            "count": 0
           },
           {
            "bin_end": 284807,
            "bin_start": 256325.7316828802,
            "count": 1
           }
          ],
          "max": "284807.0",
          "min": "-5.68317119816995",
          "nan_count": 0,
          "unique_count": 8
         }
        },
        {
         "dtype": "float64",
         "name": "V5",
         "stats": {
          "histogram": [
           {
            "bin_end": 28378.33102395997,
            "bin_start": -113.743306711146,
            "count": 7
           },
           {
            "bin_end": 56870.40535463108,
            "bin_start": 28378.33102395997,
            "count": 0
           },
           {
            "bin_end": 85362.47968530221,
            "bin_start": 56870.40535463108,
            "count": 0
           },
           {
            "bin_end": 113854.55401597332,
            "bin_start": 85362.47968530221,
            "count": 0
           },
           {
            "bin_end": 142346.62834664443,
            "bin_start": 113854.55401597332,
            "count": 0
           },
           {
            "bin_end": 170838.70267731557,
            "bin_start": 142346.62834664443,
            "count": 0
           },
           {
            "bin_end": 199330.77700798668,
            "bin_start": 170838.70267731557,
            "count": 0
           },
           {
            "bin_end": 227822.85133865778,
            "bin_start": 199330.77700798668,
            "count": 0
           },
           {
            "bin_end": 256314.9256693289,
            "bin_start": 227822.85133865778,
            "count": 0
           },
           {
            "bin_end": 284807,
            "bin_start": 256314.9256693289,
            "count": 1
           }
          ],
          "max": "284807.0",
          "min": "-113.743306711146",
          "nan_count": 0,
          "unique_count": 8
         }
        },
        {
         "dtype": "float64",
         "name": "V6",
         "stats": {
          "histogram": [
           {
            "bin_end": 28457.15554465774,
            "bin_start": -26.1605059358433,
            "count": 7
           },
           {
            "bin_end": 56940.47159525133,
            "bin_start": 28457.15554465774,
            "count": 0
           },
           {
            "bin_end": 85423.78764584492,
            "bin_start": 56940.47159525133,
            "count": 0
           },
           {
            "bin_end": 113907.1036964385,
            "bin_start": 85423.78764584492,
            "count": 0
           },
           {
            "bin_end": 142390.41974703208,
            "bin_start": 113907.1036964385,
            "count": 0
           },
           {
            "bin_end": 170873.73579762568,
            "bin_start": 142390.41974703208,
            "count": 0
           },
           {
            "bin_end": 199357.05184821924,
            "bin_start": 170873.73579762568,
            "count": 0
           },
           {
            "bin_end": 227840.36789881284,
            "bin_start": 199357.05184821924,
            "count": 0
           },
           {
            "bin_end": 256323.68394940643,
            "bin_start": 227840.36789881284,
            "count": 0
           },
           {
            "bin_end": 284807,
            "bin_start": 256323.68394940643,
            "count": 1
           }
          ],
          "max": "284807.0",
          "min": "-26.1605059358433",
          "nan_count": 0,
          "unique_count": 8
         }
        },
        {
         "dtype": "float64",
         "name": "V7",
         "stats": {
          "histogram": [
           {
            "bin_end": 28441.49848258588,
            "bin_start": -43.5572415712451,
            "count": 7
           },
           {
            "bin_end": 56926.55420674301,
            "bin_start": 28441.49848258588,
            "count": 0
           },
           {
            "bin_end": 85411.60993090013,
            "bin_start": 56926.55420674301,
            "count": 0
           },
           {
            "bin_end": 113896.66565505725,
            "bin_start": 85411.60993090013,
            "count": 0
           },
           {
            "bin_end": 142381.72137921437,
            "bin_start": 113896.66565505725,
            "count": 0
           },
           {
            "bin_end": 170866.7771033715,
            "bin_start": 142381.72137921437,
            "count": 0
           },
           {
            "bin_end": 199351.83282752862,
            "bin_start": 170866.7771033715,
            "count": 0
           },
           {
            "bin_end": 227836.88855168576,
            "bin_start": 199351.83282752862,
            "count": 0
           },
           {
            "bin_end": 256321.9442758429,
            "bin_start": 227836.88855168576,
            "count": 0
           },
           {
            "bin_end": 284807,
            "bin_start": 256321.9442758429,
            "count": 1
           }
          ],
          "max": "284807.0",
          "min": "-43.5572415712451",
          "nan_count": 0,
          "unique_count": 8
         }
        },
        {
         "dtype": "float64",
         "name": "V8",
         "stats": {
          "histogram": [
           {
            "bin_end": 28414.80495339026,
            "bin_start": -73.2167184552674,
            "count": 7
           },
           {
            "bin_end": 56902.826625235786,
            "bin_start": 28414.80495339026,
            "count": 0
           },
           {
            "bin_end": 85390.84829708132,
            "bin_start": 56902.826625235786,
            "count": 0
           },
           {
            "bin_end": 113878.86996892684,
            "bin_start": 85390.84829708132,
            "count": 0
           },
           {
            "bin_end": 142366.89164077234,
            "bin_start": 113878.86996892684,
            "count": 0
           },
           {
            "bin_end": 170854.9133126179,
            "bin_start": 142366.89164077234,
            "count": 0
           },
           {
            "bin_end": 199342.9349844634,
            "bin_start": 170854.9133126179,
            "count": 0
           },
           {
            "bin_end": 227830.95665630893,
            "bin_start": 199342.9349844634,
            "count": 0
           },
           {
            "bin_end": 256318.97832815445,
            "bin_start": 227830.95665630893,
            "count": 0
           },
           {
            "bin_end": 284807,
            "bin_start": 256318.97832815445,
            "count": 1
           }
          ],
          "max": "284807.0",
          "min": "-73.2167184552674",
          "nan_count": 0,
          "unique_count": 8
         }
        },
        {
         "dtype": "float64",
         "name": "V9",
         "stats": {
          "histogram": [
           {
            "bin_end": 28468.60934031359,
            "bin_start": -13.4340663182301,
            "count": 7
           },
           {
            "bin_end": 56950.65274694541,
            "bin_start": 28468.60934031359,
            "count": 0
           },
           {
            "bin_end": 85432.69615357723,
            "bin_start": 56950.65274694541,
            "count": 0
           },
           {
            "bin_end": 113914.73956020905,
            "bin_start": 85432.69615357723,
            "count": 0
           },
           {
            "bin_end": 142396.78296684087,
            "bin_start": 113914.73956020905,
            "count": 0
           },
           {
            "bin_end": 170878.82637347266,
            "bin_start": 142396.78296684087,
            "count": 0
           },
           {
            "bin_end": 199360.8697801045,
            "bin_start": 170878.82637347266,
            "count": 0
           },
           {
            "bin_end": 227842.91318673632,
            "bin_start": 199360.8697801045,
            "count": 0
           },
           {
            "bin_end": 256324.95659336814,
            "bin_start": 227842.91318673632,
            "count": 0
           },
           {
            "bin_end": 284807,
            "bin_start": 256324.95659336814,
            "count": 1
           }
          ],
          "max": "284807.0",
          "min": "-13.4340663182301",
          "nan_count": 0,
          "unique_count": 8
         }
        },
        {
         "dtype": "float64",
         "name": "V10",
         "stats": {
          "histogram": [
           {
            "bin_end": 28458.57056380648,
            "bin_start": -24.5882624372475,
            "count": 7
           },
           {
            "bin_end": 56941.729390050205,
            "bin_start": 28458.57056380648,
            "count": 0
           },
           {
            "bin_end": 85424.88821629393,
            "bin_start": 56941.729390050205,
            "count": 0
           },
           {
            "bin_end": 113908.04704253766,
            "bin_start": 85424.88821629393,
            "count": 0
           },
           {
            "bin_end": 142391.20586878137,
            "bin_start": 113908.04704253766,
            "count": 0
           },
           {
            "bin_end": 170874.36469502508,
            "bin_start": 142391.20586878137,
            "count": 0
           },
           {
            "bin_end": 199357.52352126883,
            "bin_start": 170874.36469502508,
            "count": 0
           },
           {
            "bin_end": 227840.68234751254,
            "bin_start": 199357.52352126883,
            "count": 0
           },
           {
            "bin_end": 256323.84117375626,
            "bin_start": 227840.68234751254,
            "count": 0
           },
           {
            "bin_end": 284807,
            "bin_start": 256323.84117375626,
            "count": 1
           }
          ],
          "max": "284807.0",
          "min": "-24.5882624372475",
          "nan_count": 0,
          "unique_count": 8
         }
        },
        {
         "dtype": "float64",
         "name": "V11",
         "stats": {
          "histogram": [
           {
            "bin_end": 28476.38227388168,
            "bin_start": -4.79747346479757,
            "count": 7
           },
           {
            "bin_end": 56957.562021228165,
            "bin_start": 28476.38227388168,
            "count": 0
           },
           {
            "bin_end": 85438.74176857463,
            "bin_start": 56957.562021228165,
            "count": 0
           },
           {
            "bin_end": 113919.92151592112,
            "bin_start": 85438.74176857463,
            "count": 0
           },
           {
            "bin_end": 142401.1012632676,
            "bin_start": 113919.92151592112,
            "count": 0
           },
           {
            "bin_end": 170882.28101061407,
            "bin_start": 142401.1012632676,
            "count": 0
           },
           {
            "bin_end": 199363.46075796057,
            "bin_start": 170882.28101061407,
            "count": 0
           },
           {
            "bin_end": 227844.64050530703,
            "bin_start": 199363.46075796057,
            "count": 0
           },
           {
            "bin_end": 256325.8202526535,
            "bin_start": 227844.64050530703,
            "count": 0
           },
           {
            "bin_end": 284807,
            "bin_start": 256325.8202526535,
            "count": 1
           }
          ],
          "max": "284807.0",
          "min": "-4.79747346479757",
          "nan_count": 0,
          "unique_count": 8
         }
        },
        {
         "dtype": "float64",
         "name": "V12",
         "stats": {
          "histogram": [
           {
            "bin_end": 28463.88465682999,
            "bin_start": -18.6837146333443,
            "count": 7
           },
           {
            "bin_end": 56946.45302829333,
            "bin_start": 28463.88465682999,
            "count": 0
           },
           {
            "bin_end": 85429.02139975666,
            "bin_start": 56946.45302829333,
            "count": 0
           },
           {
            "bin_end": 113911.58977122,
            "bin_start": 85429.02139975666,
            "count": 0
           },
           {
            "bin_end": 142394.15814268333,
            "bin_start": 113911.58977122,
            "count": 0
           },
           {
            "bin_end": 170876.72651414666,
            "bin_start": 142394.15814268333,
            "count": 0
           },
           {
            "bin_end": 199359.29488561,
            "bin_start": 170876.72651414666,
            "count": 0
           },
           {
            "bin_end": 227841.86325707333,
            "bin_start": 199359.29488561,
            "count": 0
           },
           {
            "bin_end": 256324.43162853667,
            "bin_start": 227841.86325707333,
            "count": 0
           },
           {
            "bin_end": 284807,
            "bin_start": 256324.43162853667,
            "count": 1
           }
          ],
          "max": "284807.0",
          "min": "-18.6837146333443",
          "nan_count": 0,
          "unique_count": 8
         }
        },
        {
         "dtype": "float64",
         "name": "V13",
         "stats": {
          "histogram": [
           {
            "bin_end": 28475.48730691431,
            "bin_start": -5.79188120632084,
            "count": 7
           },
           {
            "bin_end": 56956.76649503494,
            "bin_start": 28475.48730691431,
            "count": 0
           },
           {
            "bin_end": 85438.04568315558,
            "bin_start": 56956.76649503494,
            "count": 0
           },
           {
            "bin_end": 113919.32487127621,
            "bin_start": 85438.04568315558,
            "count": 0
           },
           {
            "bin_end": 142400.60405939684,
            "bin_start": 113919.32487127621,
            "count": 0
           },
           {
            "bin_end": 170881.88324751746,
            "bin_start": 142400.60405939684,
            "count": 0
           },
           {
            "bin_end": 199363.1624356381,
            "bin_start": 170881.88324751746,
            "count": 0
           },
           {
            "bin_end": 227844.44162375873,
            "bin_start": 199363.1624356381,
            "count": 0
           },
           {
            "bin_end": 256325.72081187935,
            "bin_start": 227844.44162375873,
            "count": 0
           },
           {
            "bin_end": 284807,
            "bin_start": 256325.72081187935,
            "count": 1
           }
          ],
          "max": "284807.0",
          "min": "-5.79188120632084",
          "nan_count": 0,
          "unique_count": 8
         }
        },
        {
         "dtype": "float64",
         "name": "V14",
         "stats": {
          "histogram": [
           {
            "bin_end": 28463.40710705876,
            "bin_start": -19.2143254902614,
            "count": 7
           },
           {
            "bin_end": 56946.02853960778,
            "bin_start": 28463.40710705876,
            "count": 0
           },
           {
            "bin_end": 85428.6499721568,
            "bin_start": 56946.02853960778,
            "count": 0
           },
           {
            "bin_end": 113911.27140470583,
            "bin_start": 85428.6499721568,
            "count": 0
           },
           {
            "bin_end": 142393.89283725485,
            "bin_start": 113911.27140470583,
            "count": 0
           },
           {
            "bin_end": 170876.51426980385,
            "bin_start": 142393.89283725485,
            "count": 0
           },
           {
            "bin_end": 199359.13570235288,
            "bin_start": 170876.51426980385,
            "count": 0
           },
           {
            "bin_end": 227841.7571349019,
            "bin_start": 199359.13570235288,
            "count": 0
           },
           {
            "bin_end": 256324.37856745094,
            "bin_start": 227841.7571349019,
            "count": 0
           },
           {
            "bin_end": 284807,
            "bin_start": 256324.37856745094,
            "count": 1
           }
          ],
          "max": "284807.0",
          "min": "-19.2143254902614",
          "nan_count": 0,
          "unique_count": 8
         }
        },
        {
         "dtype": "float64",
         "name": "V15",
         "stats": {
          "histogram": [
           {
            "bin_end": 28476.650949790914,
            "bin_start": -4.49894467676621,
            "count": 7
           },
           {
            "bin_end": 56957.80084425859,
            "bin_start": 28476.650949790914,
            "count": 0
           },
           {
            "bin_end": 85438.95073872627,
            "bin_start": 56957.80084425859,
            "count": 0
           },
           {
            "bin_end": 113920.10063319394,
            "bin_start": 85438.95073872627,
            "count": 0
           },
           {
            "bin_end": 142401.2505276616,
            "bin_start": 113920.10063319394,
            "count": 0
           },
           {
            "bin_end": 170882.4004221293,
            "bin_start": 142401.2505276616,
            "count": 0
           },
           {
            "bin_end": 199363.550316597,
            "bin_start": 170882.4004221293,
            "count": 0
           },
           {
            "bin_end": 227844.70021106466,
            "bin_start": 199363.550316597,
            "count": 0
           },
           {
            "bin_end": 256325.85010553233,
            "bin_start": 227844.70021106466,
            "count": 0
           },
           {
            "bin_end": 284807,
            "bin_start": 256325.85010553233,
            "count": 1
           }
          ],
          "max": "284807.0",
          "min": "-4.49894467676621",
          "nan_count": 0,
          "unique_count": 8
         }
        },
        {
         "dtype": "float64",
         "name": "V16",
         "stats": {
          "histogram": [
           {
            "bin_end": 28467.98313093425,
            "bin_start": -14.1298545174931,
            "count": 7
           },
           {
            "bin_end": 56950.096116386,
            "bin_start": 28467.98313093425,
            "count": 0
           },
           {
            "bin_end": 85432.20910183774,
            "bin_start": 56950.096116386,
            "count": 0
           },
           {
            "bin_end": 113914.32208728949,
            "bin_start": 85432.20910183774,
            "count": 0
           },
           {
            "bin_end": 142396.43507274124,
            "bin_start": 113914.32208728949,
            "count": 0
           },
           {
            "bin_end": 170878.54805819297,
            "bin_start": 142396.43507274124,
            "count": 0
           },
           {
            "bin_end": 199360.66104364474,
            "bin_start": 170878.54805819297,
            "count": 0
           },
           {
            "bin_end": 227842.77402909647,
            "bin_start": 199360.66104364474,
            "count": 0
           },
           {
            "bin_end": 256324.8870145482,
            "bin_start": 227842.77402909647,
            "count": 0
           },
           {
            "bin_end": 284807,
            "bin_start": 256324.8870145482,
            "count": 1
           }
          ],
          "max": "284807.0",
          "min": "-14.1298545174931",
          "nan_count": 0,
          "unique_count": 8
         }
        },
        {
         "dtype": "float64",
         "name": "V17",
         "stats": {
          "histogram": [
           {
            "bin_end": 28458.053480567607,
            "bin_start": -25.1627993693248,
            "count": 7
           },
           {
            "bin_end": 56941.26976050454,
            "bin_start": 28458.053480567607,
            "count": 0
           },
           {
            "bin_end": 85424.48604044148,
            "bin_start": 56941.26976050454,
            "count": 0
           },
           {
            "bin_end": 113907.7023203784,
            "bin_start": 85424.48604044148,
            "count": 0
           },
           {
            "bin_end": 142390.91860031534,
            "bin_start": 113907.7023203784,
            "count": 0
           },
           {
            "bin_end": 170874.1348802523,
            "bin_start": 142390.91860031534,
            "count": 0
           },
           {
            "bin_end": 199357.35116018922,
            "bin_start": 170874.1348802523,
            "count": 0
           },
           {
            "bin_end": 227840.56744012615,
            "bin_start": 199357.35116018922,
            "count": 0
           },
           {
            "bin_end": 256323.78372006307,
            "bin_start": 227840.56744012615,
            "count": 0
           },
           {
            "bin_end": 284807,
            "bin_start": 256323.78372006307,
            "count": 1
           }
          ],
          "max": "284807.0",
          "min": "-25.1627993693248",
          "nan_count": 0,
          "unique_count": 8
         }
        },
        {
         "dtype": "float64",
         "name": "V18",
         "stats": {
          "histogram": [
           {
            "bin_end": 28472.15112867106,
            "bin_start": -9.49874592104677,
            "count": 7
           },
           {
            "bin_end": 56953.801003263165,
            "bin_start": 28472.15112867106,
            "count": 0
           },
           {
            "bin_end": 85435.45087785526,
            "bin_start": 56953.801003263165,
            "count": 0
           },
           {
            "bin_end": 113917.10075244737,
            "bin_start": 85435.45087785526,
            "count": 0
           },
           {
            "bin_end": 142398.7506270395,
            "bin_start": 113917.10075244737,
            "count": 0
           },
           {
            "bin_end": 170880.40050163158,
            "bin_start": 142398.7506270395,
            "count": 0
           },
           {
            "bin_end": 199362.0503762237,
            "bin_start": 170880.40050163158,
            "count": 0
           },
           {
            "bin_end": 227843.7002508158,
            "bin_start": 199362.0503762237,
            "count": 0
           },
           {
            "bin_end": 256325.35012540792,
            "bin_start": 227843.7002508158,
            "count": 0
           },
           {
            "bin_end": 284807,
            "bin_start": 256325.35012540792,
            "count": 1
           }
          ],
          "max": "284807.0",
          "min": "-9.49874592104677",
          "nan_count": 0,
          "unique_count": 8
         }
        },
        {
         "dtype": "float64",
         "name": "V19",
         "stats": {
          "histogram": [
           {
            "bin_end": 28474.207825312842,
            "bin_start": -7.21352743017759,
            "count": 7
           },
           {
            "bin_end": 56955.62917805586,
            "bin_start": 28474.207825312842,
            "count": 0
           },
           {
            "bin_end": 85437.05053079886,
            "bin_start": 56955.62917805586,
            "count": 0
           },
           {
            "bin_end": 113918.47188354189,
            "bin_start": 85437.05053079886,
            "count": 0
           },
           {
            "bin_end": 142399.89323628493,
            "bin_start": 113918.47188354189,
            "count": 0
           },
           {
            "bin_end": 170881.31458902793,
            "bin_start": 142399.89323628493,
            "count": 0
           },
           {
            "bin_end": 199362.73594177095,
            "bin_start": 170881.31458902793,
            "count": 0
           },
           {
            "bin_end": 227844.15729451398,
            "bin_start": 199362.73594177095,
            "count": 0
           },
           {
            "bin_end": 256325.578647257,
            "bin_start": 227844.15729451398,
            "count": 0
           },
           {
            "bin_end": 284807,
            "bin_start": 256325.578647257,
            "count": 1
           }
          ],
          "max": "284807.0",
          "min": "-7.21352743017759",
          "nan_count": 0,
          "unique_count": 8
         }
        },
        {
         "dtype": "float64",
         "name": "V20",
         "stats": {
          "histogram": [
           {
            "bin_end": 28431.652051554895,
            "bin_start": -54.497720494566,
            "count": 7
           },
           {
            "bin_end": 56917.80182360435,
            "bin_start": 28431.652051554895,
            "count": 0
           },
           {
            "bin_end": 85403.95159565382,
            "bin_start": 56917.80182360435,
            "count": 0
           },
           {
            "bin_end": 113890.10136770328,
            "bin_start": 85403.95159565382,
            "count": 0
           },
           {
            "bin_end": 142376.2511397527,
            "bin_start": 113890.10136770328,
            "count": 0
           },
           {
            "bin_end": 170862.4009118022,
            "bin_start": 142376.2511397527,
            "count": 0
           },
           {
            "bin_end": 199348.55068385164,
            "bin_start": 170862.4009118022,
            "count": 0
           },
           {
            "bin_end": 227834.7004559011,
            "bin_start": 199348.55068385164,
            "count": 0
           },
           {
            "bin_end": 256320.85022795055,
            "bin_start": 227834.7004559011,
            "count": 0
           },
           {
            "bin_end": 284807,
            "bin_start": 256320.85022795055,
            "count": 1
           }
          ],
          "max": "284807.0",
          "min": "-54.497720494566",
          "nan_count": 0,
          "unique_count": 8
         }
        },
        {
         "dtype": "float64",
         "name": "V21",
         "stats": {
          "histogram": [
           {
            "bin_end": 28449.35265606967,
            "bin_start": -34.8303821448146,
            "count": 7
           },
           {
            "bin_end": 56933.53569428415,
            "bin_start": 28449.35265606967,
            "count": 0
           },
           {
            "bin_end": 85417.71873249863,
            "bin_start": 56933.53569428415,
            "count": 0
           },
           {
            "bin_end": 113901.90177071311,
            "bin_start": 85417.71873249863,
            "count": 0
           },
           {
            "bin_end": 142386.0848089276,
            "bin_start": 113901.90177071311,
            "count": 0
           },
           {
            "bin_end": 170870.2678471421,
            "bin_start": 142386.0848089276,
            "count": 0
           },
           {
            "bin_end": 199354.45088535658,
            "bin_start": 170870.2678471421,
            "count": 0
           },
           {
            "bin_end": 227838.63392357106,
            "bin_start": 199354.45088535658,
            "count": 0
           },
           {
            "bin_end": 256322.81696178555,
            "bin_start": 227838.63392357106,
            "count": 0
           },
           {
            "bin_end": 284807,
            "bin_start": 256322.81696178555,
            "count": 1
           }
          ],
          "max": "284807.0",
          "min": "-34.8303821448146",
          "nan_count": 0,
          "unique_count": 8
         }
        },
        {
         "dtype": "float64",
         "name": "V22",
         "stats": {
          "histogram": [
           {
            "bin_end": 28470.860170672113,
            "bin_start": -10.933143697655,
            "count": 7
           },
           {
            "bin_end": 56952.653485041876,
            "bin_start": 28470.860170672113,
            "count": 0
           },
           {
            "bin_end": 85434.44679941164,
            "bin_start": 56952.653485041876,
            "count": 0
           },
           {
            "bin_end": 113916.24011378142,
            "bin_start": 85434.44679941164,
            "count": 0
           },
           {
            "bin_end": 142398.0334281512,
            "bin_start": 113916.24011378142,
            "count": 0
           },
           {
            "bin_end": 170879.82674252093,
            "bin_start": 142398.0334281512,
            "count": 0
           },
           {
            "bin_end": 199361.6200568907,
            "bin_start": 170879.82674252093,
            "count": 0
           },
           {
            "bin_end": 227843.41337126048,
            "bin_start": 199361.6200568907,
            "count": 0
           },
           {
            "bin_end": 256325.20668563026,
            "bin_start": 227843.41337126048,
            "count": 0
           },
           {
            "bin_end": 284807,
            "bin_start": 256325.20668563026,
            "count": 1
           }
          ],
          "max": "284807.0",
          "min": "-10.933143697655",
          "nan_count": 0,
          "unique_count": 8
         }
        },
        {
         "dtype": "float64",
         "name": "V23",
         "stats": {
          "histogram": [
           {
            "bin_end": 28440.373038316586,
            "bin_start": -44.8077352037913,
            "count": 7
           },
           {
            "bin_end": 56925.55381183696,
            "bin_start": 28440.373038316586,
            "count": 0
           },
           {
            "bin_end": 85410.73458535734,
            "bin_start": 56925.55381183696,
            "count": 0
           },
           {
            "bin_end": 113895.91535887771,
            "bin_start": 85410.73458535734,
            "count": 0
           },
           {
            "bin_end": 142381.0961323981,
            "bin_start": 113895.91535887771,
            "count": 0
           },
           {
            "bin_end": 170866.27690591846,
            "bin_start": 142381.0961323981,
            "count": 0
           },
           {
            "bin_end": 199351.45767943884,
            "bin_start": 170866.27690591846,
            "count": 0
           },
           {
            "bin_end": 227836.63845295922,
            "bin_start": 199351.45767943884,
            "count": 0
           },
           {
            "bin_end": 256321.8192264796,
            "bin_start": 227836.63845295922,
            "count": 0
           },
           {
            "bin_end": 284807,
            "bin_start": 256321.8192264796,
            "count": 1
           }
          ],
          "max": "284807.0",
          "min": "-44.8077352037913",
          "nan_count": 0,
          "unique_count": 8
         }
        },
        {
         "dtype": "float64",
         "name": "V24",
         "stats": {
          "histogram": [
           {
            "bin_end": 28478.147035773167,
            "bin_start": -2.83662691870341,
            "count": 7
           },
           {
            "bin_end": 56959.13069846504,
            "bin_start": 28478.147035773167,
            "count": 0
           },
           {
            "bin_end": 85440.1143611569,
            "bin_start": 56959.13069846504,
            "count": 0
           },
           {
            "bin_end": 113921.09802384877,
            "bin_start": 85440.1143611569,
            "count": 0
           },
           {
            "bin_end": 142402.08168654065,
            "bin_start": 113921.09802384877,
            "count": 0
           },
           {
            "bin_end": 170883.06534923252,
            "bin_start": 142402.08168654065,
            "count": 0
           },
           {
            "bin_end": 199364.0490119244,
            "bin_start": 170883.06534923252,
            "count": 0
           },
           {
            "bin_end": 227845.03267461626,
            "bin_start": 199364.0490119244,
            "count": 0
           },
           {
            "bin_end": 256326.01633730813,
            "bin_start": 227845.03267461626,
            "count": 0
           },
           {
            "bin_end": 284807,
            "bin_start": 256326.01633730813,
            "count": 1
           }
          ],
          "max": "284807.0",
          "min": "-2.83662691870341",
          "nan_count": 0,
          "unique_count": 8
         }
        },
        {
         "dtype": "float64",
         "name": "V25",
         "stats": {
          "histogram": [
           {
            "bin_end": 28471.434142632515,
            "bin_start": -10.2953970749851,
            "count": 7
           },
           {
            "bin_end": 56953.16368234001,
            "bin_start": 28471.434142632515,
            "count": 0
           },
           {
            "bin_end": 85434.89322204751,
            "bin_start": 56953.16368234001,
            "count": 0
           },
           {
            "bin_end": 113916.62276175502,
            "bin_start": 85434.89322204751,
            "count": 0
           },
           {
            "bin_end": 142398.35230146252,
            "bin_start": 113916.62276175502,
            "count": 0
           },
           {
            "bin_end": 170880.08184117,
            "bin_start": 142398.35230146252,
            "count": 0
           },
           {
            "bin_end": 199361.8113808775,
            "bin_start": 170880.08184117,
            "count": 0
           },
           {
            "bin_end": 227843.54092058502,
            "bin_start": 199361.8113808775,
            "count": 0
           },
           {
            "bin_end": 256325.27046029252,
            "bin_start": 227843.54092058502,
            "count": 0
           },
           {
            "bin_end": 284807,
            "bin_start": 256325.27046029252,
            "count": 1
           }
          ],
          "max": "284807.0",
          "min": "-10.2953970749851",
          "nan_count": 0,
          "unique_count": 8
         }
        },
        {
         "dtype": "float64",
         "name": "V26",
         "stats": {
          "histogram": [
           {
            "bin_end": 28478.35590450247,
            "bin_start": -2.60455055280817,
            "count": 7
           },
           {
            "bin_end": 56959.31635955775,
            "bin_start": 28478.35590450247,
            "count": 0
           },
           {
            "bin_end": 85440.27681461304,
            "bin_start": 56959.31635955775,
            "count": 0
           },
           {
            "bin_end": 113921.23726966832,
            "bin_start": 85440.27681461304,
            "count": 0
           },
           {
            "bin_end": 142402.19772472358,
            "bin_start": 113921.23726966832,
            "count": 0
           },
           {
            "bin_end": 170883.15817977887,
            "bin_start": 142402.19772472358,
            "count": 0
           },
           {
            "bin_end": 199364.11863483413,
            "bin_start": 170883.15817977887,
            "count": 0
           },
           {
            "bin_end": 227845.07908988942,
            "bin_start": 199364.11863483413,
            "count": 0
           },
           {
            "bin_end": 256326.0395449447,
            "bin_start": 227845.07908988942,
            "count": 0
           },
           {
            "bin_end": 284807,
            "bin_start": 256326.0395449447,
            "count": 1
           }
          ],
          "max": "284807.0",
          "min": "-2.60455055280817",
          "nan_count": 0,
          "unique_count": 8
         }
        },
        {
         "dtype": "float64",
         "name": "V27",
         "stats": {
          "histogram": [
           {
            "bin_end": 28460.390888611295,
            "bin_start": -22.5656793207827,
            "count": 7
           },
           {
            "bin_end": 56943.34745654337,
            "bin_start": 28460.390888611295,
            "count": 0
           },
           {
            "bin_end": 85426.30402447544,
            "bin_start": 56943.34745654337,
            "count": 0
           },
           {
            "bin_end": 113909.26059240752,
            "bin_start": 85426.30402447544,
            "count": 0
           },
           {
            "bin_end": 142392.2171603396,
            "bin_start": 113909.26059240752,
            "count": 0
           },
           {
            "bin_end": 170875.17372827168,
            "bin_start": 142392.2171603396,
            "count": 0
           },
           {
            "bin_end": 199358.13029620377,
            "bin_start": 170875.17372827168,
            "count": 0
           },
           {
            "bin_end": 227841.08686413584,
            "bin_start": 199358.13029620377,
            "count": 0
           },
           {
            "bin_end": 256324.0434320679,
            "bin_start": 227841.08686413584,
            "count": 0
           },
           {
            "bin_end": 284807,
            "bin_start": 256324.0434320679,
            "count": 1
           }
          ],
          "max": "284807.0",
          "min": "-22.5656793207827",
          "nan_count": 0,
          "unique_count": 8
         }
        },
        {
         "dtype": "float64",
         "name": "V28",
         "stats": {
          "histogram": [
           {
            "bin_end": 28466.812924485017,
            "bin_start": -15.4300839055349,
            "count": 7
           },
           {
            "bin_end": 56949.05593287557,
            "bin_start": 28466.812924485017,
            "count": 0
           },
           {
            "bin_end": 85431.29894126613,
            "bin_start": 56949.05593287557,
            "count": 0
           },
           {
            "bin_end": 113913.54194965668,
            "bin_start": 85431.29894126613,
            "count": 0
           },
           {
            "bin_end": 142395.78495804724,
            "bin_start": 113913.54194965668,
            "count": 0
           },
           {
            "bin_end": 170878.0279664378,
            "bin_start": 142395.78495804724,
            "count": 0
           },
           {
            "bin_end": 199360.27097482834,
            "bin_start": 170878.0279664378,
            "count": 0
           },
           {
            "bin_end": 227842.5139832189,
            "bin_start": 199360.27097482834,
            "count": 0
           },
           {
            "bin_end": 256324.75699160947,
            "bin_start": 227842.5139832189,
            "count": 0
           },
           {
            "bin_end": 284807,
            "bin_start": 256324.75699160947,
            "count": 1
           }
          ],
          "max": "284807.0",
          "min": "-15.4300839055349",
          "nan_count": 0,
          "unique_count": 8
         }
        },
        {
         "dtype": "float64",
         "name": "Amount",
         "stats": {
          "histogram": [
           {
            "bin_end": 28480.7,
            "bin_start": 0,
            "count": 7
           },
           {
            "bin_end": 56961.4,
            "bin_start": 28480.7,
            "count": 0
           },
           {
            "bin_end": 85442.1,
            "bin_start": 56961.4,
            "count": 0
           },
           {
            "bin_end": 113922.8,
            "bin_start": 85442.1,
            "count": 0
           },
           {
            "bin_end": 142403.5,
            "bin_start": 113922.8,
            "count": 0
           },
           {
            "bin_end": 170884.2,
            "bin_start": 142403.5,
            "count": 0
           },
           {
            "bin_end": 199364.9,
            "bin_start": 170884.2,
            "count": 0
           },
           {
            "bin_end": 227845.6,
            "bin_start": 199364.9,
            "count": 0
           },
           {
            "bin_end": 256326.30000000002,
            "bin_start": 227845.6,
            "count": 0
           },
           {
            "bin_end": 284807,
            "bin_start": 256326.30000000002,
            "count": 1
           }
          ],
          "max": "284807.0",
          "min": "0.0",
          "nan_count": 0,
          "unique_count": 8
         }
        },
        {
         "dtype": "float64",
         "name": "Class",
         "stats": {
          "histogram": [
           {
            "bin_end": 28480.7,
            "bin_start": 0,
            "count": 7
           },
           {
            "bin_end": 56961.4,
            "bin_start": 28480.7,
            "count": 0
           },
           {
            "bin_end": 85442.1,
            "bin_start": 56961.4,
            "count": 0
           },
           {
            "bin_end": 113922.8,
            "bin_start": 85442.1,
            "count": 0
           },
           {
            "bin_end": 142403.5,
            "bin_start": 113922.8,
            "count": 0
           },
           {
            "bin_end": 170884.2,
            "bin_start": 142403.5,
            "count": 0
           },
           {
            "bin_end": 199364.9,
            "bin_start": 170884.2,
            "count": 0
           },
           {
            "bin_end": 227845.6,
            "bin_start": 199364.9,
            "count": 0
           },
           {
            "bin_end": 256326.30000000002,
            "bin_start": 227845.6,
            "count": 0
           },
           {
            "bin_end": 284807,
            "bin_start": 256326.30000000002,
            "count": 1
           }
          ],
          "max": "284807.0",
          "min": "0.0",
          "nan_count": 0,
          "unique_count": 5
         }
        },
        {
         "dtype": "object",
         "name": "_deepnote_index_column"
        }
       ],
       "row_count": 8,
       "rows": [
        {
         "Amount": 284807,
         "Class": 284807,
         "Time": 284807,
         "V1": 284807,
         "V10": 284807,
         "V11": 284807,
         "V12": 284807,
         "V13": 284807,
         "V14": 284807,
         "V15": 284807,
         "V16": 284807,
         "V17": 284807,
         "V18": 284807,
         "V19": 284807,
         "V2": 284807,
         "V20": 284807,
         "V21": 284807,
         "V22": 284807,
         "V23": 284807,
         "V24": 284807,
         "V25": 284807,
         "V26": 284807,
         "V27": 284807,
         "V28": 284807,
         "V3": 284807,
         "V4": 284807,
         "V5": 284807,
         "V6": 284807,
         "V7": 284807,
         "V8": 284807,
         "V9": 284807,
         "_deepnote_index_column": "count"
        },
        {
         "Amount": 88.34961925093133,
         "Class": 0.001727485630620034,
         "Time": 94813.85957508067,
         "V1": 1.1683749838001528e-15,
         "V10": 2.2390527426993533e-15,
         "V11": 1.673326932726423e-15,
         "V12": -1.2470117695222676e-15,
         "V13": 8.190001274383203e-16,
         "V14": 1.2072942051600827e-15,
         "V15": 4.887455859804944e-15,
         "V16": 1.4377159541859243e-15,
         "V17": -3.7721706856547467e-16,
         "V18": 9.564149167014576e-16,
         "V19": 1.0399166050935636e-15,
         "V2": 3.416908049651284e-16,
         "V20": 6.406203628719748e-16,
         "V21": 1.654066907797022e-16,
         "V22": -3.568593220079729e-16,
         "V23": 2.5786478972835623e-16,
         "V24": 4.473265530947536e-15,
         "V25": 5.340914685085768e-16,
         "V26": 1.6834371984034178e-15,
         "V27": -3.6600908126037946e-16,
         "V28": -1.2273899954199695e-16,
         "V3": -1.379536707896593e-15,
         "V4": 2.0740951198584196e-15,
         "V5": 9.604066317127324e-16,
         "V6": 1.4873130132010145e-15,
         "V7": -5.556467295694611e-16,
         "V8": 1.2134813634275587e-16,
         "V9": -2.4063305498905906e-15,
         "_deepnote_index_column": "mean"
        },
        {
         "Amount": 250.1201092401885,
         "Class": 0.04152718963546506,
         "Time": 47488.14595456617,
         "V1": 1.9586958038574858,
         "V10": 1.0888497654025169,
         "V11": 1.0207130277115584,
         "V12": 0.9992013895301447,
         "V13": 0.9952742301251534,
         "V14": 0.9585956112570637,
         "V15": 0.9153160116104391,
         "V16": 0.8762528873883703,
         "V17": 0.8493370636743893,
         "V18": 0.8381762095288414,
         "V19": 0.8140405007685785,
         "V2": 1.6513085794769975,
         "V20": 0.7709250248871167,
         "V21": 0.734524014371313,
         "V22": 0.7257015604409116,
         "V23": 0.6244602955949903,
         "V24": 0.6056470678271602,
         "V25": 0.5212780705409426,
         "V26": 0.48222701326105727,
         "V27": 0.4036324949650307,
         "V28": 0.3300832641602509,
         "V3": 1.516255005177772,
         "V4": 1.4158685749409203,
         "V5": 1.3802467340314395,
         "V6": 1.3322710897575756,
         "V7": 1.2370935981826663,
         "V8": 1.1943529026692037,
         "V9": 1.0986320892243193,
         "_deepnote_index_column": "std"
        },
        {
         "Amount": 0,
         "Class": 0,
         "Time": 0,
         "V1": -56.407509631329,
         "V10": -24.5882624372475,
         "V11": -4.79747346479757,
         "V12": -18.6837146333443,
         "V13": -5.79188120632084,
         "V14": -19.2143254902614,
         "V15": -4.49894467676621,
         "V16": -14.1298545174931,
         "V17": -25.1627993693248,
         "V18": -9.49874592104677,
         "V19": -7.21352743017759,
         "V2": -72.7157275629303,
         "V20": -54.497720494566,
         "V21": -34.8303821448146,
         "V22": -10.933143697655,
         "V23": -44.8077352037913,
         "V24": -2.83662691870341,
         "V25": -10.2953970749851,
         "V26": -2.60455055280817,
         "V27": -22.5656793207827,
         "V28": -15.4300839055349,
         "V3": -48.3255893623954,
         "V4": -5.68317119816995,
         "V5": -113.743306711146,
         "V6": -26.1605059358433,
         "V7": -43.5572415712451,
         "V8": -73.2167184552674,
         "V9": -13.4340663182301,
         "_deepnote_index_column": "min"
        },
        {
         "Amount": 5.6,
         "Class": 0,
         "Time": 54201.5,
         "V1": -0.920373384390322,
         "V10": -0.5354257264933235,
         "V11": -0.7624941955129775,
         "V12": -0.40557148544041355,
         "V13": -0.6485392991145684,
         "V14": -0.4255740124549935,
         "V15": -0.582884279157456,
         "V16": -0.46803676671289796,
         "V17": -0.483748313707048,
         "V18": -0.498849798665041,
         "V19": -0.4562989187444475,
         "V2": -0.598549913464916,
         "V20": -0.21172136467424701,
         "V21": -0.22839494677851702,
         "V22": -0.5423503726606616,
         "V23": -0.16184634501488449,
         "V24": -0.3545861364094985,
         "V25": -0.31714505406527,
         "V26": -0.3269839258807195,
         "V27": -0.07083952930446921,
         "V28": -0.0529597930169809,
         "V3": -0.8903648381551406,
         "V4": -0.848640116331273,
         "V5": -0.6915970708876575,
         "V6": -0.768295608460489,
         "V7": -0.5540758790365226,
         "V8": -0.2086297440394665,
         "V9": -0.6430975702665915,
         "_deepnote_index_column": "25%"
        },
        {
         "Amount": 22,
         "Class": 0,
         "Time": 84692,
         "V1": 0.0181087991615309,
         "V10": -0.0929173835961975,
         "V11": -0.032757354499007,
         "V12": 0.140032588291332,
         "V13": -0.0135680567852071,
         "V14": 0.0506013193100486,
         "V15": 0.0480715497626106,
         "V16": 0.0664133205843014,
         "V17": -0.0656757538072252,
         "V18": -0.0036363123546992,
         "V19": 0.0037348229952574,
         "V2": 0.0654855563960555,
         "V20": -0.0624810924603664,
         "V21": -0.0294501676953819,
         "V22": 0.0067819425282695,
         "V23": -0.0111929302967212,
         "V24": 0.0409760560572798,
         "V25": 0.0165935016367397,
         "V26": -0.0521391080182019,
         "V27": 0.0013421459786502,
         "V28": 0.011243831564982,
         "V3": 0.179846343563544,
         "V4": -0.0198465294811989,
         "V5": -0.0543358267364858,
         "V6": -0.274187076506651,
         "V7": 0.0401030827945351,
         "V8": 0.0223580364366631,
         "V9": -0.051428731550349,
         "_deepnote_index_column": "50%"
        },
        {
         "Amount": 77.16499999999999,
         "Class": 0,
         "Time": 139320.5,
         "V1": 1.315641693877865,
         "V10": 0.453923445139507,
         "V11": 0.739593407321606,
         "V12": 0.618238032946136,
         "V13": 0.662504959439974,
         "V14": 0.493149849218149,
         "V15": 0.648820806317158,
         "V16": 0.523296312475344,
         "V17": 0.3996749826503845,
         "V18": 0.5008067468872159,
         "V19": 0.458949355762679,
         "V2": 0.8037238712400945,
         "V20": 0.1330408409942945,
         "V21": 0.1863772033785755,
         "V22": 0.5285536353339865,
         "V23": 0.14764206385605,
         "V24": 0.439526600168186,
         "V25": 0.350715562867386,
         "V26": 0.2409521737147555,
         "V27": 0.09104511968580689,
         "V28": 0.07827995475782015,
         "V3": 1.027195542465555,
         "V4": 0.7433412894685876,
         "V5": 0.611926439735193,
         "V6": 0.39856489635610504,
         "V7": 0.5704360728775986,
         "V8": 0.327345861923449,
         "V9": 0.5971390302822686,
         "_deepnote_index_column": "75%"
        },
        {
         "Amount": 25691.16,
         "Class": 1,
         "Time": 172792,
         "V1": 2.45492999121121,
         "V10": 23.7451361206545,
         "V11": 12.0189131816199,
         "V12": 7.8483920756446,
         "V13": 7.12688295859376,
         "V14": 10.5267660517847,
         "V15": 8.87774159774277,
         "V16": 17.3151115176278,
         "V17": 9.25352625047285,
         "V18": 5.04106918541184,
         "V19": 5.59197142733558,
         "V2": 22.0577289904909,
         "V20": 39.4209042482199,
         "V21": 27.2028391573154,
         "V22": 10.5030900899454,
         "V23": 22.5284116897749,
         "V24": 4.58454913689817,
         "V25": 7.51958867870916,
         "V26": 3.5173456116238,
         "V27": 31.6121981061363,
         "V28": 33.8478078188831,
         "V3": 9.38255843282114,
         "V4": 16.8753440335975,
         "V5": 34.8016658766686,
         "V6": 73.3016255459646,
         "V7": 120.589493945238,
         "V8": 20.0072083651213,
         "V9": 15.5949946071278,
         "_deepnote_index_column": "max"
        }
       ]
      },
      "text/html": [
       "<div>\n",
       "<style scoped>\n",
       "    .dataframe tbody tr th:only-of-type {\n",
       "        vertical-align: middle;\n",
       "    }\n",
       "\n",
       "    .dataframe tbody tr th {\n",
       "        vertical-align: top;\n",
       "    }\n",
       "\n",
       "    .dataframe thead th {\n",
       "        text-align: right;\n",
       "    }\n",
       "</style>\n",
       "<table border=\"1\" class=\"dataframe\">\n",
       "  <thead>\n",
       "    <tr style=\"text-align: right;\">\n",
       "      <th></th>\n",
       "      <th>Time</th>\n",
       "      <th>V1</th>\n",
       "      <th>V2</th>\n",
       "      <th>V3</th>\n",
       "      <th>V4</th>\n",
       "      <th>V5</th>\n",
       "      <th>V6</th>\n",
       "      <th>V7</th>\n",
       "      <th>V8</th>\n",
       "      <th>V9</th>\n",
       "      <th>...</th>\n",
       "      <th>V21</th>\n",
       "      <th>V22</th>\n",
       "      <th>V23</th>\n",
       "      <th>V24</th>\n",
       "      <th>V25</th>\n",
       "      <th>V26</th>\n",
       "      <th>V27</th>\n",
       "      <th>V28</th>\n",
       "      <th>Amount</th>\n",
       "      <th>Class</th>\n",
       "    </tr>\n",
       "  </thead>\n",
       "  <tbody>\n",
       "    <tr>\n",
       "      <th>count</th>\n",
       "      <td>284807.000000</td>\n",
       "      <td>2.848070e+05</td>\n",
       "      <td>2.848070e+05</td>\n",
       "      <td>2.848070e+05</td>\n",
       "      <td>2.848070e+05</td>\n",
       "      <td>2.848070e+05</td>\n",
       "      <td>2.848070e+05</td>\n",
       "      <td>2.848070e+05</td>\n",
       "      <td>2.848070e+05</td>\n",
       "      <td>2.848070e+05</td>\n",
       "      <td>...</td>\n",
       "      <td>2.848070e+05</td>\n",
       "      <td>2.848070e+05</td>\n",
       "      <td>2.848070e+05</td>\n",
       "      <td>2.848070e+05</td>\n",
       "      <td>2.848070e+05</td>\n",
       "      <td>2.848070e+05</td>\n",
       "      <td>2.848070e+05</td>\n",
       "      <td>2.848070e+05</td>\n",
       "      <td>284807.000000</td>\n",
       "      <td>284807.000000</td>\n",
       "    </tr>\n",
       "    <tr>\n",
       "      <th>mean</th>\n",
       "      <td>94813.859575</td>\n",
       "      <td>1.168375e-15</td>\n",
       "      <td>3.416908e-16</td>\n",
       "      <td>-1.379537e-15</td>\n",
       "      <td>2.074095e-15</td>\n",
       "      <td>9.604066e-16</td>\n",
       "      <td>1.487313e-15</td>\n",
       "      <td>-5.556467e-16</td>\n",
       "      <td>1.213481e-16</td>\n",
       "      <td>-2.406331e-15</td>\n",
       "      <td>...</td>\n",
       "      <td>1.654067e-16</td>\n",
       "      <td>-3.568593e-16</td>\n",
       "      <td>2.578648e-16</td>\n",
       "      <td>4.473266e-15</td>\n",
       "      <td>5.340915e-16</td>\n",
       "      <td>1.683437e-15</td>\n",
       "      <td>-3.660091e-16</td>\n",
       "      <td>-1.227390e-16</td>\n",
       "      <td>88.349619</td>\n",
       "      <td>0.001727</td>\n",
       "    </tr>\n",
       "    <tr>\n",
       "      <th>std</th>\n",
       "      <td>47488.145955</td>\n",
       "      <td>1.958696e+00</td>\n",
       "      <td>1.651309e+00</td>\n",
       "      <td>1.516255e+00</td>\n",
       "      <td>1.415869e+00</td>\n",
       "      <td>1.380247e+00</td>\n",
       "      <td>1.332271e+00</td>\n",
       "      <td>1.237094e+00</td>\n",
       "      <td>1.194353e+00</td>\n",
       "      <td>1.098632e+00</td>\n",
       "      <td>...</td>\n",
       "      <td>7.345240e-01</td>\n",
       "      <td>7.257016e-01</td>\n",
       "      <td>6.244603e-01</td>\n",
       "      <td>6.056471e-01</td>\n",
       "      <td>5.212781e-01</td>\n",
       "      <td>4.822270e-01</td>\n",
       "      <td>4.036325e-01</td>\n",
       "      <td>3.300833e-01</td>\n",
       "      <td>250.120109</td>\n",
       "      <td>0.041527</td>\n",
       "    </tr>\n",
       "    <tr>\n",
       "      <th>min</th>\n",
       "      <td>0.000000</td>\n",
       "      <td>-5.640751e+01</td>\n",
       "      <td>-7.271573e+01</td>\n",
       "      <td>-4.832559e+01</td>\n",
       "      <td>-5.683171e+00</td>\n",
       "      <td>-1.137433e+02</td>\n",
       "      <td>-2.616051e+01</td>\n",
       "      <td>-4.355724e+01</td>\n",
       "      <td>-7.321672e+01</td>\n",
       "      <td>-1.343407e+01</td>\n",
       "      <td>...</td>\n",
       "      <td>-3.483038e+01</td>\n",
       "      <td>-1.093314e+01</td>\n",
       "      <td>-4.480774e+01</td>\n",
       "      <td>-2.836627e+00</td>\n",
       "      <td>-1.029540e+01</td>\n",
       "      <td>-2.604551e+00</td>\n",
       "      <td>-2.256568e+01</td>\n",
       "      <td>-1.543008e+01</td>\n",
       "      <td>0.000000</td>\n",
       "      <td>0.000000</td>\n",
       "    </tr>\n",
       "    <tr>\n",
       "      <th>25%</th>\n",
       "      <td>54201.500000</td>\n",
       "      <td>-9.203734e-01</td>\n",
       "      <td>-5.985499e-01</td>\n",
       "      <td>-8.903648e-01</td>\n",
       "      <td>-8.486401e-01</td>\n",
       "      <td>-6.915971e-01</td>\n",
       "      <td>-7.682956e-01</td>\n",
       "      <td>-5.540759e-01</td>\n",
       "      <td>-2.086297e-01</td>\n",
       "      <td>-6.430976e-01</td>\n",
       "      <td>...</td>\n",
       "      <td>-2.283949e-01</td>\n",
       "      <td>-5.423504e-01</td>\n",
       "      <td>-1.618463e-01</td>\n",
       "      <td>-3.545861e-01</td>\n",
       "      <td>-3.171451e-01</td>\n",
       "      <td>-3.269839e-01</td>\n",
       "      <td>-7.083953e-02</td>\n",
       "      <td>-5.295979e-02</td>\n",
       "      <td>5.600000</td>\n",
       "      <td>0.000000</td>\n",
       "    </tr>\n",
       "    <tr>\n",
       "      <th>50%</th>\n",
       "      <td>84692.000000</td>\n",
       "      <td>1.810880e-02</td>\n",
       "      <td>6.548556e-02</td>\n",
       "      <td>1.798463e-01</td>\n",
       "      <td>-1.984653e-02</td>\n",
       "      <td>-5.433583e-02</td>\n",
       "      <td>-2.741871e-01</td>\n",
       "      <td>4.010308e-02</td>\n",
       "      <td>2.235804e-02</td>\n",
       "      <td>-5.142873e-02</td>\n",
       "      <td>...</td>\n",
       "      <td>-2.945017e-02</td>\n",
       "      <td>6.781943e-03</td>\n",
       "      <td>-1.119293e-02</td>\n",
       "      <td>4.097606e-02</td>\n",
       "      <td>1.659350e-02</td>\n",
       "      <td>-5.213911e-02</td>\n",
       "      <td>1.342146e-03</td>\n",
       "      <td>1.124383e-02</td>\n",
       "      <td>22.000000</td>\n",
       "      <td>0.000000</td>\n",
       "    </tr>\n",
       "    <tr>\n",
       "      <th>75%</th>\n",
       "      <td>139320.500000</td>\n",
       "      <td>1.315642e+00</td>\n",
       "      <td>8.037239e-01</td>\n",
       "      <td>1.027196e+00</td>\n",
       "      <td>7.433413e-01</td>\n",
       "      <td>6.119264e-01</td>\n",
       "      <td>3.985649e-01</td>\n",
       "      <td>5.704361e-01</td>\n",
       "      <td>3.273459e-01</td>\n",
       "      <td>5.971390e-01</td>\n",
       "      <td>...</td>\n",
       "      <td>1.863772e-01</td>\n",
       "      <td>5.285536e-01</td>\n",
       "      <td>1.476421e-01</td>\n",
       "      <td>4.395266e-01</td>\n",
       "      <td>3.507156e-01</td>\n",
       "      <td>2.409522e-01</td>\n",
       "      <td>9.104512e-02</td>\n",
       "      <td>7.827995e-02</td>\n",
       "      <td>77.165000</td>\n",
       "      <td>0.000000</td>\n",
       "    </tr>\n",
       "    <tr>\n",
       "      <th>max</th>\n",
       "      <td>172792.000000</td>\n",
       "      <td>2.454930e+00</td>\n",
       "      <td>2.205773e+01</td>\n",
       "      <td>9.382558e+00</td>\n",
       "      <td>1.687534e+01</td>\n",
       "      <td>3.480167e+01</td>\n",
       "      <td>7.330163e+01</td>\n",
       "      <td>1.205895e+02</td>\n",
       "      <td>2.000721e+01</td>\n",
       "      <td>1.559499e+01</td>\n",
       "      <td>...</td>\n",
       "      <td>2.720284e+01</td>\n",
       "      <td>1.050309e+01</td>\n",
       "      <td>2.252841e+01</td>\n",
       "      <td>4.584549e+00</td>\n",
       "      <td>7.519589e+00</td>\n",
       "      <td>3.517346e+00</td>\n",
       "      <td>3.161220e+01</td>\n",
       "      <td>3.384781e+01</td>\n",
       "      <td>25691.160000</td>\n",
       "      <td>1.000000</td>\n",
       "    </tr>\n",
       "  </tbody>\n",
       "</table>\n",
       "<p>8 rows × 31 columns</p>\n",
       "</div>"
      ],
      "text/plain": [
       "                Time            V1            V2            V3            V4  \\\n",
       "count  284807.000000  2.848070e+05  2.848070e+05  2.848070e+05  2.848070e+05   \n",
       "mean    94813.859575  1.168375e-15  3.416908e-16 -1.379537e-15  2.074095e-15   \n",
       "std     47488.145955  1.958696e+00  1.651309e+00  1.516255e+00  1.415869e+00   \n",
       "min         0.000000 -5.640751e+01 -7.271573e+01 -4.832559e+01 -5.683171e+00   \n",
       "25%     54201.500000 -9.203734e-01 -5.985499e-01 -8.903648e-01 -8.486401e-01   \n",
       "50%     84692.000000  1.810880e-02  6.548556e-02  1.798463e-01 -1.984653e-02   \n",
       "75%    139320.500000  1.315642e+00  8.037239e-01  1.027196e+00  7.433413e-01   \n",
       "max    172792.000000  2.454930e+00  2.205773e+01  9.382558e+00  1.687534e+01   \n",
       "\n",
       "                 V5            V6            V7            V8            V9  \\\n",
       "count  2.848070e+05  2.848070e+05  2.848070e+05  2.848070e+05  2.848070e+05   \n",
       "mean   9.604066e-16  1.487313e-15 -5.556467e-16  1.213481e-16 -2.406331e-15   \n",
       "std    1.380247e+00  1.332271e+00  1.237094e+00  1.194353e+00  1.098632e+00   \n",
       "min   -1.137433e+02 -2.616051e+01 -4.355724e+01 -7.321672e+01 -1.343407e+01   \n",
       "25%   -6.915971e-01 -7.682956e-01 -5.540759e-01 -2.086297e-01 -6.430976e-01   \n",
       "50%   -5.433583e-02 -2.741871e-01  4.010308e-02  2.235804e-02 -5.142873e-02   \n",
       "75%    6.119264e-01  3.985649e-01  5.704361e-01  3.273459e-01  5.971390e-01   \n",
       "max    3.480167e+01  7.330163e+01  1.205895e+02  2.000721e+01  1.559499e+01   \n",
       "\n",
       "       ...           V21           V22           V23           V24  \\\n",
       "count  ...  2.848070e+05  2.848070e+05  2.848070e+05  2.848070e+05   \n",
       "mean   ...  1.654067e-16 -3.568593e-16  2.578648e-16  4.473266e-15   \n",
       "std    ...  7.345240e-01  7.257016e-01  6.244603e-01  6.056471e-01   \n",
       "min    ... -3.483038e+01 -1.093314e+01 -4.480774e+01 -2.836627e+00   \n",
       "25%    ... -2.283949e-01 -5.423504e-01 -1.618463e-01 -3.545861e-01   \n",
       "50%    ... -2.945017e-02  6.781943e-03 -1.119293e-02  4.097606e-02   \n",
       "75%    ...  1.863772e-01  5.285536e-01  1.476421e-01  4.395266e-01   \n",
       "max    ...  2.720284e+01  1.050309e+01  2.252841e+01  4.584549e+00   \n",
       "\n",
       "                V25           V26           V27           V28         Amount  \\\n",
       "count  2.848070e+05  2.848070e+05  2.848070e+05  2.848070e+05  284807.000000   \n",
       "mean   5.340915e-16  1.683437e-15 -3.660091e-16 -1.227390e-16      88.349619   \n",
       "std    5.212781e-01  4.822270e-01  4.036325e-01  3.300833e-01     250.120109   \n",
       "min   -1.029540e+01 -2.604551e+00 -2.256568e+01 -1.543008e+01       0.000000   \n",
       "25%   -3.171451e-01 -3.269839e-01 -7.083953e-02 -5.295979e-02       5.600000   \n",
       "50%    1.659350e-02 -5.213911e-02  1.342146e-03  1.124383e-02      22.000000   \n",
       "75%    3.507156e-01  2.409522e-01  9.104512e-02  7.827995e-02      77.165000   \n",
       "max    7.519589e+00  3.517346e+00  3.161220e+01  3.384781e+01   25691.160000   \n",
       "\n",
       "               Class  \n",
       "count  284807.000000  \n",
       "mean        0.001727  \n",
       "std         0.041527  \n",
       "min         0.000000  \n",
       "25%         0.000000  \n",
       "50%         0.000000  \n",
       "75%         0.000000  \n",
       "max         1.000000  \n",
       "\n",
       "[8 rows x 31 columns]"
      ]
     },
     "execution_count": 4,
     "metadata": {},
     "output_type": "execute_result"
    }
   ],
   "source": [
    "# check for data description\n",
    "data.describe()"
   ]
  },
  {
   "cell_type": "code",
   "execution_count": null,
   "metadata": {
    "cell_id": "04c35c2eaae54036a62ff7f19b0d71c4",
    "deepnote_cell_height": 473.9375,
    "deepnote_cell_type": "code",
    "deepnote_output_heights": [
     214.953125
    ],
    "deepnote_to_be_reexecuted": false,
    "execution_millis": 2601,
    "execution_start": 1655337099827,
    "source_hash": "4afd4f60",
    "tags": []
   },
   "outputs": [
    {
     "data": {
      "image/png": "[encoded data removed]",
      "text/plain": [
       "<Figure size 1296x288 with 2 Axes>"
      ]
     },
     "metadata": {
      "image/png": {
       "height": 264,
       "width": 1074
      },
      "needs_background": "light"
     },
     "output_type": "display_data"
    }
   ],
   "source": [
    "# plot the named features \n",
    "f, axes = plt.subplots(1, 2, figsize=(18,4), sharex = True)\n",
    "\n",
    "amount_val = data['Amount'].values # values\n",
    "time_val = data['Time'].values # values\n",
    "\n",
    "sns.distplot(amount_val, hist=False, color=\"m\", kde_kws={\"shade\": True}, ax=axes[0]).set_title('Distribution of Transaction Amount')\n",
    "sns.distplot(time_val, hist=False, color=\"m\", kde_kws={\"shade\": True}, ax=axes[1]).set_title('Distribution of Transaction Time')\n",
    "\n",
    "plt.show()"
   ]
  },
  {
   "cell_type": "code",
   "execution_count": null,
   "metadata": {
    "cell_id": "b6bdc1bc161e499f855bd5e593f95d63",
    "deepnote_cell_height": 150,
    "deepnote_cell_type": "code",
    "deepnote_to_be_reexecuted": false,
    "execution_millis": 46,
    "execution_start": 1655337102427,
    "source_hash": "ddfd396d",
    "tags": []
   },
   "outputs": [
    {
     "name": "stdout",
     "output_type": "stream",
     "text": [
      "Average Amount in a Fraudulent Transaction: 122.21132113821139\n",
      "Average Amount in a Valid Transaction: 88.29102242231328\n"
     ]
    }
   ],
   "source": [
    "print(\"Average Amount in a Fraudulent Transaction: \" + str(data[data[\"Class\"] == 1][\"Amount\"].mean()))\n",
    "print(\"Average Amount in a Valid Transaction: \" + str(data[data[\"Class\"] == 0][\"Amount\"].mean()))"
   ]
  },
  {
   "cell_type": "code",
   "execution_count": null,
   "metadata": {
    "cell_id": "49a532b9f65a41a6bc2ca5e735c7a432",
    "deepnote_cell_height": 330,
    "deepnote_cell_type": "code",
    "deepnote_to_be_reexecuted": false,
    "execution_millis": 2,
    "execution_start": 1655337102472,
    "source_hash": "caeb671e",
    "tags": []
   },
   "outputs": [
    {
     "name": "stdout",
     "output_type": "stream",
     "text": [
      "Summary of the feature - Amount\n",
      "-------------------------------\n",
      "count    284807.000000\n",
      "mean         88.349619\n",
      "std         250.120109\n",
      "min           0.000000\n",
      "25%           5.600000\n",
      "50%          22.000000\n",
      "75%          77.165000\n",
      "max       25691.160000\n",
      "Name: Amount, dtype: float64\n"
     ]
    }
   ],
   "source": [
    "print(\"Summary of the feature - Amount\" + \"\\n-------------------------------\")\n",
    "print(data[\"Amount\"].describe())"
   ]
  },
  {
   "cell_type": "code",
   "execution_count": null,
   "metadata": {
    "cell_id": "08ba3acffaea4cbb84f20c2478ba5674",
    "deepnote_cell_height": 411.796875,
    "deepnote_cell_type": "code",
    "deepnote_to_be_reexecuted": false,
    "execution_millis": 32,
    "execution_start": 1655337102536,
    "source_hash": "41313cfa",
    "tags": []
   },
   "outputs": [
    {
     "data": {
      "application/vnd.deepnote.dataframe.v3+json": {
       "column_count": 31,
       "columns": [
        {
         "dtype": "float64",
         "name": "Time",
         "stats": {
          "histogram": [
           {
            "bin_end": 0.2,
            "bin_start": 0,
            "count": 2
           },
           {
            "bin_end": 0.4,
            "bin_start": 0.2,
            "count": 0
           },
           {
            "bin_end": 0.6000000000000001,
            "bin_start": 0.4,
            "count": 0
           },
           {
            "bin_end": 0.8,
            "bin_start": 0.6000000000000001,
            "count": 0
           },
           {
            "bin_end": 1,
            "bin_start": 0.8,
            "count": 0
           },
           {
            "bin_end": 1.2000000000000002,
            "bin_start": 1,
            "count": 2
           },
           {
            "bin_end": 1.4000000000000001,
            "bin_start": 1.2000000000000002,
            "count": 0
           },
           {
            "bin_end": 1.6,
            "bin_start": 1.4000000000000001,
            "count": 0
           },
           {
            "bin_end": 1.8,
            "bin_start": 1.6,
            "count": 0
           },
           {
            "bin_end": 2,
            "bin_start": 1.8,
            "count": 1
           }
          ],
          "max": "2.0",
          "min": "0.0",
          "nan_count": 0,
          "unique_count": 3
         }
        },
        {
         "dtype": "float64",
         "name": "V1",
         "stats": {
          "histogram": [
           {
            "bin_end": -1.104640709174934,
            "bin_start": -1.3598071336738,
            "count": 3
           },
           {
            "bin_end": -0.849474284676068,
            "bin_start": -1.104640709174934,
            "count": 1
           },
           {
            "bin_end": -0.594307860177202,
            "bin_start": -0.849474284676068,
            "count": 0
           },
           {
            "bin_end": -0.339141435678336,
            "bin_start": -0.594307860177202,
            "count": 0
           },
           {
            "bin_end": -0.08397501117946993,
            "bin_start": -0.339141435678336,
            "count": 0
           },
           {
            "bin_end": 0.1711914133193959,
            "bin_start": -0.08397501117946993,
            "count": 0
           },
           {
            "bin_end": 0.426357837818262,
            "bin_start": 0.1711914133193959,
            "count": 0
           },
           {
            "bin_end": 0.681524262317128,
            "bin_start": 0.426357837818262,
            "count": 0
           },
           {
            "bin_end": 0.9366906868159939,
            "bin_start": 0.681524262317128,
            "count": 0
           },
           {
            "bin_end": 1.19185711131486,
            "bin_start": 0.9366906868159939,
            "count": 1
           }
          ],
          "max": "1.19185711131486",
          "min": "-1.3598071336738",
          "nan_count": 0,
          "unique_count": 5
         }
        },
        {
         "dtype": "float64",
         "name": "V2",
         "stats": {
          "histogram": [
           {
            "bin_end": -1.1183730917776358,
            "bin_start": -1.34016307473609,
            "count": 1
           },
           {
            "bin_end": -0.8965831088191818,
            "bin_start": -1.1183730917776358,
            "count": 0
           },
           {
            "bin_end": -0.6747931258607276,
            "bin_start": -0.8965831088191818,
            "count": 0
           },
           {
            "bin_end": -0.4530031429022735,
            "bin_start": -0.6747931258607276,
            "count": 0
           },
           {
            "bin_end": -0.2312131599438194,
            "bin_start": -0.4530031429022735,
            "count": 0
           },
           {
            "bin_end": -0.009423176985365211,
            "bin_start": -0.2312131599438194,
            "count": 2
           },
           {
            "bin_end": 0.21236680597308877,
            "bin_start": -0.009423176985365211,
            "count": 0
           },
           {
            "bin_end": 0.43415678893154297,
            "bin_start": 0.21236680597308877,
            "count": 1
           },
           {
            "bin_end": 0.6559467718899972,
            "bin_start": 0.43415678893154297,
            "count": 0
           },
           {
            "bin_end": 0.877736754848451,
            "bin_start": 0.6559467718899972,
            "count": 1
           }
          ],
          "max": "0.877736754848451",
          "min": "-1.34016307473609",
          "nan_count": 0,
          "unique_count": 5
         }
        },
        {
         "dtype": "float64",
         "name": "V3",
         "stats": {
          "histogram": [
           {
            "bin_end": 0.403466775814803,
            "bin_start": 0.16648011335321,
            "count": 1
           },
           {
            "bin_end": 0.640453438276396,
            "bin_start": 0.403466775814803,
            "count": 0
           },
           {
            "bin_end": 0.877440100737989,
            "bin_start": 0.640453438276396,
            "count": 0
           },
           {
            "bin_end": 1.1144267631995821,
            "bin_start": 0.877440100737989,
            "count": 0
           },
           {
            "bin_end": 1.3514134256611752,
            "bin_start": 1.1144267631995821,
            "count": 0
           },
           {
            "bin_end": 1.5884000881227678,
            "bin_start": 1.3514134256611752,
            "count": 1
           },
           {
            "bin_end": 1.8253867505843608,
            "bin_start": 1.5884000881227678,
            "count": 2
           },
           {
            "bin_end": 2.062373413045954,
            "bin_start": 1.8253867505843608,
            "count": 0
           },
           {
            "bin_end": 2.299360075507547,
            "bin_start": 2.062373413045954,
            "count": 0
           },
           {
            "bin_end": 2.53634673796914,
            "bin_start": 2.299360075507547,
            "count": 1
           }
          ],
          "max": "2.53634673796914",
          "min": "0.16648011335321",
          "nan_count": 0,
          "unique_count": 5
         }
        },
        {
         "dtype": "float64",
         "name": "V4",
         "stats": {
          "histogram": [
           {
            "bin_end": -0.6391466251053647,
            "bin_start": -0.863291275036453,
            "count": 1
           },
           {
            "bin_end": -0.41500197517427634,
            "bin_start": -0.6391466251053647,
            "count": 0
           },
           {
            "bin_end": -0.190857325243188,
            "bin_start": -0.41500197517427634,
            "count": 0
           },
           {
            "bin_end": 0.0332873246879003,
            "bin_start": -0.190857325243188,
            "count": 0
           },
           {
            "bin_end": 0.2574319746189886,
            "bin_start": 0.0332873246879003,
            "count": 0
           },
           {
            "bin_end": 0.481576624550077,
            "bin_start": 0.2574319746189886,
            "count": 3
           },
           {
            "bin_end": 0.7057212744811652,
            "bin_start": 0.481576624550077,
            "count": 0
           },
           {
            "bin_end": 0.9298659244122536,
            "bin_start": 0.7057212744811652,
            "count": 0
           },
           {
            "bin_end": 1.1540105743433418,
            "bin_start": 0.9298659244122536,
            "count": 0
           },
           {
            "bin_end": 1.37815522427443,
            "bin_start": 1.1540105743433418,
            "count": 1
           }
          ],
          "max": "1.37815522427443",
          "min": "-0.863291275036453",
          "nan_count": 0,
          "unique_count": 5
         }
        },
        {
         "dtype": "float64",
         "name": "V5",
         "stats": {
          "histogram": [
           {
            "bin_end": -0.4468765550581512,
            "bin_start": -0.503198133318193,
            "count": 1
           },
           {
            "bin_end": -0.3905549767981095,
            "bin_start": -0.4468765550581512,
            "count": 1
           },
           {
            "bin_end": -0.33423339853806777,
            "bin_start": -0.3905549767981095,
            "count": 1
           },
           {
            "bin_end": -0.2779118202780261,
            "bin_start": -0.33423339853806777,
            "count": 0
           },
           {
            "bin_end": -0.22159024201798433,
            "bin_start": -0.2779118202780261,
            "count": 0
           },
           {
            "bin_end": -0.16526866375794258,
            "bin_start": -0.22159024201798433,
            "count": 0
           },
           {
            "bin_end": -0.10894708549790089,
            "bin_start": -0.16526866375794258,
            "count": 0
           },
           {
            "bin_end": -0.05262550723785914,
            "bin_start": -0.10894708549790089,
            "count": 0
           },
           {
            "bin_end": 0.003696071022182612,
            "bin_start": -0.05262550723785914,
            "count": 1
           },
           {
            "bin_end": 0.0600176492822243,
            "bin_start": 0.003696071022182612,
            "count": 1
           }
          ],
          "max": "0.0600176492822243",
          "min": "-0.503198133318193",
          "nan_count": 0,
          "unique_count": 5
         }
        },
        {
         "dtype": "float64",
         "name": "V6",
         "stats": {
          "histogram": [
           {
            "bin_end": 0.10592521014525116,
            "bin_start": -0.0823608088155687,
            "count": 2
           },
           {
            "bin_end": 0.294211229106071,
            "bin_start": 0.10592521014525116,
            "count": 0
           },
           {
            "bin_end": 0.48249724806689087,
            "bin_start": 0.294211229106071,
            "count": 1
           },
           {
            "bin_end": 0.6707832670277107,
            "bin_start": 0.48249724806689087,
            "count": 0
           },
           {
            "bin_end": 0.8590692859885306,
            "bin_start": 0.6707832670277107,
            "count": 0
           },
           {
            "bin_end": 1.0473553049493505,
            "bin_start": 0.8590692859885306,
            "count": 0
           },
           {
            "bin_end": 1.2356413239101705,
            "bin_start": 1.0473553049493505,
            "count": 0
           },
           {
            "bin_end": 1.4239273428709902,
            "bin_start": 1.2356413239101705,
            "count": 1
           },
           {
            "bin_end": 1.61221336183181,
            "bin_start": 1.4239273428709902,
            "count": 0
           },
           {
            "bin_end": 1.80049938079263,
            "bin_start": 1.61221336183181,
            "count": 1
           }
          ],
          "max": "1.80049938079263",
          "min": "-0.0823608088155687",
          "nan_count": 0,
          "unique_count": 5
         }
        },
        {
         "dtype": "float64",
         "name": "V7",
         "stats": {
          "histogram": [
           {
            "bin_end": 0.008223410645962034,
            "bin_start": -0.0788029833323113,
            "count": 1
           },
           {
            "bin_end": 0.09524980462423537,
            "bin_start": 0.008223410645962034,
            "count": 0
           },
           {
            "bin_end": 0.1822761986025087,
            "bin_start": 0.09524980462423537,
            "count": 0
           },
           {
            "bin_end": 0.26930259258078204,
            "bin_start": 0.1822761986025087,
            "count": 2
           },
           {
            "bin_end": 0.35632898655905537,
            "bin_start": 0.26930259258078204,
            "count": 0
           },
           {
            "bin_end": 0.4433553805373287,
            "bin_start": 0.35632898655905537,
            "count": 0
           },
           {
            "bin_end": 0.530381774515602,
            "bin_start": 0.4433553805373287,
            "count": 0
           },
           {
            "bin_end": 0.6174081684938754,
            "bin_start": 0.530381774515602,
            "count": 1
           },
           {
            "bin_end": 0.7044345624721488,
            "bin_start": 0.6174081684938754,
            "count": 0
           },
           {
            "bin_end": 0.791460956450422,
            "bin_start": 0.7044345624721488,
            "count": 1
           }
          ],
          "max": "0.791460956450422",
          "min": "-0.0788029833323113",
          "nan_count": 0,
          "unique_count": 5
         }
        },
        {
         "dtype": "float64",
         "name": "V8",
         "stats": {
          "histogram": [
           {
            "bin_end": -0.2057358220078276,
            "bin_start": -0.270532677192282,
            "count": 1
           },
           {
            "bin_end": -0.1409389668233732,
            "bin_start": -0.2057358220078276,
            "count": 0
           },
           {
            "bin_end": -0.07614211163891879,
            "bin_start": -0.1409389668233732,
            "count": 0
           },
           {
            "bin_end": -0.01134525645446438,
            "bin_start": -0.07614211163891879,
            "count": 0
           },
           {
            "bin_end": 0.05345159872999006,
            "bin_start": -0.01134525645446438,
            "count": 0
           },
           {
            "bin_end": 0.11824845391444444,
            "bin_start": 0.05345159872999006,
            "count": 2
           },
           {
            "bin_end": 0.18304530909889882,
            "bin_start": 0.11824845391444444,
            "count": 0
           },
           {
            "bin_end": 0.24784216428335326,
            "bin_start": 0.18304530909889882,
            "count": 1
           },
           {
            "bin_end": 0.3126390194678077,
            "bin_start": 0.24784216428335326,
            "count": 0
           },
           {
            "bin_end": 0.377435874652262,
            "bin_start": 0.3126390194678077,
            "count": 1
           }
          ],
          "max": "0.377435874652262",
          "min": "-0.270532677192282",
          "nan_count": 0,
          "unique_count": 5
         }
        },
        {
         "dtype": "float64",
         "name": "V9",
         "stats": {
          "histogram": [
           {
            "bin_end": -1.2814149595217177,
            "bin_start": -1.51465432260583,
            "count": 2
           },
           {
            "bin_end": -1.0481755964376052,
            "bin_start": -1.2814149595217177,
            "count": 0
           },
           {
            "bin_end": -0.8149362333534929,
            "bin_start": -1.0481755964376052,
            "count": 0
           },
           {
            "bin_end": -0.5816968702693804,
            "bin_start": -0.8149362333534929,
            "count": 0
           },
           {
            "bin_end": -0.348457507185268,
            "bin_start": -0.5816968702693804,
            "count": 0
           },
           {
            "bin_end": -0.11521814410115572,
            "bin_start": -0.348457507185268,
            "count": 1
           },
           {
            "bin_end": 0.11802121898295681,
            "bin_start": -0.11521814410115572,
            "count": 0
           },
           {
            "bin_end": 0.3512605820670691,
            "bin_start": 0.11802121898295681,
            "count": 0
           },
           {
            "bin_end": 0.5844999451511816,
            "bin_start": 0.3512605820670691,
            "count": 1
           },
           {
            "bin_end": 0.817739308235294,
            "bin_start": 0.5844999451511816,
            "count": 1
           }
          ],
          "max": "0.817739308235294",
          "min": "-1.51465432260583",
          "nan_count": 0,
          "unique_count": 5
         }
        },
        {
         "dtype": "float64",
         "name": "V10",
         "stats": {
          "histogram": [
           {
            "bin_end": -0.07496952940651719,
            "bin_start": -0.166974414004614,
            "count": 1
           },
           {
            "bin_end": 0.017035355191579615,
            "bin_start": -0.07496952940651719,
            "count": 1
           },
           {
            "bin_end": 0.10904023978967642,
            "bin_start": 0.017035355191579615,
            "count": 1
           },
           {
            "bin_end": 0.20104512438777322,
            "bin_start": 0.10904023978967642,
            "count": 0
           },
           {
            "bin_end": 0.29305000898587,
            "bin_start": 0.20104512438777322,
            "count": 1
           },
           {
            "bin_end": 0.38505489358396683,
            "bin_start": 0.29305000898587,
            "count": 0
           },
           {
            "bin_end": 0.4770597781820637,
            "bin_start": 0.38505489358396683,
            "count": 0
           },
           {
            "bin_end": 0.5690646627801604,
            "bin_start": 0.4770597781820637,
            "count": 0
           },
           {
            "bin_end": 0.6610695473782572,
            "bin_start": 0.5690646627801604,
            "count": 0
           },
           {
            "bin_end": 0.753074431976354,
            "bin_start": 0.6610695473782572,
            "count": 1
           }
          ],
          "max": "0.753074431976354",
          "min": "-0.166974414004614",
          "nan_count": 0,
          "unique_count": 5
         }
        },
        {
         "dtype": "float64",
         "name": "V11",
         "stats": {
          "histogram": [
           {
            "bin_end": -0.5792859240462477,
            "bin_start": -0.822842877946363,
            "count": 1
           },
           {
            "bin_end": -0.3357289701461324,
            "bin_start": -0.5792859240462477,
            "count": 1
           },
           {
            "bin_end": -0.09217201624601712,
            "bin_start": -0.3357289701461324,
            "count": 1
           },
           {
            "bin_end": 0.15138493765409822,
            "bin_start": -0.09217201624601712,
            "count": 0
           },
           {
            "bin_end": 0.39494189155421355,
            "bin_start": 0.15138493765409822,
            "count": 0
           },
           {
            "bin_end": 0.6384988454543288,
            "bin_start": 0.39494189155421355,
            "count": 1
           },
           {
            "bin_end": 0.8820557993544442,
            "bin_start": 0.6384988454543288,
            "count": 0
           },
           {
            "bin_end": 1.1256127532545595,
            "bin_start": 0.8820557993544442,
            "count": 0
           },
           {
            "bin_end": 1.369169707154675,
            "bin_start": 1.1256127532545595,
            "count": 0
           },
           {
            "bin_end": 1.61272666105479,
            "bin_start": 1.369169707154675,
            "count": 1
           }
          ],
          "max": "1.61272666105479",
          "min": "-0.822842877946363",
          "nan_count": 0,
          "unique_count": 5
         }
        },
        {
         "dtype": "float64",
         "name": "V12",
         "stats": {
          "histogram": [
           {
            "bin_end": -0.4494972390488262,
            "bin_start": -0.617800855762348,
            "count": 1
           },
           {
            "bin_end": -0.28119362233530437,
            "bin_start": -0.4494972390488262,
            "count": 0
           },
           {
            "bin_end": -0.11289000562178253,
            "bin_start": -0.28119362233530437,
            "count": 0
           },
           {
            "bin_end": 0.05541361109173926,
            "bin_start": -0.11289000562178253,
            "count": 0
           },
           {
            "bin_end": 0.22371722780526104,
            "bin_start": 0.05541361109173926,
            "count": 2
           },
           {
            "bin_end": 0.39202084451878294,
            "bin_start": 0.22371722780526104,
            "count": 0
           },
           {
            "bin_end": 0.5603244612323046,
            "bin_start": 0.39202084451878294,
            "count": 1
           },
           {
            "bin_end": 0.7286280779458265,
            "bin_start": 0.5603244612323046,
            "count": 0
           },
           {
            "bin_end": 0.8969316946593484,
            "bin_start": 0.7286280779458265,
            "count": 0
           },
           {
            "bin_end": 1.06523531137287,
            "bin_start": 0.8969316946593484,
            "count": 1
           }
          ],
          "max": "1.06523531137287",
          "min": "-0.617800855762348",
          "nan_count": 0,
          "unique_count": 5
         }
        },
        {
         "dtype": "float64",
         "name": "V13",
         "stats": {
          "histogram": [
           {
            "bin_end": -0.7576657031903272,
            "bin_start": -0.991389847235408,
            "count": 1
           },
           {
            "bin_end": -0.5239415591452464,
            "bin_start": -0.7576657031903272,
            "count": 0
           },
           {
            "bin_end": -0.29021741510016563,
            "bin_start": -0.5239415591452464,
            "count": 0
           },
           {
            "bin_end": -0.05649327105508484,
            "bin_start": -0.29021741510016563,
            "count": 0
           },
           {
            "bin_end": 0.17723087298999596,
            "bin_start": -0.05649327105508484,
            "count": 0
           },
           {
            "bin_end": 0.41095501703507675,
            "bin_start": 0.17723087298999596,
            "count": 0
           },
           {
            "bin_end": 0.6446791610801575,
            "bin_start": 0.41095501703507675,
            "count": 2
           },
           {
            "bin_end": 0.8784033051252383,
            "bin_start": 0.6446791610801575,
            "count": 1
           },
           {
            "bin_end": 1.1121274491703192,
            "bin_start": 0.8784033051252383,
            "count": 0
           },
           {
            "bin_end": 1.3458515932154,
            "bin_start": 1.1121274491703192,
            "count": 1
           }
          ],
          "max": "1.3458515932154",
          "min": "-0.991389847235408",
          "nan_count": 0,
          "unique_count": 5
         }
        },
        {
         "dtype": "float64",
         "name": "V14",
         "stats": {
          "histogram": [
           {
            "bin_end": -1.0220800808897308,
            "bin_start": -1.11966983471731,
            "count": 1
           },
           {
            "bin_end": -0.9244903270621518,
            "bin_start": -1.0220800808897308,
            "count": 0
           },
           {
            "bin_end": -0.8269005732345727,
            "bin_start": -0.9244903270621518,
            "count": 0
           },
           {
            "bin_end": -0.7293108194069936,
            "bin_start": -0.8269005732345727,
            "count": 0
           },
           {
            "bin_end": -0.6317210655794145,
            "bin_start": -0.7293108194069936,
            "count": 0
           },
           {
            "bin_end": -0.5341313117518354,
            "bin_start": -0.6317210655794145,
            "count": 0
           },
           {
            "bin_end": -0.4365415579242563,
            "bin_start": -0.5341313117518354,
            "count": 0
           },
           {
            "bin_end": -0.33895180409667724,
            "bin_start": -0.4365415579242563,
            "count": 0
           },
           {
            "bin_end": -0.24136205026909818,
            "bin_start": -0.33895180409667724,
            "count": 2
           },
           {
            "bin_end": -0.143772296441519,
            "bin_start": -0.24136205026909818,
            "count": 2
           }
          ],
          "max": "-0.143772296441519",
          "min": "-1.11966983471731",
          "nan_count": 0,
          "unique_count": 5
         }
        },
        {
         "dtype": "float64",
         "name": "V15",
         "stats": {
          "histogram": [
           {
            "bin_end": -0.3336898110365595,
            "bin_start": -0.631418117709045,
            "count": 1
           },
           {
            "bin_end": -0.03596150436407397,
            "bin_start": -0.3336898110365595,
            "count": 0
           },
           {
            "bin_end": 0.26176680230841154,
            "bin_start": -0.03596150436407397,
            "count": 1
           },
           {
            "bin_end": 0.559495108980897,
            "bin_start": 0.26176680230841154,
            "count": 0
           },
           {
            "bin_end": 0.8572234156533824,
            "bin_start": 0.559495108980897,
            "count": 1
           },
           {
            "bin_end": 1.154951722325868,
            "bin_start": 0.8572234156533824,
            "count": 0
           },
           {
            "bin_end": 1.4526800289983537,
            "bin_start": 1.154951722325868,
            "count": 0
           },
           {
            "bin_end": 1.750408335670839,
            "bin_start": 1.4526800289983537,
            "count": 1
           },
           {
            "bin_end": 2.0481366423433247,
            "bin_start": 1.750408335670839,
            "count": 0
           },
           {
            "bin_end": 2.34586494901581,
            "bin_start": 2.0481366423433247,
            "count": 1
           }
          ],
          "max": "2.34586494901581",
          "min": "-0.631418117709045",
          "nan_count": 0,
          "unique_count": 5
         }
        },
        {
         "dtype": "float64",
         "name": "V16",
         "stats": {
          "histogram": [
           {
            "bin_end": -2.5546831708958617,
            "bin_start": -2.89008319444231,
            "count": 1
           },
           {
            "bin_end": -2.219283147349414,
            "bin_start": -2.5546831708958617,
            "count": 0
           },
           {
            "bin_end": -1.8838831238029656,
            "bin_start": -2.219283147349414,
            "count": 0
           },
           {
            "bin_end": -1.5484831002565176,
            "bin_start": -1.8838831238029656,
            "count": 0
           },
           {
            "bin_end": -1.2130830767100695,
            "bin_start": -1.5484831002565176,
            "count": 0
           },
           {
            "bin_end": -0.8776830531636213,
            "bin_start": -1.2130830767100695,
            "count": 1
           },
           {
            "bin_end": -0.5422830296171735,
            "bin_start": -0.8776830531636213,
            "count": 0
           },
           {
            "bin_end": -0.20688300607072518,
            "bin_start": -0.5422830296171735,
            "count": 2
           },
           {
            "bin_end": 0.12851701747572308,
            "bin_start": -0.20688300607072518,
            "count": 0
           },
           {
            "bin_end": 0.463917041022171,
            "bin_start": 0.12851701747572308,
            "count": 1
           }
          ],
          "max": "0.463917041022171",
          "min": "-2.89008319444231",
          "nan_count": 0,
          "unique_count": 5
         }
        },
        {
         "dtype": "float64",
         "name": "V17",
         "stats": {
          "histogram": [
           {
            "bin_end": -0.5046865698413321,
            "bin_start": -0.684092786345479,
            "count": 1
           },
           {
            "bin_end": -0.32528035333718514,
            "bin_start": -0.5046865698413321,
            "count": 0
           },
           {
            "bin_end": -0.14587413683303818,
            "bin_start": -0.32528035333718514,
            "count": 1
           },
           {
            "bin_end": 0.03353207967110872,
            "bin_start": -0.14587413683303818,
            "count": 1
           },
           {
            "bin_end": 0.21293829617525561,
            "bin_start": 0.03353207967110872,
            "count": 1
           },
           {
            "bin_end": 0.3923445126794026,
            "bin_start": 0.21293829617525561,
            "count": 0
           },
           {
            "bin_end": 0.5717507291835494,
            "bin_start": 0.3923445126794026,
            "count": 0
           },
           {
            "bin_end": 0.7511569456876964,
            "bin_start": 0.5717507291835494,
            "count": 0
           },
           {
            "bin_end": 0.9305631621918434,
            "bin_start": 0.7511569456876964,
            "count": 0
           },
           {
            "bin_end": 1.10996937869599,
            "bin_start": 0.9305631621918434,
            "count": 1
           }
          ],
          "max": "1.10996937869599",
          "min": "-0.684092786345479",
          "nan_count": 0,
          "unique_count": 5
         }
        },
        {
         "dtype": "float64",
         "name": "V18",
         "stats": {
          "histogram": [
           {
            "bin_end": 0.03155235723794342,
            "bin_start": -0.183361270123994,
            "count": 4
           },
           {
            "bin_end": 0.24646598459988084,
            "bin_start": 0.03155235723794342,
            "count": 0
           },
           {
            "bin_end": 0.46137961196181826,
            "bin_start": 0.24646598459988084,
            "count": 0
           },
           {
            "bin_end": 0.6762932393237557,
            "bin_start": 0.46137961196181826,
            "count": 0
           },
           {
            "bin_end": 0.8912068666856932,
            "bin_start": 0.6762932393237557,
            "count": 0
           },
           {
            "bin_end": 1.1061204940476306,
            "bin_start": 0.8912068666856932,
            "count": 0
           },
           {
            "bin_end": 1.321034121409568,
            "bin_start": 1.1061204940476306,
            "count": 0
           },
           {
            "bin_end": 1.5359477487715054,
            "bin_start": 1.321034121409568,
            "count": 0
           },
           {
            "bin_end": 1.7508613761334428,
            "bin_start": 1.5359477487715054,
            "count": 0
           },
           {
            "bin_end": 1.96577500349538,
            "bin_start": 1.7508613761334428,
            "count": 1
           }
          ],
          "max": "1.96577500349538",
          "min": "-0.183361270123994",
          "nan_count": 0,
          "unique_count": 5
         }
        },
        {
         "dtype": "float64",
         "name": "V19",
         "stats": {
          "histogram": [
           {
            "bin_end": -1.9553226932777086,
            "bin_start": -2.26185709530414,
            "count": 1
           },
           {
            "bin_end": -1.648788291251277,
            "bin_start": -1.9553226932777086,
            "count": 0
           },
           {
            "bin_end": -1.3422538892248457,
            "bin_start": -1.648788291251277,
            "count": 0
           },
           {
            "bin_end": -1.0357194871984141,
            "bin_start": -1.3422538892248457,
            "count": 1
           },
           {
            "bin_end": -0.7291850851719825,
            "bin_start": -1.0357194871984141,
            "count": 0
           },
           {
            "bin_end": -0.4226506831455512,
            "bin_start": -0.7291850851719825,
            "count": 0
           },
           {
            "bin_end": -0.11611628111911942,
            "bin_start": -0.4226506831455512,
            "count": 1
           },
           {
            "bin_end": 0.19041812090731192,
            "bin_start": -0.11611628111911942,
            "count": 0
           },
           {
            "bin_end": 0.49695252293374326,
            "bin_start": 0.19041812090731192,
            "count": 1
           },
           {
            "bin_end": 0.803486924960175,
            "bin_start": 0.49695252293374326,
            "count": 1
           }
          ],
          "max": "0.803486924960175",
          "min": "-2.26185709530414",
          "nan_count": 0,
          "unique_count": 5
         }
        },
        {
         "dtype": "float64",
         "name": "V20",
         "stats": {
          "histogram": [
           {
            "bin_end": -0.134736030521889,
            "bin_start": -0.208037781160366,
            "count": 1
           },
           {
            "bin_end": -0.06143427988341202,
            "bin_start": -0.134736030521889,
            "count": 1
           },
           {
            "bin_end": 0.011867470755064974,
            "bin_start": -0.06143427988341202,
            "count": 0
           },
           {
            "bin_end": 0.08516922139354197,
            "bin_start": 0.011867470755064974,
            "count": 0
           },
           {
            "bin_end": 0.15847097203201896,
            "bin_start": 0.08516922139354197,
            "count": 0
           },
           {
            "bin_end": 0.23177272267049595,
            "bin_start": 0.15847097203201896,
            "count": 0
           },
           {
            "bin_end": 0.30507447330897297,
            "bin_start": 0.23177272267049595,
            "count": 1
           },
           {
            "bin_end": 0.37837622394744996,
            "bin_start": 0.30507447330897297,
            "count": 0
           },
           {
            "bin_end": 0.45167797458592696,
            "bin_start": 0.37837622394744996,
            "count": 1
           },
           {
            "bin_end": 0.524979725224404,
            "bin_start": 0.45167797458592696,
            "count": 1
           }
          ],
          "max": "0.524979725224404",
          "min": "-0.208037781160366",
          "nan_count": 0,
          "unique_count": 5
         }
        },
        {
         "dtype": "float64",
         "name": "V21",
         "stats": {
          "histogram": [
           {
            "bin_end": -0.17839790788284882,
            "bin_start": -0.225775248033138,
            "count": 1
           },
           {
            "bin_end": -0.1310205677325596,
            "bin_start": -0.17839790788284882,
            "count": 0
           },
           {
            "bin_end": -0.08364322758227041,
            "bin_start": -0.1310205677325596,
            "count": 1
           },
           {
            "bin_end": -0.0362658874319812,
            "bin_start": -0.08364322758227041,
            "count": 0
           },
           {
            "bin_end": 0.011111452718308018,
            "bin_start": -0.0362658874319812,
            "count": 2
           },
           {
            "bin_end": 0.05848879286859718,
            "bin_start": 0.011111452718308018,
            "count": 0
           },
           {
            "bin_end": 0.1058661330188864,
            "bin_start": 0.05848879286859718,
            "count": 0
           },
           {
            "bin_end": 0.1532434731691756,
            "bin_start": 0.1058661330188864,
            "count": 0
           },
           {
            "bin_end": 0.20062081331946482,
            "bin_start": 0.1532434731691756,
            "count": 0
           },
           {
            "bin_end": 0.247998153469754,
            "bin_start": 0.20062081331946482,
            "count": 1
           }
          ],
          "max": "0.247998153469754",
          "min": "-0.225775248033138",
          "nan_count": 0,
          "unique_count": 5
         }
        },
        {
         "dtype": "float64",
         "name": "V22",
         "stats": {
          "histogram": [
           {
            "bin_end": -0.49497690803569483,
            "bin_start": -0.638671952771851,
            "count": 1
           },
           {
            "bin_end": -0.35128186329953875,
            "bin_start": -0.49497690803569483,
            "count": 0
           },
           {
            "bin_end": -0.20758681856338268,
            "bin_start": -0.35128186329953875,
            "count": 0
           },
           {
            "bin_end": -0.06389177382722655,
            "bin_start": -0.20758681856338268,
            "count": 0
           },
           {
            "bin_end": 0.07980327090892958,
            "bin_start": -0.06389177382722655,
            "count": 1
           },
           {
            "bin_end": 0.2234983156450856,
            "bin_start": 0.07980327090892958,
            "count": 0
           },
           {
            "bin_end": 0.36719336038124184,
            "bin_start": 0.2234983156450856,
            "count": 1
           },
           {
            "bin_end": 0.5108884051173979,
            "bin_start": 0.36719336038124184,
            "count": 0
           },
           {
            "bin_end": 0.6545834498535539,
            "bin_start": 0.5108884051173979,
            "count": 0
           },
           {
            "bin_end": 0.79827849458971,
            "bin_start": 0.6545834498535539,
            "count": 2
           }
          ],
          "max": "0.79827849458971",
          "min": "-0.638671952771851",
          "nan_count": 0,
          "unique_count": 5
         }
        },
        {
         "dtype": "float64",
         "name": "V23",
         "stats": {
          "histogram": [
           {
            "bin_end": -0.08034724063378501,
            "bin_start": -0.190320518742841,
            "count": 3
           },
           {
            "bin_end": 0.029626037475270983,
            "bin_start": -0.08034724063378501,
            "count": 0
           },
           {
            "bin_end": 0.13959931558432698,
            "bin_start": 0.029626037475270983,
            "count": 1
           },
           {
            "bin_end": 0.24957259369338297,
            "bin_start": 0.13959931558432698,
            "count": 0
           },
           {
            "bin_end": 0.35954587180243897,
            "bin_start": 0.24957259369338297,
            "count": 0
           },
           {
            "bin_end": 0.46951914991149496,
            "bin_start": 0.35954587180243897,
            "count": 0
           },
           {
            "bin_end": 0.5794924280205509,
            "bin_start": 0.46951914991149496,
            "count": 0
           },
           {
            "bin_end": 0.689465706129607,
            "bin_start": 0.5794924280205509,
            "count": 0
           },
           {
            "bin_end": 0.7994389842386629,
            "bin_start": 0.689465706129607,
            "count": 0
           },
           {
            "bin_end": 0.909412262347719,
            "bin_start": 0.7994389842386629,
            "count": 1
           }
          ],
          "max": "0.909412262347719",
          "min": "-0.190320518742841",
          "nan_count": 0,
          "unique_count": 5
         }
        },
        {
         "dtype": "float64",
         "name": "V24",
         "stats": {
          "histogram": [
           {
            "bin_end": -1.0438911002944122,
            "bin_start": -1.17557533186321,
            "count": 1
           },
           {
            "bin_end": -0.9122068687256142,
            "bin_start": -1.0438911002944122,
            "count": 0
           },
           {
            "bin_end": -0.7805226371568164,
            "bin_start": -0.9122068687256142,
            "count": 0
           },
           {
            "bin_end": -0.6488384055880184,
            "bin_start": -0.7805226371568164,
            "count": 1
           },
           {
            "bin_end": -0.5171541740192205,
            "bin_start": -0.6488384055880184,
            "count": 0
           },
           {
            "bin_end": -0.38546994245042265,
            "bin_start": -0.5171541740192205,
            "count": 0
           },
           {
            "bin_end": -0.2537857108816247,
            "bin_start": -0.38546994245042265,
            "count": 1
           },
           {
            "bin_end": -0.12210147931282678,
            "bin_start": -0.2537857108816247,
            "count": 0
           },
           {
            "bin_end": 0.00958275225597105,
            "bin_start": -0.12210147931282678,
            "count": 0
           },
           {
            "bin_end": 0.141266983824769,
            "bin_start": 0.00958275225597105,
            "count": 2
           }
          ],
          "max": "0.141266983824769",
          "min": "-1.17557533186321",
          "nan_count": 0,
          "unique_count": 5
         }
        },
        {
         "dtype": "float64",
         "name": "V25",
         "stats": {
          "histogram": [
           {
            "bin_end": -0.23014004690152212,
            "bin_start": -0.327641833735251,
            "count": 1
           },
           {
            "bin_end": -0.13263826006779322,
            "bin_start": -0.23014004690152212,
            "count": 1
           },
           {
            "bin_end": -0.035136473234064325,
            "bin_start": -0.13263826006779322,
            "count": 0
           },
           {
            "bin_end": 0.062365313599664574,
            "bin_start": -0.035136473234064325,
            "count": 0
           },
           {
            "bin_end": 0.15986710043339347,
            "bin_start": 0.062365313599664574,
            "count": 1
           },
           {
            "bin_end": 0.25736888726712237,
            "bin_start": 0.15986710043339347,
            "count": 1
           },
           {
            "bin_end": 0.35487067410085127,
            "bin_start": 0.25736888726712237,
            "count": 0
           },
           {
            "bin_end": 0.45237246093458017,
            "bin_start": 0.35487067410085127,
            "count": 0
           },
           {
            "bin_end": 0.5498742477683091,
            "bin_start": 0.45237246093458017,
            "count": 0
           },
           {
            "bin_end": 0.647376034602038,
            "bin_start": 0.5498742477683091,
            "count": 1
           }
          ],
          "max": "0.647376034602038",
          "min": "-0.327641833735251",
          "nan_count": 0,
          "unique_count": 5
         }
        },
        {
         "dtype": "float64",
         "name": "V26",
         "stats": {
          "histogram": [
           {
            "bin_end": -0.14950673759440938,
            "bin_start": -0.221928844458407,
            "count": 2
           },
           {
            "bin_end": -0.07708463073041177,
            "bin_start": -0.14950673759440938,
            "count": 1
           },
           {
            "bin_end": -0.004662523866414164,
            "bin_start": -0.07708463073041177,
            "count": 0
           },
           {
            "bin_end": 0.06775958299758345,
            "bin_start": -0.004662523866414164,
            "count": 0
           },
           {
            "bin_end": 0.14018168986158108,
            "bin_start": 0.06775958299758345,
            "count": 1
           },
           {
            "bin_end": 0.21260379672557866,
            "bin_start": 0.14018168986158108,
            "count": 0
           },
           {
            "bin_end": 0.28502590358957625,
            "bin_start": 0.21260379672557866,
            "count": 0
           },
           {
            "bin_end": 0.3574480104535739,
            "bin_start": 0.28502590358957625,
            "count": 0
           },
           {
            "bin_end": 0.4298701173175715,
            "bin_start": 0.3574480104535739,
            "count": 0
           },
           {
            "bin_end": 0.502292224181569,
            "bin_start": 0.4298701173175715,
            "count": 1
           }
          ],
          "max": "0.502292224181569",
          "min": "-0.221928844458407",
          "nan_count": 0,
          "unique_count": 5
         }
        },
        {
         "dtype": "float64",
         "name": "V27",
         "stats": {
          "histogram": [
           {
            "bin_end": -0.02787529168324869,
            "bin_start": -0.0553527940384261,
            "count": 1
           },
           {
            "bin_end": -0.00039778932807128103,
            "bin_start": -0.02787529168324869,
            "count": 1
           },
           {
            "bin_end": 0.027079713027106135,
            "bin_start": -0.00039778932807128103,
            "count": 0
           },
           {
            "bin_end": 0.05455721538228354,
            "bin_start": 0.027079713027106135,
            "count": 0
           },
           {
            "bin_end": 0.08203471773746093,
            "bin_start": 0.05455721538228354,
            "count": 1
           },
           {
            "bin_end": 0.10951222009263836,
            "bin_start": 0.08203471773746093,
            "count": 0
           },
           {
            "bin_end": 0.13698972244781576,
            "bin_start": 0.10951222009263836,
            "count": 1
           },
           {
            "bin_end": 0.16446722480299317,
            "bin_start": 0.13698972244781576,
            "count": 0
           },
           {
            "bin_end": 0.19194472715817057,
            "bin_start": 0.16446722480299317,
            "count": 0
           },
           {
            "bin_end": 0.219422229513348,
            "bin_start": 0.19194472715817057,
            "count": 1
           }
          ],
          "max": "0.219422229513348",
          "min": "-0.0553527940384261",
          "nan_count": 0,
          "unique_count": 5
         }
        },
        {
         "dtype": "float64",
         "name": "V28",
         "stats": {
          "histogram": [
           {
            "bin_end": -0.032261341783707764,
            "bin_start": -0.0597518405929204,
            "count": 1
           },
           {
            "bin_end": -0.004770842974495128,
            "bin_start": -0.032261341783707764,
            "count": 1
           },
           {
            "bin_end": 0.022719655834717502,
            "bin_start": -0.004770842974495128,
            "count": 1
           },
           {
            "bin_end": 0.050210154643930145,
            "bin_start": 0.022719655834717502,
            "count": 0
           },
           {
            "bin_end": 0.07770065345314278,
            "bin_start": 0.050210154643930145,
            "count": 1
           },
           {
            "bin_end": 0.1051911522623554,
            "bin_start": 0.07770065345314278,
            "count": 0
           },
           {
            "bin_end": 0.13268165107156804,
            "bin_start": 0.1051911522623554,
            "count": 0
           },
           {
            "bin_end": 0.16017214988078068,
            "bin_start": 0.13268165107156804,
            "count": 0
           },
           {
            "bin_end": 0.18766264868999333,
            "bin_start": 0.16017214988078068,
            "count": 0
           },
           {
            "bin_end": 0.215153147499206,
            "bin_start": 0.18766264868999333,
            "count": 1
           }
          ],
          "max": "0.215153147499206",
          "min": "-0.0597518405929204",
          "nan_count": 0,
          "unique_count": 5
         }
        },
        {
         "dtype": "float64",
         "name": "Amount",
         "stats": {
          "histogram": [
           {
            "bin_end": 40.287,
            "bin_start": 2.69,
            "count": 1
           },
           {
            "bin_end": 77.884,
            "bin_start": 40.287,
            "count": 1
           },
           {
            "bin_end": 115.481,
            "bin_start": 77.884,
            "count": 0
           },
           {
            "bin_end": 153.078,
            "bin_start": 115.481,
            "count": 2
           },
           {
            "bin_end": 190.675,
            "bin_start": 153.078,
            "count": 0
           },
           {
            "bin_end": 228.272,
            "bin_start": 190.675,
            "count": 0
           },
           {
            "bin_end": 265.869,
            "bin_start": 228.272,
            "count": 0
           },
           {
            "bin_end": 303.466,
            "bin_start": 265.869,
            "count": 0
           },
           {
            "bin_end": 341.063,
            "bin_start": 303.466,
            "count": 0
           },
           {
            "bin_end": 378.66,
            "bin_start": 341.063,
            "count": 1
           }
          ],
          "max": "378.66",
          "min": "2.69",
          "nan_count": 0,
          "unique_count": 5
         }
        },
        {
         "dtype": "int64",
         "name": "Class",
         "stats": {
          "histogram": [
           {
            "bin_end": -0.4,
            "bin_start": -0.5,
            "count": 0
           },
           {
            "bin_end": -0.3,
            "bin_start": -0.4,
            "count": 0
           },
           {
            "bin_end": -0.19999999999999996,
            "bin_start": -0.3,
            "count": 0
           },
           {
            "bin_end": -0.09999999999999998,
            "bin_start": -0.19999999999999996,
            "count": 0
           },
           {
            "bin_end": 0,
            "bin_start": -0.09999999999999998,
            "count": 0
           },
           {
            "bin_end": 0.10000000000000009,
            "bin_start": 0,
            "count": 5
           },
           {
            "bin_end": 0.20000000000000007,
            "bin_start": 0.10000000000000009,
            "count": 0
           },
           {
            "bin_end": 0.30000000000000004,
            "bin_start": 0.20000000000000007,
            "count": 0
           },
           {
            "bin_end": 0.4,
            "bin_start": 0.30000000000000004,
            "count": 0
           },
           {
            "bin_end": 0.5,
            "bin_start": 0.4,
            "count": 0
           }
          ],
          "max": "0",
          "min": "0",
          "nan_count": 0,
          "unique_count": 1
         }
        },
        {
         "dtype": "int64",
         "name": "_deepnote_index_column"
        }
       ],
       "row_count": 5,
       "rows": [
        {
         "Amount": 149.62,
         "Class": 0,
         "Time": 0,
         "V1": -1.3598071336738,
         "V10": 0.0907941719789316,
         "V11": -0.551599533260813,
         "V12": -0.617800855762348,
         "V13": -0.991389847235408,
         "V14": -0.311169353699879,
         "V15": 1.46817697209427,
         "V16": -0.470400525259478,
         "V17": 0.207971241929242,
         "V18": 0.0257905801985591,
         "V19": 0.403992960255733,
         "V2": -0.0727811733098497,
         "V20": 0.251412098239705,
         "V21": -0.018306777944153,
         "V22": 0.277837575558899,
         "V23": -0.110473910188767,
         "V24": 0.0669280749146731,
         "V25": 0.128539358273528,
         "V26": -0.189114843888824,
         "V27": 0.133558376740387,
         "V28": -0.0210530534538215,
         "V3": 2.53634673796914,
         "V4": 1.37815522427443,
         "V5": -0.338320769942518,
         "V6": 0.462387777762292,
         "V7": 0.239598554061257,
         "V8": 0.0986979012610507,
         "V9": 0.363786969611213,
         "_deepnote_index_column": 0
        },
        {
         "Amount": 2.69,
         "Class": 0,
         "Time": 0,
         "V1": 1.19185711131486,
         "V10": -0.166974414004614,
         "V11": 1.61272666105479,
         "V12": 1.06523531137287,
         "V13": 0.48909501589608,
         "V14": -0.143772296441519,
         "V15": 0.635558093258208,
         "V16": 0.463917041022171,
         "V17": -0.114804663102346,
         "V18": -0.183361270123994,
         "V19": -0.145783041325259,
         "V2": 0.26615071205963,
         "V20": -0.0690831352230203,
         "V21": -0.225775248033138,
         "V22": -0.638671952771851,
         "V23": 0.101288021253234,
         "V24": -0.339846475529127,
         "V25": 0.167170404418143,
         "V26": 0.125894532368176,
         "V27": -0.0089830991432281,
         "V28": 0.0147241691924927,
         "V3": 0.16648011335321,
         "V4": 0.448154078460911,
         "V5": 0.0600176492822243,
         "V6": -0.0823608088155687,
         "V7": -0.0788029833323113,
         "V8": 0.0851016549148104,
         "V9": -0.255425128109186,
         "_deepnote_index_column": 1
        },
        {
         "Amount": 378.66,
         "Class": 0,
         "Time": 1,
         "V1": -1.35835406159823,
         "V10": 0.207642865216696,
         "V11": 0.624501459424895,
         "V12": 0.066083685268831,
         "V13": 0.717292731410831,
         "V14": -0.165945922763554,
         "V15": 2.34586494901581,
         "V16": -2.89008319444231,
         "V17": 1.10996937869599,
         "V18": -0.121359313195888,
         "V19": -2.26185709530414,
         "V2": -1.34016307473609,
         "V20": 0.524979725224404,
         "V21": 0.247998153469754,
         "V22": 0.771679401917229,
         "V23": 0.909412262347719,
         "V24": -0.689280956490685,
         "V25": -0.327641833735251,
         "V26": -0.139096571514147,
         "V27": -0.0553527940384261,
         "V28": -0.0597518405929204,
         "V3": 1.77320934263119,
         "V4": 0.379779593034328,
         "V5": -0.503198133318193,
         "V6": 1.80049938079263,
         "V7": 0.791460956450422,
         "V8": 0.247675786588991,
         "V9": -1.51465432260583,
         "_deepnote_index_column": 2
        },
        {
         "Amount": 123.5,
         "Class": 0,
         "Time": 1,
         "V1": -0.966271711572087,
         "V10": -0.0549519224713749,
         "V11": -0.226487263835401,
         "V12": 0.178228225877303,
         "V13": 0.507756869957169,
         "V14": -0.28792374549456,
         "V15": -0.631418117709045,
         "V16": -1.0596472454325,
         "V17": -0.684092786345479,
         "V18": 1.96577500349538,
         "V19": -1.2326219700892,
         "V2": -0.185226008082898,
         "V20": -0.208037781160366,
         "V21": -0.108300452035545,
         "V22": 0.0052735967825345,
         "V23": -0.190320518742841,
         "V24": -1.17557533186321,
         "V25": 0.647376034602038,
         "V26": -0.221928844458407,
         "V27": 0.0627228487293033,
         "V28": 0.0614576285006353,
         "V3": 1.79299333957872,
         "V4": -0.863291275036453,
         "V5": -0.0103088796030823,
         "V6": 1.24720316752486,
         "V7": 0.23760893977178,
         "V8": 0.377435874652262,
         "V9": -1.38702406270197,
         "_deepnote_index_column": 3
        },
        {
         "Amount": 69.99,
         "Class": 0,
         "Time": 2,
         "V1": -1.15823309349523,
         "V10": 0.753074431976354,
         "V11": -0.822842877946363,
         "V12": 0.53819555014995,
         "V13": 1.3458515932154,
         "V14": -1.11966983471731,
         "V15": 0.175121130008994,
         "V16": -0.451449182813529,
         "V17": -0.237033239362776,
         "V18": -0.0381947870352842,
         "V19": 0.803486924960175,
         "V2": 0.877736754848451,
         "V20": 0.408542360392758,
         "V21": -0.0094306971323291,
         "V22": 0.79827849458971,
         "V23": -0.137458079619063,
         "V24": 0.141266983824769,
         "V25": -0.206009587619756,
         "V26": 0.502292224181569,
         "V27": 0.219422229513348,
         "V28": 0.215153147499206,
         "V3": 1.548717846511,
         "V4": 0.403033933955121,
         "V5": -0.407193377311653,
         "V6": 0.0959214624684256,
         "V7": 0.592940745385545,
         "V8": -0.270532677192282,
         "V9": 0.817739308235294,
         "_deepnote_index_column": 4
        }
       ]
      },
      "text/html": [
       "<div>\n",
       "<style scoped>\n",
       "    .dataframe tbody tr th:only-of-type {\n",
       "        vertical-align: middle;\n",
       "    }\n",
       "\n",
       "    .dataframe tbody tr th {\n",
       "        vertical-align: top;\n",
       "    }\n",
       "\n",
       "    .dataframe thead th {\n",
       "        text-align: right;\n",
       "    }\n",
       "</style>\n",
       "<table border=\"1\" class=\"dataframe\">\n",
       "  <thead>\n",
       "    <tr style=\"text-align: right;\">\n",
       "      <th></th>\n",
       "      <th>Time</th>\n",
       "      <th>V1</th>\n",
       "      <th>V2</th>\n",
       "      <th>V3</th>\n",
       "      <th>V4</th>\n",
       "      <th>V5</th>\n",
       "      <th>V6</th>\n",
       "      <th>V7</th>\n",
       "      <th>V8</th>\n",
       "      <th>V9</th>\n",
       "      <th>...</th>\n",
       "      <th>V21</th>\n",
       "      <th>V22</th>\n",
       "      <th>V23</th>\n",
       "      <th>V24</th>\n",
       "      <th>V25</th>\n",
       "      <th>V26</th>\n",
       "      <th>V27</th>\n",
       "      <th>V28</th>\n",
       "      <th>Amount</th>\n",
       "      <th>Class</th>\n",
       "    </tr>\n",
       "  </thead>\n",
       "  <tbody>\n",
       "    <tr>\n",
       "      <th>0</th>\n",
       "      <td>0.0</td>\n",
       "      <td>-1.359807</td>\n",
       "      <td>-0.072781</td>\n",
       "      <td>2.536347</td>\n",
       "      <td>1.378155</td>\n",
       "      <td>-0.338321</td>\n",
       "      <td>0.462388</td>\n",
       "      <td>0.239599</td>\n",
       "      <td>0.098698</td>\n",
       "      <td>0.363787</td>\n",
       "      <td>...</td>\n",
       "      <td>-0.018307</td>\n",
       "      <td>0.277838</td>\n",
       "      <td>-0.110474</td>\n",
       "      <td>0.066928</td>\n",
       "      <td>0.128539</td>\n",
       "      <td>-0.189115</td>\n",
       "      <td>0.133558</td>\n",
       "      <td>-0.021053</td>\n",
       "      <td>149.62</td>\n",
       "      <td>0</td>\n",
       "    </tr>\n",
       "    <tr>\n",
       "      <th>1</th>\n",
       "      <td>0.0</td>\n",
       "      <td>1.191857</td>\n",
       "      <td>0.266151</td>\n",
       "      <td>0.166480</td>\n",
       "      <td>0.448154</td>\n",
       "      <td>0.060018</td>\n",
       "      <td>-0.082361</td>\n",
       "      <td>-0.078803</td>\n",
       "      <td>0.085102</td>\n",
       "      <td>-0.255425</td>\n",
       "      <td>...</td>\n",
       "      <td>-0.225775</td>\n",
       "      <td>-0.638672</td>\n",
       "      <td>0.101288</td>\n",
       "      <td>-0.339846</td>\n",
       "      <td>0.167170</td>\n",
       "      <td>0.125895</td>\n",
       "      <td>-0.008983</td>\n",
       "      <td>0.014724</td>\n",
       "      <td>2.69</td>\n",
       "      <td>0</td>\n",
       "    </tr>\n",
       "    <tr>\n",
       "      <th>2</th>\n",
       "      <td>1.0</td>\n",
       "      <td>-1.358354</td>\n",
       "      <td>-1.340163</td>\n",
       "      <td>1.773209</td>\n",
       "      <td>0.379780</td>\n",
       "      <td>-0.503198</td>\n",
       "      <td>1.800499</td>\n",
       "      <td>0.791461</td>\n",
       "      <td>0.247676</td>\n",
       "      <td>-1.514654</td>\n",
       "      <td>...</td>\n",
       "      <td>0.247998</td>\n",
       "      <td>0.771679</td>\n",
       "      <td>0.909412</td>\n",
       "      <td>-0.689281</td>\n",
       "      <td>-0.327642</td>\n",
       "      <td>-0.139097</td>\n",
       "      <td>-0.055353</td>\n",
       "      <td>-0.059752</td>\n",
       "      <td>378.66</td>\n",
       "      <td>0</td>\n",
       "    </tr>\n",
       "    <tr>\n",
       "      <th>3</th>\n",
       "      <td>1.0</td>\n",
       "      <td>-0.966272</td>\n",
       "      <td>-0.185226</td>\n",
       "      <td>1.792993</td>\n",
       "      <td>-0.863291</td>\n",
       "      <td>-0.010309</td>\n",
       "      <td>1.247203</td>\n",
       "      <td>0.237609</td>\n",
       "      <td>0.377436</td>\n",
       "      <td>-1.387024</td>\n",
       "      <td>...</td>\n",
       "      <td>-0.108300</td>\n",
       "      <td>0.005274</td>\n",
       "      <td>-0.190321</td>\n",
       "      <td>-1.175575</td>\n",
       "      <td>0.647376</td>\n",
       "      <td>-0.221929</td>\n",
       "      <td>0.062723</td>\n",
       "      <td>0.061458</td>\n",
       "      <td>123.50</td>\n",
       "      <td>0</td>\n",
       "    </tr>\n",
       "    <tr>\n",
       "      <th>4</th>\n",
       "      <td>2.0</td>\n",
       "      <td>-1.158233</td>\n",
       "      <td>0.877737</td>\n",
       "      <td>1.548718</td>\n",
       "      <td>0.403034</td>\n",
       "      <td>-0.407193</td>\n",
       "      <td>0.095921</td>\n",
       "      <td>0.592941</td>\n",
       "      <td>-0.270533</td>\n",
       "      <td>0.817739</td>\n",
       "      <td>...</td>\n",
       "      <td>-0.009431</td>\n",
       "      <td>0.798278</td>\n",
       "      <td>-0.137458</td>\n",
       "      <td>0.141267</td>\n",
       "      <td>-0.206010</td>\n",
       "      <td>0.502292</td>\n",
       "      <td>0.219422</td>\n",
       "      <td>0.215153</td>\n",
       "      <td>69.99</td>\n",
       "      <td>0</td>\n",
       "    </tr>\n",
       "  </tbody>\n",
       "</table>\n",
       "<p>5 rows × 31 columns</p>\n",
       "</div>"
      ],
      "text/plain": [
       "   Time        V1        V2        V3        V4        V5        V6        V7  \\\n",
       "0   0.0 -1.359807 -0.072781  2.536347  1.378155 -0.338321  0.462388  0.239599   \n",
       "1   0.0  1.191857  0.266151  0.166480  0.448154  0.060018 -0.082361 -0.078803   \n",
       "2   1.0 -1.358354 -1.340163  1.773209  0.379780 -0.503198  1.800499  0.791461   \n",
       "3   1.0 -0.966272 -0.185226  1.792993 -0.863291 -0.010309  1.247203  0.237609   \n",
       "4   2.0 -1.158233  0.877737  1.548718  0.403034 -0.407193  0.095921  0.592941   \n",
       "\n",
       "         V8        V9  ...       V21       V22       V23       V24       V25  \\\n",
       "0  0.098698  0.363787  ... -0.018307  0.277838 -0.110474  0.066928  0.128539   \n",
       "1  0.085102 -0.255425  ... -0.225775 -0.638672  0.101288 -0.339846  0.167170   \n",
       "2  0.247676 -1.514654  ...  0.247998  0.771679  0.909412 -0.689281 -0.327642   \n",
       "3  0.377436 -1.387024  ... -0.108300  0.005274 -0.190321 -1.175575  0.647376   \n",
       "4 -0.270533  0.817739  ... -0.009431  0.798278 -0.137458  0.141267 -0.206010   \n",
       "\n",
       "        V26       V27       V28  Amount  Class  \n",
       "0 -0.189115  0.133558 -0.021053  149.62      0  \n",
       "1  0.125895 -0.008983  0.014724    2.69      0  \n",
       "2 -0.139097 -0.055353 -0.059752  378.66      0  \n",
       "3 -0.221929  0.062723  0.061458  123.50      0  \n",
       "4  0.502292  0.219422  0.215153   69.99      0  \n",
       "\n",
       "[5 rows x 31 columns]"
      ]
     },
     "execution_count": 8,
     "metadata": {},
     "output_type": "execute_result"
    }
   ],
   "source": [
    "data.head()"
   ]
  },
  {
   "cell_type": "markdown",
   "metadata": {
    "cell_id": "27c242c1ffd2410a97cd9139578162da",
    "deepnote_cell_height": 70,
    "deepnote_cell_type": "markdown",
    "tags": []
   },
   "source": [
    "## Functions"
   ]
  },
  {
   "cell_type": "code",
   "execution_count": null,
   "metadata": {
    "cell_id": "f011a4e99d2345f19721f6a83fd9284f",
    "deepnote_cell_height": 477,
    "deepnote_cell_type": "code",
    "deepnote_to_be_reexecuted": false,
    "execution_millis": 1,
    "execution_start": 1655337102620,
    "source_hash": "42c07dc8",
    "tags": []
   },
   "outputs": [],
   "source": [
    "\n",
    "def model_classifier(x_T, y_T, x_t, y_t, kf, type='decision tree'):\n",
    "    '''\n",
    "    Function to iterate through all models with default parameters.\n",
    "    '''\n",
    "    if type == 'decision tree':\n",
    "        m = DecisionTreeClassifier()\n",
    "    if type == 'random forest':\n",
    "        m =  RandomForestClassifier()\n",
    "    if type == 'AdaBoost':\n",
    "        m = AdaBoostClassifier()\n",
    "    if type == 'xgb':\n",
    "        m = xgb.XGBClassifier()\n",
    "    \n",
    "    m.fit(x_T, y_T)\n",
    "    cv_score = cross_val_score(m, x_T, y_T, scoring = 'recall', cv = kf)\n",
    "    y_test_predict = m.predict(x_t)\n",
    "    recall = recall_score(y_t, y_test_predict)\n",
    "    accuracy = accuracy_score(y_t, y_test_predict)\n",
    "    f_score = f1_score(y_t, y_test_predict)\n",
    "    precision = precision_score(y_t, y_test_predict)\n",
    "\n",
    "    return m, cv_score, recall, accuracy, f_score, precision"
   ]
  },
  {
   "cell_type": "markdown",
   "metadata": {
    "cell_id": "5f96814744f34e479fe34da0383fce87",
    "deepnote_cell_height": 70,
    "deepnote_cell_type": "markdown",
    "tags": []
   },
   "source": [
    "## Balancing"
   ]
  },
  {
   "cell_type": "code",
   "execution_count": null,
   "metadata": {
    "cell_id": "4e0caf7b4a554bafb4544e534160a126",
    "deepnote_cell_height": 189,
    "deepnote_cell_type": "code",
    "deepnote_to_be_reexecuted": false,
    "execution_millis": 0,
    "execution_start": 1655337102621,
    "source_hash": "4e92c7f",
    "tags": []
   },
   "outputs": [],
   "source": [
    "# Separate response and features\n",
    "y = data[\"Class\"] # target \n",
    "X = data.iloc[:,:-1]\n",
    "\n",
    "model_list = ['decision tree', 'random forest', 'AdaBoost', 'xgb']\n",
    "kf = StratifiedKFold(n_splits=5, shuffle = False)\n"
   ]
  },
  {
   "cell_type": "markdown",
   "metadata": {
    "cell_id": "60d78e278e924e7da28f0fea6830496c",
    "deepnote_cell_height": 62,
    "deepnote_cell_type": "markdown",
    "tags": []
   },
   "source": [
    "### No Balance"
   ]
  },
  {
   "cell_type": "code",
   "execution_count": null,
   "metadata": {
    "cell_id": "5b4faab8bd4f4e41b70fadbd84c01d8b",
    "deepnote_cell_height": 117,
    "deepnote_cell_type": "code",
    "deepnote_to_be_reexecuted": false,
    "execution_millis": 100,
    "execution_start": 1655337102622,
    "source_hash": "68457cfe",
    "tags": []
   },
   "outputs": [],
   "source": [
    "from sklearn.model_selection import train_test_split \n",
    "X_train, X_test, y_train, y_test = train_test_split( \n",
    "        X, y, test_size = 0.2, random_state = 42)"
   ]
  },
  {
   "cell_type": "code",
   "execution_count": null,
   "metadata": {
    "cell_id": "e9bd66fc44f84ba386e7eb7d727b51ca",
    "deepnote_cell_height": 153,
    "deepnote_cell_type": "code",
    "deepnote_to_be_reexecuted": false,
    "execution_millis": 2248814,
    "execution_start": 1655337102734,
    "source_hash": "722689a0",
    "tags": []
   },
   "outputs": [],
   "source": [
    "m_nobal_dt, cv_score_nobal_dt, recall_nobal_dt, accuracy_nobal_dt, f_score_nobal_dt, precision_nobal_dt = model_classifier(X_train, y_train, X_test, y_test, kf, type='decision tree')\n",
    "m_nobal_rf, cv_score_nobal_rf, recall_nobal_rf, accuracy_nobal_rf, f_score_nobal_rf, precision_nobal_rf = model_classifier(X_train, y_train, X_test, y_test, kf,type='random forest')\n",
    "m_nobal_adb, cv_score_nobal_adb, recall_nobal_adb, accuracy_nobal_adb, f_score_nobal_adb, precision_nobal_adb = model_classifier(X_train, y_train, X_test, y_test, kf, type='AdaBoost')\n",
    "m_nobal_xgb, cv_score_nobal_xgb, recall_nobal_xgb, accuracy_nobal_xgb, f_score_nobal_xgb, precision_nobal_xgb = model_classifier(X_train, y_train, X_test, y_test, kf, type='xgb')\n"
   ]
  },
  {
   "cell_type": "code",
   "execution_count": null,
   "metadata": {
    "cell_id": "03a5014cc81c42a3aea1da53a55db478",
    "deepnote_cell_height": 214.1875,
    "deepnote_cell_type": "code",
    "deepnote_output_heights": [
     117.1875
    ],
    "deepnote_to_be_reexecuted": false,
    "execution_millis": 3,
    "execution_start": 1655339351548,
    "source_hash": "95c332cd",
    "tags": []
   },
   "outputs": [
    {
     "data": {
      "text/plain": [
       "(DecisionTreeClassifier(),\n",
       " array([0.82051282, 0.72151899, 0.74683544, 0.78481013, 0.79746835]),\n",
       " 0.7959183673469388,\n",
       " 0.9990871107053826,\n",
       " 0.75,\n",
       " 0.7090909090909091)"
      ]
     },
     "execution_count": 13,
     "metadata": {},
     "output_type": "execute_result"
    }
   ],
   "source": [
    "m_nobal_dt, cv_score_nobal_dt, recall_nobal_dt, accuracy_nobal_dt, f_score_nobal_dt, precision_nobal_dt"
   ]
  },
  {
   "cell_type": "code",
   "execution_count": null,
   "metadata": {
    "cell_id": "502ba1000e71468aa22fc7fe263d2d1a",
    "deepnote_cell_height": 214.1875,
    "deepnote_cell_type": "code",
    "deepnote_output_heights": [
     117.1875
    ],
    "deepnote_to_be_reexecuted": false,
    "execution_millis": 0,
    "execution_start": 1655339351549,
    "source_hash": "a563caab",
    "tags": []
   },
   "outputs": [
    {
     "data": {
      "text/plain": [
       "(RandomForestClassifier(),\n",
       " array([0.78205128, 0.70886076, 0.72151899, 0.78481013, 0.82278481]),\n",
       " 0.7755102040816326,\n",
       " 0.9995786664794073,\n",
       " 0.8636363636363635,\n",
       " 0.9743589743589743)"
      ]
     },
     "execution_count": 14,
     "metadata": {},
     "output_type": "execute_result"
    }
   ],
   "source": [
    "m_nobal_rf, cv_score_nobal_rf, recall_nobal_rf, accuracy_nobal_rf, f_score_nobal_rf, precision_nobal_rf"
   ]
  },
  {
   "cell_type": "code",
   "execution_count": null,
   "metadata": {
    "cell_id": "1ae3e7bcb21f478bbf825d5e7311e833",
    "deepnote_cell_height": 214.1875,
    "deepnote_cell_type": "code",
    "deepnote_output_heights": [
     117.1875
    ],
    "deepnote_to_be_reexecuted": false,
    "execution_millis": 70269632,
    "execution_start": 1655339351592,
    "source_hash": "47b05c5f",
    "tags": []
   },
   "outputs": [
    {
     "data": {
      "text/plain": [
       "(AdaBoostClassifier(),\n",
       " array([0.75641026, 0.5443038 , 0.6835443 , 0.72151899, 0.72151899]),\n",
       " 0.7244897959183674,\n",
       " 0.9993153330290369,\n",
       " 0.7845303867403315,\n",
       " 0.8554216867469879)"
      ]
     },
     "execution_count": 15,
     "metadata": {},
     "output_type": "execute_result"
    }
   ],
   "source": [
    "m_nobal_adb, cv_score_nobal_adb, recall_nobal_adb, accuracy_nobal_adb, f_score_nobal_adb, precision_nobal_adb"
   ]
  },
  {
   "cell_type": "code",
   "execution_count": null,
   "metadata": {
    "cell_id": "5c4c167d8d504f5aa6485516bc171a45",
    "deepnote_cell_height": 387,
    "deepnote_cell_type": "code",
    "deepnote_output_heights": [
     290
    ],
    "deepnote_to_be_reexecuted": false,
    "execution_millis": 3,
    "execution_start": 1655339351592,
    "source_hash": "c7090c24",
    "tags": []
   },
   "outputs": [
    {
     "data": {
      "text/plain": [
       "(XGBClassifier(base_score=0.5, booster='gbtree', callbacks=None,\n",
       "               colsample_bylevel=1, colsample_bynode=1, colsample_bytree=1,\n",
       "               early_stopping_rounds=None, enable_categorical=False,\n",
       "               eval_metric=None, gamma=0, gpu_id=-1, grow_policy='depthwise',\n",
       "               importance_type=None, interaction_constraints='',\n",
       "               learning_rate=0.300000012, max_bin=256, max_cat_to_onehot=4,\n",
       "               max_delta_step=0, max_depth=6, max_leaves=0, min_child_weight=1,\n",
       "               missing=nan, monotone_constraints='()', n_estimators=100,\n",
       "               n_jobs=0, num_parallel_tree=1, predictor='auto', random_state=0,\n",
       "               reg_alpha=0, reg_lambda=1, ...),\n",
       " array([0.82051282, 0.74683544, 0.7721519 , 0.79746835, 0.82278481]),\n",
       " 0.7959183673469388,\n",
       " 0.9996313331694814,\n",
       " 0.8813559322033897,\n",
       " 0.9873417721518988)"
      ]
     },
     "execution_count": 16,
     "metadata": {},
     "output_type": "execute_result"
    }
   ],
   "source": [
    "m_nobal_xgb, cv_score_nobal_xgb, recall_nobal_xgb, accuracy_nobal_xgb, f_score_nobal_xgb, precision_nobal_xgb"
   ]
  },
  {
   "cell_type": "markdown",
   "metadata": {
    "cell_id": "2b30aee7488641ca82d5ce72010a7ef4",
    "deepnote_cell_height": 62,
    "deepnote_cell_type": "markdown",
    "tags": []
   },
   "source": [
    "### SMOTE\n",
    "\n"
   ]
  },
  {
   "cell_type": "code",
   "execution_count": null,
   "metadata": {
    "cell_id": "e5541b50d53346d7983f74716be677ec",
    "deepnote_cell_height": 99,
    "deepnote_cell_type": "code",
    "deepnote_to_be_reexecuted": false,
    "execution_millis": 625,
    "execution_start": 1655339351593,
    "source_hash": "cf602f9e",
    "tags": []
   },
   "outputs": [],
   "source": [
    "oversample = SMOTE()\n",
    "X_smote, y_smote = oversample.fit_resample(X, y)"
   ]
  },
  {
   "cell_type": "code",
   "execution_count": null,
   "metadata": {
    "cell_id": "580a53c10f4b4d67b0c3251e541756bc",
    "deepnote_cell_height": 156.578125,
    "deepnote_cell_type": "code",
    "deepnote_output_heights": [
     59.59375
    ],
    "deepnote_to_be_reexecuted": false,
    "execution_millis": 11,
    "execution_start": 1655339352223,
    "source_hash": "d1a4928d",
    "tags": []
   },
   "outputs": [
    {
     "data": {
      "text/plain": [
       "0    284315\n",
       "1       492\n",
       "Name: Class, dtype: int64"
      ]
     },
     "execution_count": 18,
     "metadata": {},
     "output_type": "execute_result"
    }
   ],
   "source": [
    "y.value_counts()"
   ]
  },
  {
   "cell_type": "code",
   "execution_count": null,
   "metadata": {
    "cell_id": "9f597173334d46c1b0b031ab44edf6ae",
    "deepnote_cell_height": 157,
    "deepnote_cell_type": "code",
    "deepnote_output_heights": [
     59.59375
    ],
    "deepnote_to_be_reexecuted": false,
    "execution_millis": 24,
    "execution_start": 1655339352238,
    "source_hash": "b9f328e1",
    "tags": []
   },
   "outputs": [
    {
     "data": {
      "text/plain": [
       "0    284315\n",
       "1    284315\n",
       "Name: Class, dtype: int64"
      ]
     },
     "execution_count": 19,
     "metadata": {},
     "output_type": "execute_result"
    }
   ],
   "source": [
    "y_smote.value_counts()"
   ]
  },
  {
   "cell_type": "code",
   "execution_count": null,
   "metadata": {
    "cell_id": "3e49ef755f684c5aac3b274ca9410862",
    "deepnote_cell_height": 135,
    "deepnote_cell_type": "code",
    "deepnote_to_be_reexecuted": false,
    "execution_millis": 191,
    "execution_start": 1655339352301,
    "source_hash": "49e84d4d",
    "tags": []
   },
   "outputs": [],
   "source": [
    "from sklearn.model_selection import train_test_split \n",
    "X_train, X_test, y_train, y_test = train_test_split( \n",
    "        X_smote, y_smote, test_size = 0.2, random_state = 42)\n"
   ]
  },
  {
   "cell_type": "code",
   "execution_count": null,
   "metadata": {
    "cell_id": "825957f1e0214c99b6ccb07f91ad0519",
    "deepnote_cell_height": 81,
    "deepnote_cell_type": "code",
    "deepnote_to_be_reexecuted": false,
    "execution_millis": 241844,
    "execution_start": 1655339352535,
    "source_hash": "984e20d4",
    "tags": []
   },
   "outputs": [],
   "source": [
    "m_smote_dt, cv_score_smote_dt, recall_smote_dt, accuracy_smote_dt, f_score_smote_dt, precision_smote_dt = model_classifier(X_train, y_train, X_test, y_test, kf, type='decision tree')"
   ]
  },
  {
   "cell_type": "code",
   "execution_count": null,
   "metadata": {
    "cell_id": "d1898ad95c5045b3bce81b7cd1975ffe",
    "deepnote_cell_height": 81,
    "deepnote_cell_type": "code",
    "deepnote_to_be_reexecuted": false,
    "execution_millis": 2329111,
    "execution_start": 1655339594380,
    "source_hash": "1aab8245",
    "tags": []
   },
   "outputs": [],
   "source": [
    "m_smote_rf, cv_score_smote_rf, recall_smote_rf, accuracy_smote_rf, f_score_smote_rf, precision_smote_rf = model_classifier(X_train, y_train, X_test, y_test, kf,type='random forest')"
   ]
  },
  {
   "cell_type": "code",
   "execution_count": null,
   "metadata": {
    "cell_id": "0835cc2ee47d4d33b5fcf04a9f398f55",
    "deepnote_cell_height": 81,
    "deepnote_cell_type": "code",
    "deepnote_to_be_reexecuted": false,
    "execution_millis": 721291,
    "execution_start": 1655341923492,
    "source_hash": "a627ddaf",
    "tags": []
   },
   "outputs": [],
   "source": [
    "m_smote_adb, cv_score_smote_adb, recall_smote_adb, accuracy_smote_adb, f_score_smote_adb, precision_smote_adb = model_classifier(X_train, y_train, X_test, y_test, kf, type='AdaBoost')"
   ]
  },
  {
   "cell_type": "code",
   "execution_count": null,
   "metadata": {
    "cell_id": "5a0c375ecdd547d28f8d95ad398d7c5c",
    "deepnote_cell_height": 81,
    "deepnote_cell_type": "code",
    "deepnote_output_heights": [
     21.1875
    ],
    "deepnote_to_be_reexecuted": false,
    "execution_millis": 1562290,
    "execution_start": 1655342644783,
    "source_hash": "757758b1",
    "tags": []
   },
   "outputs": [],
   "source": [
    "m_smote_xgb, cv_score_smote_xgb, recall_smote_xgb, accuracy_smote_xgb, f_score_smote_xgb, precision_smote_xgb = model_classifier(X_train, y_train, X_test, y_test, kf, type='xgb')"
   ]
  },
  {
   "cell_type": "code",
   "execution_count": null,
   "metadata": {
    "cell_id": "49db474699d746bea0eab6fa35937279",
    "deepnote_cell_height": 214.1875,
    "deepnote_cell_type": "code",
    "deepnote_output_heights": [
     117.1875
    ],
    "deepnote_to_be_reexecuted": false,
    "execution_millis": 5,
    "execution_start": 1655344207074,
    "source_hash": "d0fbb9c",
    "tags": []
   },
   "outputs": [
    {
     "data": {
      "text/plain": [
       "(DecisionTreeClassifier(),\n",
       " array([0.99857042, 0.99894431, 0.9986584 , 0.99896631, 0.99872435]),\n",
       " 0.999280398764392,\n",
       " 0.9987337987795227,\n",
       " 0.9987369972108688,\n",
       " 0.998194186331919)"
      ]
     },
     "execution_count": 25,
     "metadata": {},
     "output_type": "execute_result"
    }
   ],
   "source": [
    "m_smote_dt, cv_score_smote_dt, recall_smote_dt, accuracy_smote_dt, f_score_smote_dt, precision_smote_dt"
   ]
  },
  {
   "cell_type": "code",
   "execution_count": null,
   "metadata": {
    "cell_id": "e4790f9ce600496ba4241daa10ceb0b4",
    "deepnote_cell_height": 214.1875,
    "deepnote_cell_type": "code",
    "deepnote_output_heights": [
     117.1875
    ],
    "deepnote_to_be_reexecuted": false,
    "execution_millis": 4,
    "execution_start": 1655344207075,
    "source_hash": "8b304086",
    "tags": []
   },
   "outputs": [
    {
     "data": {
      "text/plain": [
       "(RandomForestClassifier(),\n",
       " array([0.99997801, 1.        , 1.        , 0.99997801, 1.        ]),\n",
       " 0.999982448750351,\n",
       " 0.9998944832316269,\n",
       " 0.9998947017426862,\n",
       " 0.9998069701330151)"
      ]
     },
     "execution_count": 26,
     "metadata": {},
     "output_type": "execute_result"
    }
   ],
   "source": [
    "m_smote_rf, cv_score_smote_rf, recall_smote_rf, accuracy_smote_rf, f_score_smote_rf, precision_smote_rf"
   ]
  },
  {
   "cell_type": "code",
   "execution_count": null,
   "metadata": {
    "cell_id": "816b723690244c58be6c1e36d9142870",
    "deepnote_cell_height": 214.1875,
    "deepnote_cell_type": "code",
    "deepnote_output_heights": [
     117.1875
    ],
    "deepnote_to_be_reexecuted": false,
    "execution_millis": 41,
    "execution_start": 1655344207076,
    "source_hash": "c8ee8ca6",
    "tags": []
   },
   "outputs": [
    {
     "data": {
      "text/plain": [
       "(AdaBoostClassifier(),\n",
       " array([0.97468549, 0.97404768, 0.97657693, 0.97519134, 0.9718917 ]),\n",
       " 0.9744804830103904,\n",
       " 0.9810069816928407,\n",
       " 0.980919402141267,\n",
       " 0.9874439780892083)"
      ]
     },
     "execution_count": 27,
     "metadata": {},
     "output_type": "execute_result"
    }
   ],
   "source": [
    "m_smote_adb, cv_score_smote_adb, recall_smote_adb, accuracy_smote_adb, f_score_smote_adb, precision_smote_adb"
   ]
  },
  {
   "cell_type": "code",
   "execution_count": null,
   "metadata": {
    "cell_id": "06c5fa8ef3634066976535e7c40b269c",
    "deepnote_cell_height": 387,
    "deepnote_cell_type": "code",
    "deepnote_output_heights": [
     290
    ],
    "deepnote_to_be_reexecuted": false,
    "execution_millis": 2,
    "execution_start": 1655344207116,
    "source_hash": "7190e84c",
    "tags": []
   },
   "outputs": [
    {
     "data": {
      "text/plain": [
       "(XGBClassifier(base_score=0.5, booster='gbtree', callbacks=None,\n",
       "               colsample_bylevel=1, colsample_bynode=1, colsample_bytree=1,\n",
       "               early_stopping_rounds=None, enable_categorical=False,\n",
       "               eval_metric=None, gamma=0, gpu_id=-1, grow_policy='depthwise',\n",
       "               importance_type=None, interaction_constraints='',\n",
       "               learning_rate=0.300000012, max_bin=256, max_cat_to_onehot=4,\n",
       "               max_delta_step=0, max_depth=6, max_leaves=0, min_child_weight=1,\n",
       "               missing=nan, monotone_constraints='()', n_estimators=100,\n",
       "               n_jobs=0, num_parallel_tree=1, predictor='auto', random_state=0,\n",
       "               reg_alpha=0, reg_lambda=1, ...),\n",
       " array([0.99997801, 0.99997801, 0.99997801, 1.        , 1.        ]),\n",
       " 1.0,\n",
       " 0.9998856901675958,\n",
       " 0.999885929890756,\n",
       " 0.9997718858025233)"
      ]
     },
     "execution_count": 28,
     "metadata": {},
     "output_type": "execute_result"
    }
   ],
   "source": [
    "m_smote_xgb, cv_score_smote_xgb, recall_smote_xgb, accuracy_smote_xgb, f_score_smote_xgb, precision_smote_xgb"
   ]
  },
  {
   "cell_type": "markdown",
   "metadata": {
    "cell_id": "4d1d6dfb8c9a485191cb3b8afee8d43f",
    "deepnote_cell_height": 62,
    "deepnote_cell_type": "markdown",
    "tags": []
   },
   "source": [
    "### Tomek Links"
   ]
  },
  {
   "cell_type": "code",
   "execution_count": null,
   "metadata": {
    "cell_id": "b46e773d035c47709a0554862d86856e",
    "deepnote_cell_height": 99,
    "deepnote_cell_type": "code",
    "deepnote_to_be_reexecuted": false,
    "execution_millis": 1486420,
    "execution_start": 1655344207117,
    "source_hash": "cbd80c11",
    "tags": []
   },
   "outputs": [],
   "source": [
    "undersample = TomekLinks(sampling_strategy='majority')\n",
    "X_tl, y_tl = undersample.fit_resample(X, y)"
   ]
  },
  {
   "cell_type": "code",
   "execution_count": null,
   "metadata": {
    "cell_id": "f9983c6952df40e290d40349640550a1",
    "deepnote_cell_height": 156.578125,
    "deepnote_cell_type": "code",
    "deepnote_output_heights": [
     59.59375
    ],
    "deepnote_to_be_reexecuted": false,
    "execution_millis": 12,
    "execution_start": 1655345693537,
    "source_hash": "d1a4928d",
    "tags": []
   },
   "outputs": [
    {
     "data": {
      "text/plain": [
       "0    284315\n",
       "1       492\n",
       "Name: Class, dtype: int64"
      ]
     },
     "execution_count": 30,
     "metadata": {},
     "output_type": "execute_result"
    }
   ],
   "source": [
    "y.value_counts()"
   ]
  },
  {
   "cell_type": "code",
   "execution_count": null,
   "metadata": {
    "cell_id": "1e72d209e9ae41a486e4a4ba61b04f1b",
    "deepnote_cell_height": 156.578125,
    "deepnote_cell_type": "code",
    "deepnote_output_heights": [
     59.59375
    ],
    "deepnote_to_be_reexecuted": false,
    "execution_millis": 11,
    "execution_start": 1655345693538,
    "source_hash": "922fcf46",
    "tags": []
   },
   "outputs": [
    {
     "data": {
      "text/plain": [
       "0    284244\n",
       "1       492\n",
       "Name: Class, dtype: int64"
      ]
     },
     "execution_count": 31,
     "metadata": {},
     "output_type": "execute_result"
    }
   ],
   "source": [
    "y_tl.value_counts()"
   ]
  },
  {
   "cell_type": "code",
   "execution_count": null,
   "metadata": {
    "cell_id": "680a903953ac4b7a9897e0945efe0e6a",
    "deepnote_cell_height": 117,
    "deepnote_cell_type": "code",
    "deepnote_to_be_reexecuted": false,
    "execution_millis": 89,
    "execution_start": 1655345832036,
    "source_hash": "a698d2f5",
    "tags": []
   },
   "outputs": [],
   "source": [
    "from sklearn.model_selection import train_test_split \n",
    "X_train, X_test, y_train, y_test = train_test_split( \n",
    "        X_tl, y_tl, test_size = 0.2, random_state = 42)"
   ]
  },
  {
   "cell_type": "code",
   "execution_count": null,
   "metadata": {
    "cell_id": "4f86fc52a5dd4cf5a5877c5fd34f86ac",
    "deepnote_cell_height": 135,
    "deepnote_cell_type": "code",
    "deepnote_to_be_reexecuted": false,
    "execution_millis": 3653148,
    "execution_start": 1655345834375,
    "source_hash": "672948e",
    "tags": []
   },
   "outputs": [],
   "source": [
    "m_tl_dt, cv_score_tl_dt, recall_tl_dt, accuracy_tl_dt, f_score_tl_dt, precision_tl_dt = model_classifier(X_train, y_train, X_test, y_test, kf, type='decision tree')\n",
    "m_tl_rf, cv_score_tl_rf, recall_tl_rf, accuracy_tl_rf, f_score_tl_rf, precision_tl_rf = model_classifier(X_train, y_train, X_test, y_test, kf,type='random forest')\n",
    "m_tl_adb, cv_score_tl_adb, recall_tl_adb, accuracy_tl_adb, f_score_tl_adb, precision_tl_adb = model_classifier(X_train, y_train, X_test, y_test, kf, type='AdaBoost')\n",
    "m_tl_xgb, cv_score_tl_xgb, recall_tl_xgb, accuracy_tl_xgb, f_score_tl_xgb, precision_tl_xgb = model_classifier(X_train, y_train, X_test, y_test, kf, type='xgb')"
   ]
  },
  {
   "cell_type": "code",
   "execution_count": null,
   "metadata": {
    "cell_id": "51ea2ebbf81a4fc6aa4233d656f9b907",
    "deepnote_cell_height": 214.1875,
    "deepnote_cell_type": "code",
    "deepnote_output_heights": [
     117.1875
    ],
    "deepnote_to_be_reexecuted": false,
    "execution_millis": 62,
    "execution_start": 1655349487524,
    "source_hash": "2ea8c819",
    "tags": []
   },
   "outputs": [
    {
     "data": {
      "text/plain": [
       "(DecisionTreeClassifier(),\n",
       " array([0.74074074, 0.7654321 , 0.79012346, 0.7875    , 0.82716049]),\n",
       " 0.6931818181818182,\n",
       " 0.9991044461614104,\n",
       " 0.7052023121387283,\n",
       " 0.7176470588235294)"
      ]
     },
     "execution_count": 36,
     "metadata": {},
     "output_type": "execute_result"
    }
   ],
   "source": [
    "m_tl_dt, cv_score_tl_dt, recall_tl_dt, accuracy_tl_dt, f_score_tl_dt, precision_tl_dt"
   ]
  },
  {
   "cell_type": "code",
   "execution_count": null,
   "metadata": {
    "cell_id": "c359105918e64a44829b7698c535581b",
    "deepnote_cell_height": 214.1875,
    "deepnote_cell_type": "code",
    "deepnote_output_heights": [
     117.1875
    ],
    "deepnote_to_be_reexecuted": false,
    "execution_millis": 57,
    "execution_start": 1655349487531,
    "source_hash": "86f47278",
    "tags": []
   },
   "outputs": [
    {
     "data": {
      "text/plain": [
       "(RandomForestClassifier(),\n",
       " array([0.74074074, 0.77777778, 0.79012346, 0.775     , 0.86419753]),\n",
       " 0.7386363636363636,\n",
       " 0.9994732036243591,\n",
       " 0.8125,\n",
       " 0.9027777777777778)"
      ]
     },
     "execution_count": 37,
     "metadata": {},
     "output_type": "execute_result"
    }
   ],
   "source": [
    "m_tl_rf, cv_score_tl_rf, recall_tl_rf, accuracy_tl_rf, f_score_tl_rf, precision_tl_rf"
   ]
  },
  {
   "cell_type": "code",
   "execution_count": null,
   "metadata": {
    "cell_id": "b87355285fcd4e3f967b3ecc37f27c0a",
    "deepnote_cell_height": 214.1875,
    "deepnote_cell_type": "code",
    "deepnote_output_heights": [
     117.1875
    ],
    "deepnote_to_be_reexecuted": false,
    "execution_millis": 46,
    "execution_start": 1655349487551,
    "source_hash": "ed54d4a8",
    "tags": []
   },
   "outputs": [
    {
     "data": {
      "text/plain": [
       "(AdaBoostClassifier(),\n",
       " array([0.64197531, 0.72839506, 0.71604938, 0.7       , 0.80246914]),\n",
       " 0.6704545454545454,\n",
       " 0.9991571257989745,\n",
       " 0.7108433734939757,\n",
       " 0.7564102564102564)"
      ]
     },
     "execution_count": 38,
     "metadata": {},
     "output_type": "execute_result"
    }
   ],
   "source": [
    "m_tl_adb, cv_score_tl_adb, recall_tl_adb, accuracy_tl_adb, f_score_tl_adb, precision_tl_adb"
   ]
  },
  {
   "cell_type": "code",
   "execution_count": null,
   "metadata": {
    "cell_id": "5ddf66793d504cf0884492a677d643a9",
    "deepnote_cell_height": 387,
    "deepnote_cell_type": "code",
    "deepnote_output_heights": [
     290
    ],
    "deepnote_to_be_reexecuted": false,
    "execution_millis": 40,
    "execution_start": 1655349487577,
    "source_hash": "9dca1147",
    "tags": []
   },
   "outputs": [
    {
     "data": {
      "text/plain": [
       "(XGBClassifier(base_score=0.5, booster='gbtree', callbacks=None,\n",
       "               colsample_bylevel=1, colsample_bynode=1, colsample_bytree=1,\n",
       "               early_stopping_rounds=None, enable_categorical=False,\n",
       "               eval_metric=None, gamma=0, gpu_id=-1, grow_policy='depthwise',\n",
       "               importance_type=None, interaction_constraints='',\n",
       "               learning_rate=0.300000012, max_bin=256, max_cat_to_onehot=4,\n",
       "               max_delta_step=0, max_depth=6, max_leaves=0, min_child_weight=1,\n",
       "               missing=nan, monotone_constraints='()', n_estimators=100,\n",
       "               n_jobs=0, num_parallel_tree=1, predictor='auto', random_state=0,\n",
       "               reg_alpha=0, reg_lambda=1, ...),\n",
       " array([0.75308642, 0.80246914, 0.83950617, 0.8       , 0.86419753]),\n",
       " 0.75,\n",
       " 0.9995258832619232,\n",
       " 0.830188679245283,\n",
       " 0.9295774647887324)"
      ]
     },
     "execution_count": 39,
     "metadata": {},
     "output_type": "execute_result"
    }
   ],
   "source": [
    "m_tl_xgb, cv_score_tl_xgb, recall_tl_xgb, accuracy_tl_xgb, f_score_tl_xgb, precision_tl_xgb"
   ]
  },
  {
   "cell_type": "markdown",
   "metadata": {
    "cell_id": "dfa7bfa15bed4b6da381a00eb7953a62",
    "deepnote_cell_height": 70,
    "deepnote_cell_type": "markdown",
    "tags": []
   },
   "source": [
    "## Hyperparameter Tuning with Genetic Algorithm"
   ]
  },
  {
   "cell_type": "code",
   "execution_count": null,
   "metadata": {
    "cell_id": "863cfcf593fc4f2eac9c388405b635eb",
    "deepnote_cell_height": 135,
    "deepnote_cell_type": "code",
    "deepnote_to_be_reexecuted": true,
    "source_hash": "61a3bf1a",
    "tags": []
   },
   "outputs": [],
   "source": [
    "X = data.iloc[:,:-1]\n",
    "Y = data.iloc[:,-1].values\n",
    "\n",
    "X_std = RobustScaler().fit_transform(X)"
   ]
  },
  {
   "cell_type": "code",
   "execution_count": null,
   "metadata": {
    "cell_id": "a8bea99ebaa6408cbe39e02759f265a4",
    "deepnote_cell_height": 585,
    "deepnote_cell_type": "code",
    "deepnote_to_be_reexecuted": true,
    "source_hash": "9b3b909",
    "tags": []
   },
   "outputs": [],
   "source": [
    "def get_param(p):\n",
    "    #Función que retorna un parámetro aleatorio p\n",
    "\n",
    "    criterion = ['gini', 'entropy']\n",
    "    max_depth = [1, 11]\n",
    "    max_features = [1, 11]\n",
    "    max_leaf_nodes = [2, 11]\n",
    "\n",
    "    return{\n",
    "        'criterion' : np.random.choice(criterion),\n",
    "        'max_depth' : np.random.randint(max_depth[0], max_depth[1]),\n",
    "        'min_samples_split' : np.random.rand(),\n",
    "        'max_features' : np.random.randint(max_features[0], max_features[1]),\n",
    "        'max_leaf_nodes' : np.random.randint(max_leaf_nodes[0], max_leaf_nodes[1])\n",
    "    }[p]\n",
    "    \n",
    "def initialize_population(pop_size = 10):\n",
    "    population = [] #Arreglo donde se guardará la población. Cada individuo contiene \n",
    "\n",
    "    for i in np.arange(pop_size):\n",
    "        population.append({\n",
    "            'criterion' : get_param('criterion'),\n",
    "            'max_depth' : get_param('max_depth'),\n",
    "            'min_samples_split' : get_param('min_samples_split'),\n",
    "            'max_features' : get_param('max_features'),\n",
    "            'max_leaf_nodes' : get_param('max_leaf_nodes')\n",
    "        })\n",
    "\n",
    "    return np.array(population)"
   ]
  },
  {
   "cell_type": "code",
   "execution_count": null,
   "metadata": {
    "cell_id": "dd5665ce0155463ba18fc7bff20330a9",
    "deepnote_cell_height": 423,
    "deepnote_cell_type": "code",
    "deepnote_to_be_reexecuted": true,
    "source_hash": "420e2279",
    "tags": []
   },
   "outputs": [],
   "source": [
    "#Seleccionar el mejor individuo basado en la función de fitness, que en este caso es Recall\n",
    "def fitness(y_true, y_pred):\n",
    "    return recall_score(y_true, y_pred)\n",
    "\n",
    "def train_population(population, X, Y):\n",
    "    #Cada individuo en \"population\" es un diccionario de parámetros, que pueden ser accedidos dentro de la función como \"**params\"\n",
    "    fitness_list = []\n",
    "    for params in population:\n",
    "        k_fold_recall = []\n",
    "        for train_index, test_index in skf.split(X, Y):\n",
    "            X_train, X_test = X[train_index], X[test_index]\n",
    "            Y_train, Y_test = Y[train_index], Y[test_index]\n",
    "\n",
    "            model = DecisionTreeClassifier(**params).fit(X_train, Y_train)\n",
    "            Y_pred = model.predict(X_test)\n",
    "            k_fold_recall.append(fitness(Y_test, Y_pred))\n",
    "\n",
    "        fitness_list.append(np.mean(k_fold_recall))\n",
    "    \n",
    "    return fitness_list"
   ]
  },
  {
   "cell_type": "code",
   "execution_count": null,
   "metadata": {
    "cell_id": "5b72fe1f79b44df7925b24693a97643a",
    "deepnote_cell_height": 693,
    "deepnote_cell_type": "code",
    "deepnote_to_be_reexecuted": true,
    "source_hash": "3eac8bc3",
    "tags": []
   },
   "outputs": [],
   "source": [
    "def train(population_size = 10, max_generations = 10, mutation_rate=0.1):\n",
    "    pop = initialize_population(population_size)\n",
    "    for gen in np.arange(max_generations):\n",
    "        #Obtener fitness score (recall) para cada individuo\n",
    "        fScores = np.array(train_population(pop, X_std, Y))\n",
    "\n",
    "        best_candidates = np.argsort(-fScores)[0:5]\n",
    "        new_population = pop[best_candidates]\n",
    "\n",
    "        #Crossover\n",
    "        while len(new_population) < population_size:\n",
    "            params1, params2 = np.random.choice(new_population, 2)\n",
    "\n",
    "            temp1 = params1.copy() #Copias para no modificar el diccionario original\n",
    "            temp2 = params2.copy()\n",
    "\n",
    "            #Seleccionar un número aleatorio de parámetros\n",
    "            cross_params = np.random.choice(list(params1.keys()), np.random.randint(1,len(params1)))\n",
    "\n",
    "            #Intercambiar cada parámetro en cross_params\n",
    "            for param in cross_params:\n",
    "                temp1.update({param : params2[param]})\n",
    "                temp2.update({param : params1[param]})\n",
    "\n",
    "            new_population = np.append(new_population, np.random.choice([temp1, temp2]))\n",
    "        \n",
    "        #Mutation\n",
    "        for c in np.arange(1,len(new_population)):\n",
    "            if np.random.rand() <= mutation_rate:\n",
    "                param = np.random.choice(list(new_population[c].keys()))\n",
    "                new_population[c].update({param : get_param(param)})\n",
    "\n",
    "        pop = new_population\n",
    "    \n",
    "    return pop, np.array(train_population(pop, X_std, Y))"
   ]
  },
  {
   "cell_type": "code",
   "execution_count": null,
   "metadata": {
    "cell_id": "254f39bc082b4812b3c4a9d69b68a9e9",
    "deepnote_cell_height": 81,
    "deepnote_cell_type": "code",
    "deepnote_to_be_reexecuted": true,
    "source_hash": "d4fc6fed",
    "tags": []
   },
   "outputs": [],
   "source": [
    "pop, recall = train(population_size=10, max_generations=1000)"
   ]
  },
  {
   "cell_type": "code",
   "execution_count": null,
   "metadata": {
    "cell_id": "5fd0a96fee994790ab037168c4c8fee4",
    "deepnote_cell_height": 81,
    "deepnote_cell_type": "code",
    "deepnote_to_be_reexecuted": true,
    "source_hash": "1233ec48",
    "tags": []
   },
   "outputs": [],
   "source": [
    "pop[np.argsort(-recall)[0]]"
   ]
  },
  {
   "cell_type": "code",
   "execution_count": null,
   "metadata": {
    "cell_id": "06dd6400b7d841fd91180902dc4c269f",
    "deepnote_cell_height": 81,
    "deepnote_cell_type": "code",
    "deepnote_to_be_reexecuted": true,
    "owner_user_id": "fd22ed77-b55d-44fe-832b-b2fc7abd31be",
    "source_hash": "a209711b",
    "tags": []
   },
   "outputs": [],
   "source": [
    "recall[np.argsort(-recall)[0]]"
   ]
  },
  {
   "cell_type": "markdown",
   "metadata": {
    "created_in_deepnote_cell": true,
    "deepnote_cell_type": "markdown",
    "tags": []
   },
   "source": [
    "<a style='text-decoration:none;line-height:16px;display:flex;color:#5B5B62;padding:10px;justify-content:end;' href='https://deepnote.com?utm_source=created-in-deepnote-cell&projectId=1cf319b8-4f28-46d4-a450-088e13b1d94a' target=\"_blank\">\n",
    "<img alt='Created in deepnote.com' style='display:inline;max-height:16px;margin:0px;margin-right:7.5px;' src='data:image/svg+xml;base64,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' > </img>\n",
    "Created in <span style='font-weight:600;margin-left:4px;'>Deepnote</span></a>"
   ]
  }
 ],
 "metadata": {
  "deepnote": {},
  "deepnote_execution_queue": [],
  "deepnote_notebook_id": "16b4668e-c8fb-4baf-8434-83fed1a0b211",
  "language_info": {
   "name": "python"
  },
  "orig_nbformat": 2
 },
 "nbformat": 4,
 "nbformat_minor": 2
}
